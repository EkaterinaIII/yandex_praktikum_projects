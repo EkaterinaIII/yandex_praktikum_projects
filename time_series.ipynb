{
 "cells": [
  {
   "cell_type": "markdown",
   "metadata": {
    "toc": true
   },
   "source": [
    "<h1>Содержание<span class=\"tocSkip\"></span></h1>\n",
    "<div class=\"toc\"><ul class=\"toc-item\"><li><span><a href=\"#Подготовка\" data-toc-modified-id=\"Подготовка-1\"><span class=\"toc-item-num\">1&nbsp;&nbsp;</span>Подготовка</a></span><ul class=\"toc-item\"><li><span><a href=\"#Импорт-библиотек\" data-toc-modified-id=\"Импорт-библиотек-1.1\"><span class=\"toc-item-num\">1.1&nbsp;&nbsp;</span>Импорт библиотек</a></span></li><li><span><a href=\"#Подготовка-данных\" data-toc-modified-id=\"Подготовка-данных-1.2\"><span class=\"toc-item-num\">1.2&nbsp;&nbsp;</span>Подготовка данных</a></span></li><li><span><a href=\"#Ресемплирование\" data-toc-modified-id=\"Ресемплирование-1.3\"><span class=\"toc-item-num\">1.3&nbsp;&nbsp;</span>Ресемплирование</a></span></li><li><span><a href=\"#Тренды-и-сезонность\" data-toc-modified-id=\"Тренды-и-сезонность-1.4\"><span class=\"toc-item-num\">1.4&nbsp;&nbsp;</span>Тренды и сезонность</a></span></li><li><span><a href=\"#Создание-признаков\" data-toc-modified-id=\"Создание-признаков-1.5\"><span class=\"toc-item-num\">1.5&nbsp;&nbsp;</span>Создание признаков</a></span></li><li><span><a href=\"#Разделение-на-выборки\" data-toc-modified-id=\"Разделение-на-выборки-1.6\"><span class=\"toc-item-num\">1.6&nbsp;&nbsp;</span>Разделение на выборки</a></span></li></ul></li><li><span><a href=\"#Обучение\" data-toc-modified-id=\"Обучение-2\"><span class=\"toc-item-num\">2&nbsp;&nbsp;</span>Обучение</a></span><ul class=\"toc-item\"><li><span><a href=\"#CatBoostRegressor\" data-toc-modified-id=\"CatBoostRegressor-2.1\"><span class=\"toc-item-num\">2.1&nbsp;&nbsp;</span>CatBoostRegressor</a></span></li><li><span><a href=\"#LGBMRegressor\" data-toc-modified-id=\"LGBMRegressor-2.2\"><span class=\"toc-item-num\">2.2&nbsp;&nbsp;</span>LGBMRegressor</a></span></li></ul></li><li><span><a href=\"#Тестирование\" data-toc-modified-id=\"Тестирование-3\"><span class=\"toc-item-num\">3&nbsp;&nbsp;</span>Тестирование</a></span></li><li><span><a href=\"#Итоговый-вывод:\" data-toc-modified-id=\"Итоговый-вывод:-4\"><span class=\"toc-item-num\">4&nbsp;&nbsp;</span>Итоговый вывод:</a></span></li></ul></div>"
   ]
  },
  {
   "cell_type": "markdown",
   "metadata": {},
   "source": [
    "#  Прогнозирование заказов такси"
   ]
  },
  {
   "cell_type": "markdown",
   "metadata": {},
   "source": [
    "Компания «Чётенькое такси» собрала исторические данные о заказах такси в аэропортах. Чтобы привлекать больше водителей в период пиковой нагрузки, нужно спрогнозировать количество заказов такси на следующий час. Постройте модель для такого предсказания.\n",
    "\n",
    "Значение метрики *RMSE* на тестовой выборке должно быть не больше 48.\n",
    "\n",
    "Вам нужно:\n",
    "\n",
    "1. Загрузить данные и выполнить их ресемплирование по одному часу.\n",
    "2. Проанализировать данные.\n",
    "3. Обучить разные модели с различными гиперпараметрами. Сделать тестовую выборку размером 10% от исходных данных.\n",
    "4. Проверить данные на тестовой выборке и сделать выводы.\n",
    "\n",
    "\n",
    "Данные лежат в файле `taxi.csv`. Количество заказов находится в столбце `num_orders` (от англ. *number of orders*, «число заказов»)."
   ]
  },
  {
   "cell_type": "markdown",
   "metadata": {},
   "source": [
    "## Подготовка"
   ]
  },
  {
   "cell_type": "code",
   "execution_count": 1,
   "metadata": {},
   "outputs": [
    {
     "name": "stdout",
     "output_type": "stream",
     "text": [
      "Requirement already satisfied: lightgbm in c:\\users\\zoika\\anaconda3\\lib\\site-packages (3.3.5)\n",
      "Requirement already satisfied: wheel in c:\\users\\zoika\\anaconda3\\lib\\site-packages (from lightgbm) (0.38.4)\n",
      "Requirement already satisfied: numpy in c:\\users\\zoika\\anaconda3\\lib\\site-packages (from lightgbm) (1.23.5)\n",
      "Requirement already satisfied: scikit-learn!=0.22.0 in c:\\users\\zoika\\anaconda3\\lib\\site-packages (from lightgbm) (1.2.2)\n",
      "Requirement already satisfied: scipy in c:\\users\\zoika\\anaconda3\\lib\\site-packages (from lightgbm) (1.10.1)\n",
      "Requirement already satisfied: joblib>=1.1.1 in c:\\users\\zoika\\anaconda3\\lib\\site-packages (from scikit-learn!=0.22.0->lightgbm) (1.1.1)\n",
      "Requirement already satisfied: threadpoolctl>=2.0.0 in c:\\users\\zoika\\anaconda3\\lib\\site-packages (from scikit-learn!=0.22.0->lightgbm) (2.2.0)\n"
     ]
    }
   ],
   "source": [
    "!pip install lightgbm"
   ]
  },
  {
   "cell_type": "markdown",
   "metadata": {},
   "source": [
    "### Импорт библиотек"
   ]
  },
  {
   "cell_type": "code",
   "execution_count": 2,
   "metadata": {},
   "outputs": [
    {
     "name": "stdout",
     "output_type": "stream",
     "text": [
      "Версия LightGBM      :  3.3.5\n",
      "Версия Scikit-Learn  :  1.2.2\n"
     ]
    }
   ],
   "source": [
    "import pandas as pd\n",
    "import numpy as np\n",
    "from sklearn.model_selection import train_test_split\n",
    "from statsmodels.tsa.seasonal import seasonal_decompose\n",
    "import matplotlib.pyplot as plt\n",
    "import lightgbm as lgb\n",
    "import sklearn\n",
    "from sklearn.model_selection import TimeSeriesSplit\n",
    "from sklearn.model_selection import GridSearchCV\n",
    "from sklearn.metrics import make_scorer\n",
    "from sklearn.metrics import mean_squared_error\n",
    "from catboost import CatBoostRegressor\n",
    "from matplotlib.pyplot import figure\n",
    "\n",
    "#import warnings\n",
    "#warnings.filterwarnings(\"ignore\")\n",
    "\n",
    "print(\"Версия LightGBM      : \", lgb.__version__)\n",
    "print(\"Версия Scikit-Learn  : \", sklearn.__version__)"
   ]
  },
  {
   "cell_type": "code",
   "execution_count": 3,
   "metadata": {},
   "outputs": [],
   "source": [
    "try:\n",
    "    df=pd.read_csv('/datasets/taxi.csv', index_col=[0], parse_dates=[0])\n",
    "except:\n",
    "    df=pd.read_csv('C:/Users/zoika/OneDrive/Рабочий стол/YP ds54/projects/vremryadi/taxi.csv', index_col=[0], parse_dates=[0])"
   ]
  },
  {
   "cell_type": "code",
   "execution_count": 4,
   "metadata": {},
   "outputs": [
    {
     "name": "stdout",
     "output_type": "stream",
     "text": [
      "                     num_orders\n",
      "datetime                       \n",
      "2018-03-01 00:00:00           9\n",
      "2018-03-01 00:10:00          14\n",
      "2018-03-01 00:20:00          28\n"
     ]
    }
   ],
   "source": [
    "df.sort_index(inplace=True)\n",
    "print(df.head(3))"
   ]
  },
  {
   "cell_type": "code",
   "execution_count": 5,
   "metadata": {},
   "outputs": [
    {
     "data": {
      "text/plain": [
       "True"
      ]
     },
     "execution_count": 5,
     "metadata": {},
     "output_type": "execute_result"
    }
   ],
   "source": [
    "df.index.is_monotonic"
   ]
  },
  {
   "cell_type": "markdown",
   "metadata": {},
   "source": [
    "### Подготовка данных"
   ]
  },
  {
   "cell_type": "code",
   "execution_count": 6,
   "metadata": {},
   "outputs": [
    {
     "name": "stdout",
     "output_type": "stream",
     "text": [
      "<class 'pandas.core.frame.DataFrame'>\n",
      "DatetimeIndex: 26496 entries, 2018-03-01 00:00:00 to 2018-08-31 23:50:00\n",
      "Data columns (total 1 columns):\n",
      " #   Column      Non-Null Count  Dtype\n",
      "---  ------      --------------  -----\n",
      " 0   num_orders  26496 non-null  int64\n",
      "dtypes: int64(1)\n",
      "memory usage: 414.0 KB\n"
     ]
    }
   ],
   "source": [
    "df.info()"
   ]
  },
  {
   "cell_type": "code",
   "execution_count": 7,
   "metadata": {
    "scrolled": true
   },
   "outputs": [
    {
     "data": {
      "text/plain": [
       "num_orders    0.0\n",
       "dtype: float64"
      ]
     },
     "execution_count": 7,
     "metadata": {},
     "output_type": "execute_result"
    }
   ],
   "source": [
    "df.isna().mean()"
   ]
  },
  {
   "cell_type": "markdown",
   "metadata": {},
   "source": [
    "### Ресемплирование"
   ]
  },
  {
   "cell_type": "code",
   "execution_count": 8,
   "metadata": {},
   "outputs": [
    {
     "data": {
      "text/html": [
       "<div>\n",
       "<style scoped>\n",
       "    .dataframe tbody tr th:only-of-type {\n",
       "        vertical-align: middle;\n",
       "    }\n",
       "\n",
       "    .dataframe tbody tr th {\n",
       "        vertical-align: top;\n",
       "    }\n",
       "\n",
       "    .dataframe thead th {\n",
       "        text-align: right;\n",
       "    }\n",
       "</style>\n",
       "<table border=\"1\" class=\"dataframe\">\n",
       "  <thead>\n",
       "    <tr style=\"text-align: right;\">\n",
       "      <th></th>\n",
       "      <th>num_orders</th>\n",
       "    </tr>\n",
       "    <tr>\n",
       "      <th>datetime</th>\n",
       "      <th></th>\n",
       "    </tr>\n",
       "  </thead>\n",
       "  <tbody>\n",
       "    <tr>\n",
       "      <th>2018-03-01 00:00:00</th>\n",
       "      <td>124</td>\n",
       "    </tr>\n",
       "    <tr>\n",
       "      <th>2018-03-01 01:00:00</th>\n",
       "      <td>85</td>\n",
       "    </tr>\n",
       "    <tr>\n",
       "      <th>2018-03-01 02:00:00</th>\n",
       "      <td>71</td>\n",
       "    </tr>\n",
       "    <tr>\n",
       "      <th>2018-03-01 03:00:00</th>\n",
       "      <td>66</td>\n",
       "    </tr>\n",
       "    <tr>\n",
       "      <th>2018-03-01 04:00:00</th>\n",
       "      <td>43</td>\n",
       "    </tr>\n",
       "    <tr>\n",
       "      <th>...</th>\n",
       "      <td>...</td>\n",
       "    </tr>\n",
       "    <tr>\n",
       "      <th>2018-08-31 19:00:00</th>\n",
       "      <td>136</td>\n",
       "    </tr>\n",
       "    <tr>\n",
       "      <th>2018-08-31 20:00:00</th>\n",
       "      <td>154</td>\n",
       "    </tr>\n",
       "    <tr>\n",
       "      <th>2018-08-31 21:00:00</th>\n",
       "      <td>159</td>\n",
       "    </tr>\n",
       "    <tr>\n",
       "      <th>2018-08-31 22:00:00</th>\n",
       "      <td>223</td>\n",
       "    </tr>\n",
       "    <tr>\n",
       "      <th>2018-08-31 23:00:00</th>\n",
       "      <td>205</td>\n",
       "    </tr>\n",
       "  </tbody>\n",
       "</table>\n",
       "<p>4416 rows × 1 columns</p>\n",
       "</div>"
      ],
      "text/plain": [
       "                     num_orders\n",
       "datetime                       \n",
       "2018-03-01 00:00:00         124\n",
       "2018-03-01 01:00:00          85\n",
       "2018-03-01 02:00:00          71\n",
       "2018-03-01 03:00:00          66\n",
       "2018-03-01 04:00:00          43\n",
       "...                         ...\n",
       "2018-08-31 19:00:00         136\n",
       "2018-08-31 20:00:00         154\n",
       "2018-08-31 21:00:00         159\n",
       "2018-08-31 22:00:00         223\n",
       "2018-08-31 23:00:00         205\n",
       "\n",
       "[4416 rows x 1 columns]"
      ]
     },
     "execution_count": 8,
     "metadata": {},
     "output_type": "execute_result"
    }
   ],
   "source": [
    "df=df.resample('1H').sum()\n",
    "df"
   ]
  },
  {
   "cell_type": "markdown",
   "metadata": {},
   "source": [
    "### Тренды и сезонность"
   ]
  },
  {
   "cell_type": "code",
   "execution_count": 9,
   "metadata": {},
   "outputs": [
    {
     "data": {
      "image/png": "[encoded data removed]",
      "text/plain": [
       "<Figure size 1200x1000 with 2 Axes>"
      ]
     },
     "metadata": {},
     "output_type": "display_data"
    }
   ],
   "source": [
    "decomposed = seasonal_decompose(df) \n",
    "\n",
    "plt.figure(figsize=(12, 10))\n",
    "plt.subplot(211)\n",
    "decomposed.trend.plot(ax=plt.gca())\n",
    "plt.title('Trend')\n",
    "\n",
    "plt.subplot(212)\n",
    "decomposed.resid.plot(ax=plt.gca()) \n",
    "plt.title('Residuals')\n",
    "plt.tight_layout()"
   ]
  },
  {
   "cell_type": "markdown",
   "metadata": {},
   "source": [
    "Вывод: на графике можно увидеть возрастающие тренды с мая. А чтобы понять сезонность - недостаточно данных, необходимы данные за несколько лет"
   ]
  },
  {
   "cell_type": "markdown",
   "metadata": {},
   "source": [
    "### Создание признаков"
   ]
  },
  {
   "cell_type": "code",
   "execution_count": 10,
   "metadata": {},
   "outputs": [],
   "source": [
    "def make_features(df, max_lag, rolling_mean_size):\n",
    "    data=df.copy()\n",
    "    data['dayofweek'] = data.index.dayofweek\n",
    "    data['hour'] = data.index.hour\n",
    "    \n",
    "    for lag in range(1, max_lag + 1):\n",
    "        data['lag_{}'.format(lag)] = data['num_orders'].shift(lag)\n",
    "\n",
    "    data['rolling_mean'] = data['num_orders'].shift().rolling(rolling_mean_size).mean()\n",
    "    \n",
    "    return data"
   ]
  },
  {
   "cell_type": "code",
   "execution_count": 11,
   "metadata": {},
   "outputs": [],
   "source": [
    "data=make_features(df, 2, 24)"
   ]
  },
  {
   "cell_type": "markdown",
   "metadata": {},
   "source": [
    "### Разделение на выборки"
   ]
  },
  {
   "cell_type": "code",
   "execution_count": 12,
   "metadata": {},
   "outputs": [],
   "source": [
    "train, test = train_test_split(data, shuffle=False, test_size=0.1)\n",
    "train=train.dropna()\n",
    "\n",
    "features_train=train.drop(['num_orders'],axis=1)\n",
    "target_train=train['num_orders']\n",
    "\n",
    "features_test=test.drop(['num_orders'],axis=1)\n",
    "target_test=test['num_orders']"
   ]
  },
  {
   "cell_type": "markdown",
   "metadata": {},
   "source": [
    "Вывод: на данном этапе мы провели предобработку данных, а именно:\n",
    "- импортировали необходимые библиотеки \n",
    "- загрузили данные\n",
    "- проверили пропуски\n",
    "- провели ресемплирование\n",
    "- создали новые признаки\n",
    "- разделили данные на выборки"
   ]
  },
  {
   "cell_type": "markdown",
   "metadata": {},
   "source": [
    "## Обучение"
   ]
  },
  {
   "cell_type": "code",
   "execution_count": 13,
   "metadata": {},
   "outputs": [],
   "source": [
    "RMSE=make_scorer(mean_squared_error, greater_is_better=False) #для грида"
   ]
  },
  {
   "cell_type": "markdown",
   "metadata": {},
   "source": [
    "### CatBoostRegressor"
   ]
  },
  {
   "cell_type": "code",
   "execution_count": 14,
   "metadata": {},
   "outputs": [
    {
     "data": {
      "application/vnd.jupyter.widget-view+json": {
       "model_id": "265aff6e48e7473ab68d8d28d10b42ba",
       "version_major": 2,
       "version_minor": 0
      },
      "text/plain": [
       "MetricVisualizer(layout=Layout(align_self='stretch', height='500px'))"
      ]
     },
     "metadata": {},
     "output_type": "display_data"
    },
    {
     "name": "stdout",
     "output_type": "stream",
     "text": [
      "Learning rate set to 0.050868\n",
      "0:\tlearn: 37.6645705\ttotal: 57.1ms\tremaining: 57s\n",
      "200:\tlearn: 20.8526014\ttotal: 490ms\tremaining: 1.95s\n",
      "400:\tlearn: 18.4934384\ttotal: 927ms\tremaining: 1.39s\n",
      "600:\tlearn: 17.1179980\ttotal: 1.41s\tremaining: 939ms\n",
      "800:\tlearn: 16.0991081\ttotal: 1.86s\tremaining: 463ms\n",
      "999:\tlearn: 15.2086092\ttotal: 2.38s\tremaining: 0us\n",
      "RMSE: {'learn': {'RMSE': 15.208609186605266}}\n"
     ]
    }
   ],
   "source": [
    "cat = CatBoostRegressor()\n",
    "cat.fit(features_train, target_train,verbose=200, plot=True)\n",
    "print('RMSE:',cat.best_score_)"
   ]
  },
  {
   "cell_type": "markdown",
   "metadata": {},
   "source": [
    "### LGBMRegressor"
   ]
  },
  {
   "cell_type": "code",
   "execution_count": 15,
   "metadata": {
    "scrolled": true
   },
   "outputs": [
    {
     "name": "stdout",
     "output_type": "stream",
     "text": [
      "Fitting 8 folds for each of 20 candidates, totalling 160 fits\n"
     ]
    },
    {
     "data": {
      "text/html": [
       "<style>#sk-container-id-1 {color: black;background-color: white;}#sk-container-id-1 pre{padding: 0;}#sk-container-id-1 div.sk-toggleable {background-color: white;}#sk-container-id-1 label.sk-toggleable__label {cursor: pointer;display: block;width: 100%;margin-bottom: 0;padding: 0.3em;box-sizing: border-box;text-align: center;}#sk-container-id-1 label.sk-toggleable__label-arrow:before {content: \"▸\";float: left;margin-right: 0.25em;color: #696969;}#sk-container-id-1 label.sk-toggleable__label-arrow:hover:before {color: black;}#sk-container-id-1 div.sk-estimator:hover label.sk-toggleable__label-arrow:before {color: black;}#sk-container-id-1 div.sk-toggleable__content {max-height: 0;max-width: 0;overflow: hidden;text-align: left;background-color: #f0f8ff;}#sk-container-id-1 div.sk-toggleable__content pre {margin: 0.2em;color: black;border-radius: 0.25em;background-color: #f0f8ff;}#sk-container-id-1 input.sk-toggleable__control:checked~div.sk-toggleable__content {max-height: 200px;max-width: 100%;overflow: auto;}#sk-container-id-1 input.sk-toggleable__control:checked~label.sk-toggleable__label-arrow:before {content: \"▾\";}#sk-container-id-1 div.sk-estimator input.sk-toggleable__control:checked~label.sk-toggleable__label {background-color: #d4ebff;}#sk-container-id-1 div.sk-label input.sk-toggleable__control:checked~label.sk-toggleable__label {background-color: #d4ebff;}#sk-container-id-1 input.sk-hidden--visually {border: 0;clip: rect(1px 1px 1px 1px);clip: rect(1px, 1px, 1px, 1px);height: 1px;margin: -1px;overflow: hidden;padding: 0;position: absolute;width: 1px;}#sk-container-id-1 div.sk-estimator {font-family: monospace;background-color: #f0f8ff;border: 1px dotted black;border-radius: 0.25em;box-sizing: border-box;margin-bottom: 0.5em;}#sk-container-id-1 div.sk-estimator:hover {background-color: #d4ebff;}#sk-container-id-1 div.sk-parallel-item::after {content: \"\";width: 100%;border-bottom: 1px solid gray;flex-grow: 1;}#sk-container-id-1 div.sk-label:hover label.sk-toggleable__label {background-color: #d4ebff;}#sk-container-id-1 div.sk-serial::before {content: \"\";position: absolute;border-left: 1px solid gray;box-sizing: border-box;top: 0;bottom: 0;left: 50%;z-index: 0;}#sk-container-id-1 div.sk-serial {display: flex;flex-direction: column;align-items: center;background-color: white;padding-right: 0.2em;padding-left: 0.2em;position: relative;}#sk-container-id-1 div.sk-item {position: relative;z-index: 1;}#sk-container-id-1 div.sk-parallel {display: flex;align-items: stretch;justify-content: center;background-color: white;position: relative;}#sk-container-id-1 div.sk-item::before, #sk-container-id-1 div.sk-parallel-item::before {content: \"\";position: absolute;border-left: 1px solid gray;box-sizing: border-box;top: 0;bottom: 0;left: 50%;z-index: -1;}#sk-container-id-1 div.sk-parallel-item {display: flex;flex-direction: column;z-index: 1;position: relative;background-color: white;}#sk-container-id-1 div.sk-parallel-item:first-child::after {align-self: flex-end;width: 50%;}#sk-container-id-1 div.sk-parallel-item:last-child::after {align-self: flex-start;width: 50%;}#sk-container-id-1 div.sk-parallel-item:only-child::after {width: 0;}#sk-container-id-1 div.sk-dashed-wrapped {border: 1px dashed gray;margin: 0 0.4em 0.5em 0.4em;box-sizing: border-box;padding-bottom: 0.4em;background-color: white;}#sk-container-id-1 div.sk-label label {font-family: monospace;font-weight: bold;display: inline-block;line-height: 1.2em;}#sk-container-id-1 div.sk-label-container {text-align: center;}#sk-container-id-1 div.sk-container {/* jupyter's `normalize.less` sets `[hidden] { display: none; }` but bootstrap.min.css set `[hidden] { display: none !important; }` so we also need the `!important` here to be able to override the default hidden behavior on the sphinx rendered scikit-learn.org. See: https://github.com/scikit-learn/scikit-learn/issues/21755 */display: inline-block !important;position: relative;}#sk-container-id-1 div.sk-text-repr-fallback {display: none;}</style><div id=\"sk-container-id-1\" class=\"sk-top-container\"><div class=\"sk-text-repr-fallback\"><pre>GridSearchCV(cv=TimeSeriesSplit(gap=0, max_train_size=None, n_splits=8, test_size=None),\n",
       "             estimator=LGBMRegressor(), n_jobs=-1,\n",
       "             param_grid={&#x27;learning_rate&#x27;: [0.5, 0.7],\n",
       "                         &#x27;num_leaves&#x27;: range(20, 30)},\n",
       "             scoring=make_scorer(mean_squared_error, greater_is_better=False),\n",
       "             verbose=10)</pre><b>In a Jupyter environment, please rerun this cell to show the HTML representation or trust the notebook. <br />On GitHub, the HTML representation is unable to render, please try loading this page with nbviewer.org.</b></div><div class=\"sk-container\" hidden><div class=\"sk-item sk-dashed-wrapped\"><div class=\"sk-label-container\"><div class=\"sk-label sk-toggleable\"><input class=\"sk-toggleable__control sk-hidden--visually\" id=\"sk-estimator-id-1\" type=\"checkbox\" ><label for=\"sk-estimator-id-1\" class=\"sk-toggleable__label sk-toggleable__label-arrow\">GridSearchCV</label><div class=\"sk-toggleable__content\"><pre>GridSearchCV(cv=TimeSeriesSplit(gap=0, max_train_size=None, n_splits=8, test_size=None),\n",
       "             estimator=LGBMRegressor(), n_jobs=-1,\n",
       "             param_grid={&#x27;learning_rate&#x27;: [0.5, 0.7],\n",
       "                         &#x27;num_leaves&#x27;: range(20, 30)},\n",
       "             scoring=make_scorer(mean_squared_error, greater_is_better=False),\n",
       "             verbose=10)</pre></div></div></div><div class=\"sk-parallel\"><div class=\"sk-parallel-item\"><div class=\"sk-item\"><div class=\"sk-label-container\"><div class=\"sk-label sk-toggleable\"><input class=\"sk-toggleable__control sk-hidden--visually\" id=\"sk-estimator-id-2\" type=\"checkbox\" ><label for=\"sk-estimator-id-2\" class=\"sk-toggleable__label sk-toggleable__label-arrow\">estimator: LGBMRegressor</label><div class=\"sk-toggleable__content\"><pre>LGBMRegressor()</pre></div></div></div><div class=\"sk-serial\"><div class=\"sk-item\"><div class=\"sk-estimator sk-toggleable\"><input class=\"sk-toggleable__control sk-hidden--visually\" id=\"sk-estimator-id-3\" type=\"checkbox\" ><label for=\"sk-estimator-id-3\" class=\"sk-toggleable__label sk-toggleable__label-arrow\">LGBMRegressor</label><div class=\"sk-toggleable__content\"><pre>LGBMRegressor()</pre></div></div></div></div></div></div></div></div></div></div>"
      ],
      "text/plain": [
       "GridSearchCV(cv=TimeSeriesSplit(gap=0, max_train_size=None, n_splits=8, test_size=None),\n",
       "             estimator=LGBMRegressor(), n_jobs=-1,\n",
       "             param_grid={'learning_rate': [0.5, 0.7],\n",
       "                         'num_leaves': range(20, 30)},\n",
       "             scoring=make_scorer(mean_squared_error, greater_is_better=False),\n",
       "             verbose=10)"
      ]
     },
     "execution_count": 15,
     "metadata": {},
     "output_type": "execute_result"
    }
   ],
   "source": [
    "lgbm = lgb.LGBMRegressor()\n",
    "tscv = TimeSeriesSplit(n_splits=8)\n",
    "\n",
    "parameters_lgbm = {\n",
    "    'num_leaves': range(20, 30),\n",
    "    'learning_rate': [0.5, 0.7]\n",
    "}\n",
    "\n",
    "lgbm_grid = GridSearchCV(lgbm, parameters_lgbm, n_jobs=-1, scoring=RMSE , cv=tscv, verbose=10)\n",
    "\n",
    "lgbm_grid.fit(features_train, target_train)     "
   ]
  },
  {
   "cell_type": "code",
   "execution_count": 16,
   "metadata": {},
   "outputs": [
    {
     "name": "stdout",
     "output_type": "stream",
     "text": [
      "{'learning_rate': 0.5, 'num_leaves': 21}\n",
      "RMSE: 26.84314394120829\n"
     ]
    }
   ],
   "source": [
    "print(lgbm_grid.best_params_)\n",
    "print('RMSE:',(-lgbm_grid.best_score_)**(0.5) )"
   ]
  },
  {
   "cell_type": "markdown",
   "metadata": {},
   "source": [
    "Вывод: лучшее значение RMSE, на обучающей выборке, получили с исползованием модели CatBoostRegressor, поэтому на тестировании будем использовать ее."
   ]
  },
  {
   "cell_type": "markdown",
   "metadata": {},
   "source": [
    "## Тестирование"
   ]
  },
  {
   "cell_type": "code",
   "execution_count": 17,
   "metadata": {},
   "outputs": [
    {
     "name": "stdout",
     "output_type": "stream",
     "text": [
      "RMSE: 47.006621854254846\n"
     ]
    }
   ],
   "source": [
    "pred_c=cat.predict(features_test)\n",
    "print('RMSE:',(mean_squared_error(pred_c,target_test))**(0.5) )"
   ]
  },
  {
   "cell_type": "markdown",
   "metadata": {},
   "source": [
    "Посмотрим на графике результаты нашего предсказания:"
   ]
  },
  {
   "cell_type": "code",
   "execution_count": 18,
   "metadata": {},
   "outputs": [],
   "source": [
    "serpred = pd.Series(pred_c,index=target_test.index)"
   ]
  },
  {
   "cell_type": "code",
   "execution_count": 19,
   "metadata": {},
   "outputs": [
    {
     "data": {
      "image/png": "[encoded data removed]",
      "text/plain": [
       "<Figure size 1200x600 with 1 Axes>"
      ]
     },
     "metadata": {},
     "output_type": "display_data"
    }
   ],
   "source": [
    "figure(figsize=(12, 6));\n",
    "target_test.plot( label='Реальные');\n",
    "serpred.plot(title='Результаты работы модели, два дня:',label='Предсказанные',xlabel='Дата и время');\n",
    "plt.xlim(['2018-08-13 14:00:00','2018-08-15 14:00:00']);\n",
    "plt.legend();"
   ]
  },
  {
   "cell_type": "markdown",
   "metadata": {},
   "source": [
    "Вывод: на тестовых данных модель CatBoostRegressor показала хорошие результаты, значение метрики RMSE меньше 48"
   ]
  },
  {
   "cell_type": "markdown",
   "metadata": {},
   "source": [
    "## Итоговый вывод:"
   ]
  },
  {
   "cell_type": "markdown",
   "metadata": {},
   "source": [
    "В ходе работы над проектом были решены следующие задачи:\n",
    "\n",
    "- импортировали необходимые библиотеки \n",
    "- загрузили данные\n",
    "- проверили пропуски\n",
    "- провели ресемплирование\n",
    "- создали новые признаки\n",
    "- разделили данные на выборки\n",
    "- обучили и проверили несколько моделей\n",
    "- провели перебор гиперпараметров для модели LGBMRegressor\n",
    "- провели сравнение моделей, выбрали лучшую, её качество проверели на тестовой выборке\n",
    "\n",
    "Таким образом, мы построили модель на основе CatBoostRegressor, способную спрогнозировать количество заказов такси на следующий час, не превышая заданное заказчиком значение RMSE"
   ]
  }
 ],
 "metadata": {
  "ExecuteTimeLog": [
   {
    "duration": 1747,
    "start_time": "2023-03-11T19:28:27.090Z"
   },
   {
    "duration": 103,
    "start_time": "2023-03-11T19:28:28.839Z"
   },
   {
    "duration": 12,
    "start_time": "2023-03-11T19:28:31.236Z"
   },
   {
    "duration": 9,
    "start_time": "2023-03-11T19:28:49.949Z"
   },
   {
    "duration": 8,
    "start_time": "2023-03-11T19:28:50.213Z"
   },
   {
    "duration": 48,
    "start_time": "2023-03-11T19:29:07.885Z"
   },
   {
    "duration": 5,
    "start_time": "2023-03-11T19:29:08.211Z"
   },
   {
    "duration": 18,
    "start_time": "2023-03-11T19:29:31.901Z"
   },
   {
    "duration": 132,
    "start_time": "2023-03-11T19:30:16.286Z"
   },
   {
    "duration": 730,
    "start_time": "2023-03-11T19:30:19.144Z"
   },
   {
    "duration": 12,
    "start_time": "2023-03-11T19:30:19.876Z"
   },
   {
    "duration": 0,
    "start_time": "2023-03-11T19:30:19.889Z"
   },
   {
    "duration": 765,
    "start_time": "2023-03-11T19:30:28.145Z"
   },
   {
    "duration": 635,
    "start_time": "2023-03-11T19:30:36.745Z"
   },
   {
    "duration": 9,
    "start_time": "2023-03-11T19:30:57.260Z"
   },
   {
    "duration": 6,
    "start_time": "2023-03-11T19:41:04.841Z"
   },
   {
    "duration": 52,
    "start_time": "2023-03-11T19:41:04.849Z"
   },
   {
    "duration": 6,
    "start_time": "2023-03-11T19:41:04.902Z"
   },
   {
    "duration": 20,
    "start_time": "2023-03-11T19:41:04.909Z"
   },
   {
    "duration": 6,
    "start_time": "2023-03-11T19:41:04.932Z"
   },
   {
    "duration": 16,
    "start_time": "2023-03-11T19:41:04.940Z"
   },
   {
    "duration": 619,
    "start_time": "2023-03-11T19:41:04.958Z"
   },
   {
    "duration": 4,
    "start_time": "2023-03-11T19:41:05.579Z"
   },
   {
    "duration": 21,
    "start_time": "2023-03-11T19:41:05.591Z"
   },
   {
    "duration": 11,
    "start_time": "2023-03-11T19:41:05.614Z"
   },
   {
    "duration": 4622,
    "start_time": "2023-03-11T19:41:56.712Z"
   },
   {
    "duration": 35802,
    "start_time": "2023-03-11T19:42:01.336Z"
   },
   {
    "duration": 1362,
    "start_time": "2023-03-11T19:42:37.140Z"
   },
   {
    "duration": 47,
    "start_time": "2023-03-11T19:42:38.504Z"
   },
   {
    "duration": 6,
    "start_time": "2023-03-11T19:42:38.553Z"
   },
   {
    "duration": 12,
    "start_time": "2023-03-11T19:42:38.561Z"
   },
   {
    "duration": 7,
    "start_time": "2023-03-11T19:42:38.575Z"
   },
   {
    "duration": 16,
    "start_time": "2023-03-11T19:42:38.589Z"
   },
   {
    "duration": 667,
    "start_time": "2023-03-11T19:42:38.606Z"
   },
   {
    "duration": 15,
    "start_time": "2023-03-11T19:42:39.275Z"
   },
   {
    "duration": 15,
    "start_time": "2023-03-11T19:42:39.291Z"
   },
   {
    "duration": 10,
    "start_time": "2023-03-11T19:42:39.307Z"
   },
   {
    "duration": 74,
    "start_time": "2023-03-11T19:43:59.884Z"
   },
   {
    "duration": 3,
    "start_time": "2023-03-11T19:45:33.095Z"
   },
   {
    "duration": 3930,
    "start_time": "2023-03-11T19:46:23.879Z"
   },
   {
    "duration": 411269,
    "start_time": "2023-03-11T19:47:09.390Z"
   },
   {
    "duration": 6468,
    "start_time": "2023-03-11T19:54:50.653Z"
   },
   {
    "duration": 3,
    "start_time": "2023-03-11T19:55:18.512Z"
   },
   {
    "duration": 13,
    "start_time": "2023-03-11T19:55:18.517Z"
   },
   {
    "duration": 1366,
    "start_time": "2023-03-11T19:55:18.531Z"
   },
   {
    "duration": 49,
    "start_time": "2023-03-11T19:55:19.899Z"
   },
   {
    "duration": 7,
    "start_time": "2023-03-11T19:55:19.950Z"
   },
   {
    "duration": 11,
    "start_time": "2023-03-11T19:55:19.959Z"
   },
   {
    "duration": 7,
    "start_time": "2023-03-11T19:55:19.972Z"
   },
   {
    "duration": 21,
    "start_time": "2023-03-11T19:55:19.981Z"
   },
   {
    "duration": 641,
    "start_time": "2023-03-11T19:55:20.004Z"
   },
   {
    "duration": 4,
    "start_time": "2023-03-11T19:55:20.647Z"
   },
   {
    "duration": 14,
    "start_time": "2023-03-11T19:55:20.653Z"
   },
   {
    "duration": 26,
    "start_time": "2023-03-11T19:55:20.669Z"
   },
   {
    "duration": 3,
    "start_time": "2023-03-11T19:55:20.696Z"
   },
   {
    "duration": 3279,
    "start_time": "2023-03-11T19:55:20.700Z"
   },
   {
    "duration": 114623,
    "start_time": "2023-03-11T19:55:23.981Z"
   },
   {
    "duration": 3,
    "start_time": "2023-03-11T19:57:18.606Z"
   },
   {
    "duration": 81,
    "start_time": "2023-03-11T19:57:18.611Z"
   },
   {
    "duration": 2541,
    "start_time": "2023-03-12T06:12:23.778Z"
   },
   {
    "duration": 2,
    "start_time": "2023-03-12T06:12:26.675Z"
   },
   {
    "duration": 2776,
    "start_time": "2023-03-12T06:12:28.204Z"
   },
   {
    "duration": 193,
    "start_time": "2023-03-12T06:12:30.981Z"
   },
   {
    "duration": 8,
    "start_time": "2023-03-12T06:14:52.002Z"
   },
   {
    "duration": 10,
    "start_time": "2023-03-12T06:15:47.594Z"
   },
   {
    "duration": 10,
    "start_time": "2023-03-12T06:15:48.030Z"
   },
   {
    "duration": 16,
    "start_time": "2023-03-12T06:15:49.135Z"
   },
   {
    "duration": 646,
    "start_time": "2023-03-12T06:18:06.096Z"
   },
   {
    "duration": 5,
    "start_time": "2023-03-12T06:18:53.816Z"
   },
   {
    "duration": 133,
    "start_time": "2023-03-12T06:20:48.556Z"
   },
   {
    "duration": 13,
    "start_time": "2023-03-12T06:20:55.533Z"
   },
   {
    "duration": 11,
    "start_time": "2023-03-12T06:20:56.840Z"
   },
   {
    "duration": 3,
    "start_time": "2023-03-12T06:21:14.848Z"
   },
   {
    "duration": 3519,
    "start_time": "2023-03-12T06:21:17.456Z"
   },
   {
    "duration": 669214,
    "start_time": "2023-03-12T06:22:07.924Z"
   },
   {
    "duration": 3,
    "start_time": "2023-03-12T06:36:02.552Z"
   },
   {
    "duration": 6,
    "start_time": "2023-03-12T06:36:03.893Z"
   },
   {
    "duration": 2294,
    "start_time": "2023-03-12T11:18:55.743Z"
   },
   {
    "duration": 3,
    "start_time": "2023-03-12T11:18:58.039Z"
   },
   {
    "duration": 1543,
    "start_time": "2023-03-12T11:18:58.044Z"
   },
   {
    "duration": 161,
    "start_time": "2023-03-12T11:18:59.590Z"
   },
   {
    "duration": 8,
    "start_time": "2023-03-12T11:18:59.753Z"
   },
   {
    "duration": 17,
    "start_time": "2023-03-12T11:18:59.762Z"
   },
   {
    "duration": 7,
    "start_time": "2023-03-12T11:18:59.781Z"
   },
   {
    "duration": 20,
    "start_time": "2023-03-12T11:18:59.789Z"
   },
   {
    "duration": 674,
    "start_time": "2023-03-12T11:18:59.811Z"
   },
   {
    "duration": 4,
    "start_time": "2023-03-12T11:19:00.487Z"
   },
   {
    "duration": 27,
    "start_time": "2023-03-12T11:19:00.493Z"
   },
   {
    "duration": 15,
    "start_time": "2023-03-12T11:19:00.521Z"
   },
   {
    "duration": 8,
    "start_time": "2023-03-12T11:19:00.538Z"
   },
   {
    "duration": 3138,
    "start_time": "2023-03-12T11:19:00.547Z"
   },
   {
    "duration": 93991,
    "start_time": "2023-03-12T11:19:03.687Z"
   },
   {
    "duration": 3,
    "start_time": "2023-03-12T11:20:37.679Z"
   },
   {
    "duration": 11,
    "start_time": "2023-03-12T11:20:37.684Z"
   },
   {
    "duration": 155,
    "start_time": "2023-03-12T11:20:37.697Z"
   },
   {
    "duration": 9,
    "start_time": "2023-03-12T11:30:00.729Z"
   },
   {
    "duration": 171,
    "start_time": "2023-03-12T11:30:12.279Z"
   },
   {
    "duration": 172,
    "start_time": "2023-03-12T11:30:17.965Z"
   },
   {
    "duration": 171,
    "start_time": "2023-03-12T11:30:32.385Z"
   },
   {
    "duration": 6,
    "start_time": "2023-03-12T11:30:43.000Z"
   },
   {
    "duration": 4,
    "start_time": "2023-03-12T11:31:06.723Z"
   },
   {
    "duration": 13,
    "start_time": "2023-03-12T11:31:42.898Z"
   },
   {
    "duration": 175,
    "start_time": "2023-03-12T11:34:02.490Z"
   },
   {
    "duration": 168,
    "start_time": "2023-03-12T11:34:08.453Z"
   },
   {
    "duration": 2118,
    "start_time": "2023-03-12T11:38:17.804Z"
   },
   {
    "duration": 3,
    "start_time": "2023-03-12T11:38:19.924Z"
   },
   {
    "duration": 11,
    "start_time": "2023-03-12T11:38:19.929Z"
   },
   {
    "duration": 73,
    "start_time": "2023-03-12T11:38:19.942Z"
   },
   {
    "duration": 6,
    "start_time": "2023-03-12T11:38:20.017Z"
   },
   {
    "duration": 13,
    "start_time": "2023-03-12T11:38:20.025Z"
   },
   {
    "duration": 17,
    "start_time": "2023-03-12T11:38:20.040Z"
   },
   {
    "duration": 28,
    "start_time": "2023-03-12T11:38:20.059Z"
   },
   {
    "duration": 675,
    "start_time": "2023-03-12T11:38:20.089Z"
   },
   {
    "duration": 4,
    "start_time": "2023-03-12T11:38:20.766Z"
   },
   {
    "duration": 21,
    "start_time": "2023-03-12T11:38:20.771Z"
   },
   {
    "duration": 13,
    "start_time": "2023-03-12T11:38:20.794Z"
   },
   {
    "duration": 16,
    "start_time": "2023-03-12T11:38:20.808Z"
   },
   {
    "duration": 1950,
    "start_time": "2023-03-12T11:38:20.826Z"
   },
   {
    "duration": 560598,
    "start_time": "2023-03-12T11:38:22.778Z"
   },
   {
    "duration": 0,
    "start_time": "2023-03-12T11:47:43.379Z"
   },
   {
    "duration": 0,
    "start_time": "2023-03-12T11:47:43.381Z"
   },
   {
    "duration": 0,
    "start_time": "2023-03-12T11:47:43.382Z"
   },
   {
    "duration": 0,
    "start_time": "2023-03-12T11:47:43.383Z"
   },
   {
    "duration": 0,
    "start_time": "2023-03-12T11:47:43.384Z"
   },
   {
    "duration": 8,
    "start_time": "2023-03-12T11:47:48.504Z"
   },
   {
    "duration": 278,
    "start_time": "2023-03-12T11:47:48.773Z"
   },
   {
    "duration": 4,
    "start_time": "2023-03-12T11:47:49.053Z"
   },
   {
    "duration": 14,
    "start_time": "2023-03-12T11:47:49.237Z"
   },
   {
    "duration": 4,
    "start_time": "2023-03-12T11:50:55.680Z"
   },
   {
    "duration": 6,
    "start_time": "2023-03-12T11:51:31.441Z"
   },
   {
    "duration": 222,
    "start_time": "2023-03-12T11:51:34.071Z"
   },
   {
    "duration": 9,
    "start_time": "2023-03-12T11:51:57.330Z"
   },
   {
    "duration": 7,
    "start_time": "2023-03-12T11:52:00.203Z"
   },
   {
    "duration": 12,
    "start_time": "2023-03-12T11:52:58.303Z"
   },
   {
    "duration": 3,
    "start_time": "2023-03-12T11:53:23.428Z"
   },
   {
    "duration": 6,
    "start_time": "2023-03-12T11:53:56.721Z"
   },
   {
    "duration": 2,
    "start_time": "2023-03-12T11:59:41.743Z"
   },
   {
    "duration": 173,
    "start_time": "2023-03-12T11:59:57.170Z"
   },
   {
    "duration": 3,
    "start_time": "2023-03-12T12:00:14.112Z"
   },
   {
    "duration": 130,
    "start_time": "2023-03-12T12:00:14.323Z"
   },
   {
    "duration": 113,
    "start_time": "2023-03-12T12:00:17.442Z"
   },
   {
    "duration": 185,
    "start_time": "2023-03-12T12:00:42.389Z"
   },
   {
    "duration": 15,
    "start_time": "2023-03-12T12:01:23.786Z"
   },
   {
    "duration": 10,
    "start_time": "2023-03-12T12:01:32.490Z"
   },
   {
    "duration": 41,
    "start_time": "2023-03-12T12:01:36.366Z"
   },
   {
    "duration": 12,
    "start_time": "2023-03-12T12:01:38.689Z"
   },
   {
    "duration": 2302,
    "start_time": "2023-03-12T12:02:10.728Z"
   },
   {
    "duration": 4,
    "start_time": "2023-03-12T12:02:13.033Z"
   },
   {
    "duration": 1511,
    "start_time": "2023-03-12T12:02:13.040Z"
   },
   {
    "duration": 49,
    "start_time": "2023-03-12T12:02:14.553Z"
   },
   {
    "duration": 7,
    "start_time": "2023-03-12T12:02:14.604Z"
   },
   {
    "duration": 8,
    "start_time": "2023-03-12T12:02:14.613Z"
   },
   {
    "duration": 16,
    "start_time": "2023-03-12T12:02:14.623Z"
   },
   {
    "duration": 6,
    "start_time": "2023-03-12T12:02:14.641Z"
   },
   {
    "duration": 32,
    "start_time": "2023-03-12T12:02:14.649Z"
   },
   {
    "duration": 754,
    "start_time": "2023-03-12T12:02:14.683Z"
   },
   {
    "duration": 4,
    "start_time": "2023-03-12T12:02:15.439Z"
   },
   {
    "duration": 15,
    "start_time": "2023-03-12T12:02:15.445Z"
   },
   {
    "duration": 10,
    "start_time": "2023-03-12T12:02:15.461Z"
   },
   {
    "duration": 3,
    "start_time": "2023-03-12T12:02:15.474Z"
   },
   {
    "duration": 2121,
    "start_time": "2023-03-12T12:02:15.478Z"
   },
   {
    "duration": 2,
    "start_time": "2023-03-12T12:02:17.601Z"
   },
   {
    "duration": 128,
    "start_time": "2023-03-12T12:02:17.605Z"
   },
   {
    "duration": 0,
    "start_time": "2023-03-12T12:02:17.735Z"
   },
   {
    "duration": 0,
    "start_time": "2023-03-12T12:02:17.736Z"
   },
   {
    "duration": 0,
    "start_time": "2023-03-12T12:02:17.737Z"
   },
   {
    "duration": 0,
    "start_time": "2023-03-12T12:02:17.739Z"
   },
   {
    "duration": 0,
    "start_time": "2023-03-12T12:02:17.740Z"
   },
   {
    "duration": 0,
    "start_time": "2023-03-12T12:02:17.741Z"
   },
   {
    "duration": 0,
    "start_time": "2023-03-12T12:02:17.742Z"
   },
   {
    "duration": 6,
    "start_time": "2023-03-12T12:02:41.765Z"
   },
   {
    "duration": 3,
    "start_time": "2023-03-12T12:02:43.602Z"
   },
   {
    "duration": 6,
    "start_time": "2023-03-12T12:02:45.681Z"
   },
   {
    "duration": 200,
    "start_time": "2023-03-12T12:10:12.565Z"
   },
   {
    "duration": 45,
    "start_time": "2023-03-12T12:11:30.124Z"
   },
   {
    "duration": 43,
    "start_time": "2023-03-12T12:11:44.146Z"
   },
   {
    "duration": 237,
    "start_time": "2023-03-12T12:12:58.596Z"
   },
   {
    "duration": 164,
    "start_time": "2023-03-12T12:14:42.198Z"
   },
   {
    "duration": 5,
    "start_time": "2023-03-12T12:16:13.373Z"
   },
   {
    "duration": 173,
    "start_time": "2023-03-12T12:17:37.256Z"
   },
   {
    "duration": 235,
    "start_time": "2023-03-12T12:17:43.943Z"
   },
   {
    "duration": 171,
    "start_time": "2023-03-12T12:18:15.658Z"
   },
   {
    "duration": 49,
    "start_time": "2023-03-12T12:18:24.466Z"
   },
   {
    "duration": 41,
    "start_time": "2023-03-12T12:18:28.524Z"
   },
   {
    "duration": 180,
    "start_time": "2023-03-12T12:18:33.748Z"
   },
   {
    "duration": 169,
    "start_time": "2023-03-12T12:18:44.340Z"
   },
   {
    "duration": 184,
    "start_time": "2023-03-12T12:20:02.673Z"
   },
   {
    "duration": 187,
    "start_time": "2023-03-12T12:20:49.766Z"
   },
   {
    "duration": 215,
    "start_time": "2023-03-12T12:21:10.277Z"
   },
   {
    "duration": 210,
    "start_time": "2023-03-12T12:22:37.679Z"
   },
   {
    "duration": 287,
    "start_time": "2023-03-12T12:22:51.586Z"
   },
   {
    "duration": 215,
    "start_time": "2023-03-12T12:22:59.202Z"
   },
   {
    "duration": 209,
    "start_time": "2023-03-12T12:23:48.009Z"
   },
   {
    "duration": 219,
    "start_time": "2023-03-12T12:24:03.707Z"
   },
   {
    "duration": 194,
    "start_time": "2023-03-12T12:25:05.481Z"
   },
   {
    "duration": 2110,
    "start_time": "2023-03-12T12:27:17.284Z"
   },
   {
    "duration": 2,
    "start_time": "2023-03-12T12:27:19.396Z"
   },
   {
    "duration": 1376,
    "start_time": "2023-03-12T12:27:19.400Z"
   },
   {
    "duration": 47,
    "start_time": "2023-03-12T12:27:20.778Z"
   },
   {
    "duration": 6,
    "start_time": "2023-03-12T12:27:20.827Z"
   },
   {
    "duration": 10,
    "start_time": "2023-03-12T12:27:20.835Z"
   },
   {
    "duration": 14,
    "start_time": "2023-03-12T12:27:20.846Z"
   },
   {
    "duration": 15,
    "start_time": "2023-03-12T12:27:20.861Z"
   },
   {
    "duration": 27,
    "start_time": "2023-03-12T12:27:20.878Z"
   },
   {
    "duration": 630,
    "start_time": "2023-03-12T12:27:20.907Z"
   },
   {
    "duration": 4,
    "start_time": "2023-03-12T12:27:21.538Z"
   },
   {
    "duration": 22,
    "start_time": "2023-03-12T12:27:21.543Z"
   },
   {
    "duration": 11,
    "start_time": "2023-03-12T12:27:21.567Z"
   },
   {
    "duration": 2,
    "start_time": "2023-03-12T12:27:21.581Z"
   },
   {
    "duration": 2119,
    "start_time": "2023-03-12T12:27:21.585Z"
   },
   {
    "duration": 90567,
    "start_time": "2023-03-12T12:27:23.705Z"
   },
   {
    "duration": 3,
    "start_time": "2023-03-12T12:28:54.274Z"
   },
   {
    "duration": 12,
    "start_time": "2023-03-12T12:28:54.279Z"
   },
   {
    "duration": 4,
    "start_time": "2023-03-12T12:28:54.293Z"
   },
   {
    "duration": 301,
    "start_time": "2023-03-12T12:28:54.298Z"
   },
   {
    "duration": 2042,
    "start_time": "2023-03-12T12:38:28.520Z"
   },
   {
    "duration": 3,
    "start_time": "2023-03-12T12:38:30.564Z"
   },
   {
    "duration": 1479,
    "start_time": "2023-03-12T12:38:30.569Z"
   },
   {
    "duration": 48,
    "start_time": "2023-03-12T12:38:32.050Z"
   },
   {
    "duration": 7,
    "start_time": "2023-03-12T12:38:32.101Z"
   },
   {
    "duration": 23,
    "start_time": "2023-03-12T12:38:32.110Z"
   },
   {
    "duration": 24,
    "start_time": "2023-03-12T12:38:32.135Z"
   },
   {
    "duration": 22,
    "start_time": "2023-03-12T12:38:32.160Z"
   },
   {
    "duration": 36,
    "start_time": "2023-03-12T12:38:32.183Z"
   },
   {
    "duration": 660,
    "start_time": "2023-03-12T12:38:32.221Z"
   },
   {
    "duration": 4,
    "start_time": "2023-03-12T12:38:32.883Z"
   },
   {
    "duration": 21,
    "start_time": "2023-03-12T12:38:32.889Z"
   },
   {
    "duration": 10,
    "start_time": "2023-03-12T12:38:32.912Z"
   },
   {
    "duration": 10,
    "start_time": "2023-03-12T12:38:32.925Z"
   },
   {
    "duration": 2314,
    "start_time": "2023-03-12T12:38:32.937Z"
   },
   {
    "duration": 85963,
    "start_time": "2023-03-12T12:38:35.253Z"
   },
   {
    "duration": 0,
    "start_time": "2023-03-12T12:40:01.219Z"
   },
   {
    "duration": 0,
    "start_time": "2023-03-12T12:40:01.220Z"
   },
   {
    "duration": 1,
    "start_time": "2023-03-12T12:40:01.221Z"
   },
   {
    "duration": 0,
    "start_time": "2023-03-12T12:40:01.223Z"
   },
   {
    "duration": 2062,
    "start_time": "2023-03-12T12:40:26.051Z"
   },
   {
    "duration": 4,
    "start_time": "2023-03-12T12:40:28.116Z"
   },
   {
    "duration": 1302,
    "start_time": "2023-03-12T12:40:28.122Z"
   },
   {
    "duration": 53,
    "start_time": "2023-03-12T12:40:29.427Z"
   },
   {
    "duration": 6,
    "start_time": "2023-03-12T12:40:29.482Z"
   },
   {
    "duration": 13,
    "start_time": "2023-03-12T12:40:29.489Z"
   },
   {
    "duration": 12,
    "start_time": "2023-03-12T12:40:29.503Z"
   },
   {
    "duration": 6,
    "start_time": "2023-03-12T12:40:29.516Z"
   },
   {
    "duration": 20,
    "start_time": "2023-03-12T12:40:29.524Z"
   },
   {
    "duration": 622,
    "start_time": "2023-03-12T12:40:29.547Z"
   },
   {
    "duration": 4,
    "start_time": "2023-03-12T12:40:30.171Z"
   },
   {
    "duration": 34,
    "start_time": "2023-03-12T12:40:30.176Z"
   },
   {
    "duration": 14,
    "start_time": "2023-03-12T12:40:30.212Z"
   },
   {
    "duration": 4,
    "start_time": "2023-03-12T12:40:30.227Z"
   },
   {
    "duration": 2237,
    "start_time": "2023-03-12T12:40:30.232Z"
   },
   {
    "duration": 277308,
    "start_time": "2023-03-12T12:40:32.471Z"
   },
   {
    "duration": 4,
    "start_time": "2023-03-12T12:45:09.781Z"
   },
   {
    "duration": 11,
    "start_time": "2023-03-12T12:45:09.787Z"
   },
   {
    "duration": 69,
    "start_time": "2023-03-12T12:45:09.800Z"
   },
   {
    "duration": 300,
    "start_time": "2023-03-12T12:45:09.871Z"
   }
  ],
  "kernelspec": {
   "display_name": "Python 3 (ipykernel)",
   "language": "python",
   "name": "python3"
  },
  "language_info": {
   "codemirror_mode": {
    "name": "ipython",
    "version": 3
   },
   "file_extension": ".py",
   "mimetype": "text/x-python",
   "name": "python",
   "nbconvert_exporter": "python",
   "pygments_lexer": "ipython3",
   "version": "3.9.12"
  },
  "toc": {
   "base_numbering": 1,
   "nav_menu": {},
   "number_sections": true,
   "sideBar": true,
   "skip_h1_title": true,
   "title_cell": "Содержание",
   "title_sidebar": "Contents",
   "toc_cell": true,
   "toc_position": {
    "height": "calc(100% - 180px)",
    "left": "10px",
    "top": "150px",
    "width": "205.742px"
   },
   "toc_section_display": true,
   "toc_window_display": true
  }
 },
 "nbformat": 4,
 "nbformat_minor": 2
}
