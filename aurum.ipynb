{
 "cells": [
  {
   "cell_type": "markdown",
   "metadata": {
    "toc": true
   },
   "source": [
    "<h1>Содержание<span class=\"tocSkip\"></span></h1>\n",
    "<div class=\"toc\"><ul class=\"toc-item\"><li><span><a href=\"#Подготовка-данных\" data-toc-modified-id=\"Подготовка-данных-1\"><span class=\"toc-item-num\">1&nbsp;&nbsp;</span>Подготовка данных</a></span><ul class=\"toc-item\"><li><span><a href=\"#Импорт-библиотек-и-загрузка-данных\" data-toc-modified-id=\"Импорт-библиотек-и-загрузка-данных-1.1\"><span class=\"toc-item-num\">1.1&nbsp;&nbsp;</span>Импорт библиотек и загрузка данных</a></span></li><li><span><a href=\"#Просмотр-датасетов\" data-toc-modified-id=\"Просмотр-датасетов-1.2\"><span class=\"toc-item-num\">1.2&nbsp;&nbsp;</span>Просмотр датасетов</a></span></li><li><span><a href=\"#Добавим-в-тестовую-выборку-целевые-признаки\" data-toc-modified-id=\"Добавим-в-тестовую-выборку-целевые-признаки-1.3\"><span class=\"toc-item-num\">1.3&nbsp;&nbsp;</span>Добавим в тестовую выборку целевые признаки</a></span></li><li><span><a href=\"#Проверка-на-пропуски\" data-toc-modified-id=\"Проверка-на-пропуски-1.4\"><span class=\"toc-item-num\">1.4&nbsp;&nbsp;</span>Проверка на пропуски</a></span></li><li><span><a href=\"#Заполнение-пропусков\" data-toc-modified-id=\"Заполнение-пропусков-1.5\"><span class=\"toc-item-num\">1.5&nbsp;&nbsp;</span>Заполнение пропусков</a></span></li><li><span><a href=\"#Посчитаем-явные-дубликаты\" data-toc-modified-id=\"Посчитаем-явные-дубликаты-1.6\"><span class=\"toc-item-num\">1.6&nbsp;&nbsp;</span>Посчитаем явные дубликаты</a></span></li><li><span><a href=\"#Проверка-формулы-для-recovery\" data-toc-modified-id=\"Проверка-формулы-для-recovery-1.7\"><span class=\"toc-item-num\">1.7&nbsp;&nbsp;</span>Проверка формулы для recovery</a></span></li><li><span><a href=\"#Признаки,-недоступные-в-тестовой-выборке\" data-toc-modified-id=\"Признаки,-недоступные-в-тестовой-выборке-1.8\"><span class=\"toc-item-num\">1.8&nbsp;&nbsp;</span>Признаки, недоступные в тестовой выборке</a></span></li></ul></li><li><span><a href=\"#Анализ-данных\" data-toc-modified-id=\"Анализ-данных-2\"><span class=\"toc-item-num\">2&nbsp;&nbsp;</span>Анализ данных</a></span><ul class=\"toc-item\"><li><span><a href=\"#Изменение-концентрации-металлов-(Au,-Ag,-Pb)\" data-toc-modified-id=\"Изменение-концентрации-металлов-(Au,-Ag,-Pb)-2.1\"><span class=\"toc-item-num\">2.1&nbsp;&nbsp;</span>Изменение концентрации металлов (Au, Ag, Pb)</a></span></li><li><span><a href=\"#Сравнение-распределения-размеров-гранул-сырья\" data-toc-modified-id=\"Сравнение-распределения-размеров-гранул-сырья-2.2\"><span class=\"toc-item-num\">2.2&nbsp;&nbsp;</span>Сравнение распределения размеров гранул сырья</a></span></li><li><span><a href=\"#Исследование-суммарных-концентраций\" data-toc-modified-id=\"Исследование-суммарных-концентраций-2.3\"><span class=\"toc-item-num\">2.3&nbsp;&nbsp;</span>Исследование суммарных концентраций</a></span></li><li><span><a href=\"#Мультиколлинеарность\" data-toc-modified-id=\"Мультиколлинеарность-2.4\"><span class=\"toc-item-num\">2.4&nbsp;&nbsp;</span>Мультиколлинеарность</a></span></li><li><span><a href=\"#Разбиение-на-подвыборки\" data-toc-modified-id=\"Разбиение-на-подвыборки-2.5\"><span class=\"toc-item-num\">2.5&nbsp;&nbsp;</span>Разбиение на подвыборки</a></span><ul class=\"toc-item\"><li><span><a href=\"#для-обучающей:\" data-toc-modified-id=\"для-обучающей:-2.5.1\"><span class=\"toc-item-num\">2.5.1&nbsp;&nbsp;</span>для обучающей:</a></span></li><li><span><a href=\"#для-тестовой:\" data-toc-modified-id=\"для-тестовой:-2.5.2\"><span class=\"toc-item-num\">2.5.2&nbsp;&nbsp;</span>для тестовой:</a></span></li></ul></li><li><span><a href=\"#Масштабирование-признаков\" data-toc-modified-id=\"Масштабирование-признаков-2.6\"><span class=\"toc-item-num\">2.6&nbsp;&nbsp;</span>Масштабирование признаков</a></span></li></ul></li><li><span><a href=\"#Модель\" data-toc-modified-id=\"Модель-3\"><span class=\"toc-item-num\">3&nbsp;&nbsp;</span>Модель</a></span><ul class=\"toc-item\"><li><span><a href=\"#Сравнение-моделей-для-предсказания-'rougher.output.recovery'\" data-toc-modified-id=\"Сравнение-моделей-для-предсказания-'rougher.output.recovery'-3.1\"><span class=\"toc-item-num\">3.1&nbsp;&nbsp;</span>Сравнение моделей для предсказания 'rougher.output.recovery'</a></span><ul class=\"toc-item\"><li><span><a href=\"#Линейная-регрессия\" data-toc-modified-id=\"Линейная-регрессия-3.1.1\"><span class=\"toc-item-num\">3.1.1&nbsp;&nbsp;</span>Линейная регрессия</a></span></li><li><span><a href=\"#Случайный-лес\" data-toc-modified-id=\"Случайный-лес-3.1.2\"><span class=\"toc-item-num\">3.1.2&nbsp;&nbsp;</span>Случайный лес</a></span></li></ul></li><li><span><a href=\"#Сравнение-моделей-для-предсказания-'final.output.recovery'\" data-toc-modified-id=\"Сравнение-моделей-для-предсказания-'final.output.recovery'-3.2\"><span class=\"toc-item-num\">3.2&nbsp;&nbsp;</span>Сравнение моделей для предсказания 'final.output.recovery'</a></span><ul class=\"toc-item\"><li><span><a href=\"#Случайный-лес\" data-toc-modified-id=\"Случайный-лес-3.2.1\"><span class=\"toc-item-num\">3.2.1&nbsp;&nbsp;</span>Случайный лес</a></span></li></ul></li><li><span><a href=\"#Тестирование\" data-toc-modified-id=\"Тестирование-3.3\"><span class=\"toc-item-num\">3.3&nbsp;&nbsp;</span>Тестирование</a></span></li></ul></li><li><span><a href=\"#Выводы:\" data-toc-modified-id=\"Выводы:-4\"><span class=\"toc-item-num\">4&nbsp;&nbsp;</span>Выводы:</a></span></li></ul></div>"
   ]
  },
  {
   "cell_type": "markdown",
   "metadata": {},
   "source": [
    "# Восстановление золота из руды"
   ]
  },
  {
   "cell_type": "markdown",
   "metadata": {},
   "source": [
    "Подготовьте прототип модели машинного обучения для «Цифры». Компания разрабатывает решения для эффективной работы промышленных предприятий.\n",
    "\n",
    "Модель должна предсказать коэффициент восстановления золота из золотосодержащей руды. Используйте данные с параметрами добычи и очистки. \n",
    "\n",
    "Модель поможет оптимизировать производство, чтобы не запускать предприятие с убыточными характеристиками.\n",
    "\n",
    "Вам нужно:\n",
    "\n",
    "1. Подготовить данные;\n",
    "2. Провести исследовательский анализ данных;\n",
    "3. Построить и обучить модель.\n",
    "\n",
    "Чтобы выполнить проект, обращайтесь к библиотекам *pandas*, *matplotlib* и *sklearn.* Вам поможет их документация."
   ]
  },
  {
   "cell_type": "markdown",
   "metadata": {},
   "source": [
    "## Подготовка данных"
   ]
  },
  {
   "cell_type": "markdown",
   "metadata": {},
   "source": [
    "### Импорт библиотек и загрузка данных "
   ]
  },
  {
   "cell_type": "code",
   "execution_count": 1,
   "metadata": {},
   "outputs": [],
   "source": [
    "import pandas as pd\n",
    "from sklearn.metrics import mean_absolute_error\n",
    "from sklearn.metrics import mean_squared_error\n",
    "from sklearn.model_selection import train_test_split\n",
    "from sklearn.preprocessing import StandardScaler\n",
    "from sklearn.linear_model import LinearRegression\n",
    "from sklearn.model_selection import GridSearchCV\n",
    "from sklearn.ensemble import RandomForestRegressor\n",
    "import matplotlib as plt\n",
    "import numpy as np\n",
    "from sklearn.model_selection import cross_val_score\n",
    "from sklearn.metrics import make_scorer\n",
    "pd.options.mode.chained_assignment = None\n",
    "from sklearn.dummy import DummyRegressor\n",
    "import seaborn as sns\n",
    "import os"
   ]
  },
  {
   "cell_type": "code",
   "execution_count": 2,
   "metadata": {},
   "outputs": [],
   "source": [
    "sns.set(rc={'figure.figsize':(10,7) ,'axes.labelsize':14, 'axes.titlesize': 18} )"
   ]
  },
  {
   "cell_type": "code",
   "execution_count": 3,
   "metadata": {},
   "outputs": [],
   "source": [
    "pth1 = 'C:/Users/zoika/OneDrive/Рабочий стол/YP ds54/projects/2SBPrAurum/datasets/gold_recovery_full_new.csv'\n",
    "pth2 = 'C:/Users/zoika/OneDrive/Рабочий стол/YP ds54/projects/2SBPrAurum/datasets/gold_recovery_test_new.csv'\n",
    "pth3 = 'C:/Users/zoika/OneDrive/Рабочий стол/YP ds54/projects/2SBPrAurum/datasets/gold_recovery_train_new.csv'\n",
    "pth21 = '/datasets/gold_recovery_full_new.csv'\n",
    "pth22 = '/datasets/gold_recovery_test_new.csv'\n",
    "pth23 = '/datasets/gold_recovery_train_new.csv'\n",
    "if os.path.exists(pth1)&os.path.exists(pth2)&os.path.exists(pth3):\n",
    "    df_full=pd.read_csv(pth1)\n",
    "    df_test=pd.read_csv(pth2)\n",
    "    df_train=pd.read_csv(pth3)\n",
    "elif os.path.exists(pth21)&os.path.exists(pth22)&os.path.exists(pth23):\n",
    "    df_full=pd.read_csv(pth21)\n",
    "    df_test=pd.read_csv(pth22)\n",
    "    df_train=pd.read_csv(pth23)\n",
    "else:\n",
    "    print('Something is wrong')"
   ]
  },
  {
   "cell_type": "markdown",
   "metadata": {},
   "source": [
    "### Просмотр датасетов"
   ]
  },
  {
   "cell_type": "code",
   "execution_count": 4,
   "metadata": {},
   "outputs": [
    {
     "data": {
      "text/html": [
       "<div>\n",
       "<style scoped>\n",
       "    .dataframe tbody tr th:only-of-type {\n",
       "        vertical-align: middle;\n",
       "    }\n",
       "\n",
       "    .dataframe tbody tr th {\n",
       "        vertical-align: top;\n",
       "    }\n",
       "\n",
       "    .dataframe thead th {\n",
       "        text-align: right;\n",
       "    }\n",
       "</style>\n",
       "<table border=\"1\" class=\"dataframe\">\n",
       "  <thead>\n",
       "    <tr style=\"text-align: right;\">\n",
       "      <th></th>\n",
       "      <th>date</th>\n",
       "      <th>final.output.concentrate_ag</th>\n",
       "      <th>final.output.concentrate_pb</th>\n",
       "      <th>final.output.concentrate_sol</th>\n",
       "      <th>final.output.concentrate_au</th>\n",
       "      <th>final.output.recovery</th>\n",
       "      <th>final.output.tail_ag</th>\n",
       "      <th>final.output.tail_pb</th>\n",
       "      <th>final.output.tail_sol</th>\n",
       "      <th>final.output.tail_au</th>\n",
       "      <th>...</th>\n",
       "      <th>secondary_cleaner.state.floatbank4_a_air</th>\n",
       "      <th>secondary_cleaner.state.floatbank4_a_level</th>\n",
       "      <th>secondary_cleaner.state.floatbank4_b_air</th>\n",
       "      <th>secondary_cleaner.state.floatbank4_b_level</th>\n",
       "      <th>secondary_cleaner.state.floatbank5_a_air</th>\n",
       "      <th>secondary_cleaner.state.floatbank5_a_level</th>\n",
       "      <th>secondary_cleaner.state.floatbank5_b_air</th>\n",
       "      <th>secondary_cleaner.state.floatbank5_b_level</th>\n",
       "      <th>secondary_cleaner.state.floatbank6_a_air</th>\n",
       "      <th>secondary_cleaner.state.floatbank6_a_level</th>\n",
       "    </tr>\n",
       "  </thead>\n",
       "  <tbody>\n",
       "    <tr>\n",
       "      <th>0</th>\n",
       "      <td>2016-01-15 00:00:00</td>\n",
       "      <td>6.055403</td>\n",
       "      <td>9.889648</td>\n",
       "      <td>5.507324</td>\n",
       "      <td>42.192020</td>\n",
       "      <td>70.541216</td>\n",
       "      <td>10.411962</td>\n",
       "      <td>0.895447</td>\n",
       "      <td>16.904297</td>\n",
       "      <td>2.143149</td>\n",
       "      <td>...</td>\n",
       "      <td>14.016835</td>\n",
       "      <td>-502.488007</td>\n",
       "      <td>12.099931</td>\n",
       "      <td>-504.715942</td>\n",
       "      <td>9.925633</td>\n",
       "      <td>-498.310211</td>\n",
       "      <td>8.079666</td>\n",
       "      <td>-500.470978</td>\n",
       "      <td>14.151341</td>\n",
       "      <td>-605.841980</td>\n",
       "    </tr>\n",
       "    <tr>\n",
       "      <th>1</th>\n",
       "      <td>2016-01-15 01:00:00</td>\n",
       "      <td>6.029369</td>\n",
       "      <td>9.968944</td>\n",
       "      <td>5.257781</td>\n",
       "      <td>42.701629</td>\n",
       "      <td>69.266198</td>\n",
       "      <td>10.462676</td>\n",
       "      <td>0.927452</td>\n",
       "      <td>16.634514</td>\n",
       "      <td>2.224930</td>\n",
       "      <td>...</td>\n",
       "      <td>13.992281</td>\n",
       "      <td>-505.503262</td>\n",
       "      <td>11.950531</td>\n",
       "      <td>-501.331529</td>\n",
       "      <td>10.039245</td>\n",
       "      <td>-500.169983</td>\n",
       "      <td>7.984757</td>\n",
       "      <td>-500.582168</td>\n",
       "      <td>13.998353</td>\n",
       "      <td>-599.787184</td>\n",
       "    </tr>\n",
       "    <tr>\n",
       "      <th>2</th>\n",
       "      <td>2016-01-15 02:00:00</td>\n",
       "      <td>6.055926</td>\n",
       "      <td>10.213995</td>\n",
       "      <td>5.383759</td>\n",
       "      <td>42.657501</td>\n",
       "      <td>68.116445</td>\n",
       "      <td>10.507046</td>\n",
       "      <td>0.953716</td>\n",
       "      <td>16.208849</td>\n",
       "      <td>2.257889</td>\n",
       "      <td>...</td>\n",
       "      <td>14.015015</td>\n",
       "      <td>-502.520901</td>\n",
       "      <td>11.912783</td>\n",
       "      <td>-501.133383</td>\n",
       "      <td>10.070913</td>\n",
       "      <td>-500.129135</td>\n",
       "      <td>8.013877</td>\n",
       "      <td>-500.517572</td>\n",
       "      <td>14.028663</td>\n",
       "      <td>-601.427363</td>\n",
       "    </tr>\n",
       "    <tr>\n",
       "      <th>3</th>\n",
       "      <td>2016-01-15 03:00:00</td>\n",
       "      <td>6.047977</td>\n",
       "      <td>9.977019</td>\n",
       "      <td>4.858634</td>\n",
       "      <td>42.689819</td>\n",
       "      <td>68.347543</td>\n",
       "      <td>10.422762</td>\n",
       "      <td>0.883763</td>\n",
       "      <td>16.532835</td>\n",
       "      <td>2.146849</td>\n",
       "      <td>...</td>\n",
       "      <td>14.036510</td>\n",
       "      <td>-500.857308</td>\n",
       "      <td>11.999550</td>\n",
       "      <td>-501.193686</td>\n",
       "      <td>9.970366</td>\n",
       "      <td>-499.201640</td>\n",
       "      <td>7.977324</td>\n",
       "      <td>-500.255908</td>\n",
       "      <td>14.005551</td>\n",
       "      <td>-599.996129</td>\n",
       "    </tr>\n",
       "  </tbody>\n",
       "</table>\n",
       "<p>4 rows × 87 columns</p>\n",
       "</div>"
      ],
      "text/plain": [
       "                  date  final.output.concentrate_ag  \\\n",
       "0  2016-01-15 00:00:00                     6.055403   \n",
       "1  2016-01-15 01:00:00                     6.029369   \n",
       "2  2016-01-15 02:00:00                     6.055926   \n",
       "3  2016-01-15 03:00:00                     6.047977   \n",
       "\n",
       "   final.output.concentrate_pb  final.output.concentrate_sol  \\\n",
       "0                     9.889648                      5.507324   \n",
       "1                     9.968944                      5.257781   \n",
       "2                    10.213995                      5.383759   \n",
       "3                     9.977019                      4.858634   \n",
       "\n",
       "   final.output.concentrate_au  final.output.recovery  final.output.tail_ag  \\\n",
       "0                    42.192020              70.541216             10.411962   \n",
       "1                    42.701629              69.266198             10.462676   \n",
       "2                    42.657501              68.116445             10.507046   \n",
       "3                    42.689819              68.347543             10.422762   \n",
       "\n",
       "   final.output.tail_pb  final.output.tail_sol  final.output.tail_au  ...  \\\n",
       "0              0.895447              16.904297              2.143149  ...   \n",
       "1              0.927452              16.634514              2.224930  ...   \n",
       "2              0.953716              16.208849              2.257889  ...   \n",
       "3              0.883763              16.532835              2.146849  ...   \n",
       "\n",
       "   secondary_cleaner.state.floatbank4_a_air  \\\n",
       "0                                 14.016835   \n",
       "1                                 13.992281   \n",
       "2                                 14.015015   \n",
       "3                                 14.036510   \n",
       "\n",
       "   secondary_cleaner.state.floatbank4_a_level  \\\n",
       "0                                 -502.488007   \n",
       "1                                 -505.503262   \n",
       "2                                 -502.520901   \n",
       "3                                 -500.857308   \n",
       "\n",
       "   secondary_cleaner.state.floatbank4_b_air  \\\n",
       "0                                 12.099931   \n",
       "1                                 11.950531   \n",
       "2                                 11.912783   \n",
       "3                                 11.999550   \n",
       "\n",
       "   secondary_cleaner.state.floatbank4_b_level  \\\n",
       "0                                 -504.715942   \n",
       "1                                 -501.331529   \n",
       "2                                 -501.133383   \n",
       "3                                 -501.193686   \n",
       "\n",
       "   secondary_cleaner.state.floatbank5_a_air  \\\n",
       "0                                  9.925633   \n",
       "1                                 10.039245   \n",
       "2                                 10.070913   \n",
       "3                                  9.970366   \n",
       "\n",
       "   secondary_cleaner.state.floatbank5_a_level  \\\n",
       "0                                 -498.310211   \n",
       "1                                 -500.169983   \n",
       "2                                 -500.129135   \n",
       "3                                 -499.201640   \n",
       "\n",
       "   secondary_cleaner.state.floatbank5_b_air  \\\n",
       "0                                  8.079666   \n",
       "1                                  7.984757   \n",
       "2                                  8.013877   \n",
       "3                                  7.977324   \n",
       "\n",
       "   secondary_cleaner.state.floatbank5_b_level  \\\n",
       "0                                 -500.470978   \n",
       "1                                 -500.582168   \n",
       "2                                 -500.517572   \n",
       "3                                 -500.255908   \n",
       "\n",
       "   secondary_cleaner.state.floatbank6_a_air  \\\n",
       "0                                 14.151341   \n",
       "1                                 13.998353   \n",
       "2                                 14.028663   \n",
       "3                                 14.005551   \n",
       "\n",
       "   secondary_cleaner.state.floatbank6_a_level  \n",
       "0                                 -605.841980  \n",
       "1                                 -599.787184  \n",
       "2                                 -601.427363  \n",
       "3                                 -599.996129  \n",
       "\n",
       "[4 rows x 87 columns]"
      ]
     },
     "execution_count": 4,
     "metadata": {},
     "output_type": "execute_result"
    }
   ],
   "source": [
    "df_full.head(4)"
   ]
  },
  {
   "cell_type": "code",
   "execution_count": 5,
   "metadata": {},
   "outputs": [
    {
     "data": {
      "text/plain": [
       "(19439, 87)"
      ]
     },
     "execution_count": 5,
     "metadata": {},
     "output_type": "execute_result"
    }
   ],
   "source": [
    "df_full.shape"
   ]
  },
  {
   "cell_type": "code",
   "execution_count": 6,
   "metadata": {},
   "outputs": [
    {
     "data": {
      "text/plain": [
       "(14149, 87)"
      ]
     },
     "execution_count": 6,
     "metadata": {},
     "output_type": "execute_result"
    }
   ],
   "source": [
    "df_train.shape"
   ]
  },
  {
   "cell_type": "code",
   "execution_count": 7,
   "metadata": {},
   "outputs": [
    {
     "data": {
      "text/html": [
       "<div>\n",
       "<style scoped>\n",
       "    .dataframe tbody tr th:only-of-type {\n",
       "        vertical-align: middle;\n",
       "    }\n",
       "\n",
       "    .dataframe tbody tr th {\n",
       "        vertical-align: top;\n",
       "    }\n",
       "\n",
       "    .dataframe thead th {\n",
       "        text-align: right;\n",
       "    }\n",
       "</style>\n",
       "<table border=\"1\" class=\"dataframe\">\n",
       "  <thead>\n",
       "    <tr style=\"text-align: right;\">\n",
       "      <th></th>\n",
       "      <th>date</th>\n",
       "      <th>final.output.concentrate_ag</th>\n",
       "      <th>final.output.concentrate_pb</th>\n",
       "      <th>final.output.concentrate_sol</th>\n",
       "      <th>final.output.concentrate_au</th>\n",
       "      <th>final.output.recovery</th>\n",
       "      <th>final.output.tail_ag</th>\n",
       "      <th>final.output.tail_pb</th>\n",
       "      <th>final.output.tail_sol</th>\n",
       "      <th>final.output.tail_au</th>\n",
       "      <th>...</th>\n",
       "      <th>secondary_cleaner.state.floatbank4_a_air</th>\n",
       "      <th>secondary_cleaner.state.floatbank4_a_level</th>\n",
       "      <th>secondary_cleaner.state.floatbank4_b_air</th>\n",
       "      <th>secondary_cleaner.state.floatbank4_b_level</th>\n",
       "      <th>secondary_cleaner.state.floatbank5_a_air</th>\n",
       "      <th>secondary_cleaner.state.floatbank5_a_level</th>\n",
       "      <th>secondary_cleaner.state.floatbank5_b_air</th>\n",
       "      <th>secondary_cleaner.state.floatbank5_b_level</th>\n",
       "      <th>secondary_cleaner.state.floatbank6_a_air</th>\n",
       "      <th>secondary_cleaner.state.floatbank6_a_level</th>\n",
       "    </tr>\n",
       "  </thead>\n",
       "  <tbody>\n",
       "    <tr>\n",
       "      <th>0</th>\n",
       "      <td>2016-01-15 00:00:00</td>\n",
       "      <td>6.055403</td>\n",
       "      <td>9.889648</td>\n",
       "      <td>5.507324</td>\n",
       "      <td>42.192020</td>\n",
       "      <td>70.541216</td>\n",
       "      <td>10.411962</td>\n",
       "      <td>0.895447</td>\n",
       "      <td>16.904297</td>\n",
       "      <td>2.143149</td>\n",
       "      <td>...</td>\n",
       "      <td>14.016835</td>\n",
       "      <td>-502.488007</td>\n",
       "      <td>12.099931</td>\n",
       "      <td>-504.715942</td>\n",
       "      <td>9.925633</td>\n",
       "      <td>-498.310211</td>\n",
       "      <td>8.079666</td>\n",
       "      <td>-500.470978</td>\n",
       "      <td>14.151341</td>\n",
       "      <td>-605.841980</td>\n",
       "    </tr>\n",
       "    <tr>\n",
       "      <th>1</th>\n",
       "      <td>2016-01-15 01:00:00</td>\n",
       "      <td>6.029369</td>\n",
       "      <td>9.968944</td>\n",
       "      <td>5.257781</td>\n",
       "      <td>42.701629</td>\n",
       "      <td>69.266198</td>\n",
       "      <td>10.462676</td>\n",
       "      <td>0.927452</td>\n",
       "      <td>16.634514</td>\n",
       "      <td>2.224930</td>\n",
       "      <td>...</td>\n",
       "      <td>13.992281</td>\n",
       "      <td>-505.503262</td>\n",
       "      <td>11.950531</td>\n",
       "      <td>-501.331529</td>\n",
       "      <td>10.039245</td>\n",
       "      <td>-500.169983</td>\n",
       "      <td>7.984757</td>\n",
       "      <td>-500.582168</td>\n",
       "      <td>13.998353</td>\n",
       "      <td>-599.787184</td>\n",
       "    </tr>\n",
       "    <tr>\n",
       "      <th>2</th>\n",
       "      <td>2016-01-15 02:00:00</td>\n",
       "      <td>6.055926</td>\n",
       "      <td>10.213995</td>\n",
       "      <td>5.383759</td>\n",
       "      <td>42.657501</td>\n",
       "      <td>68.116445</td>\n",
       "      <td>10.507046</td>\n",
       "      <td>0.953716</td>\n",
       "      <td>16.208849</td>\n",
       "      <td>2.257889</td>\n",
       "      <td>...</td>\n",
       "      <td>14.015015</td>\n",
       "      <td>-502.520901</td>\n",
       "      <td>11.912783</td>\n",
       "      <td>-501.133383</td>\n",
       "      <td>10.070913</td>\n",
       "      <td>-500.129135</td>\n",
       "      <td>8.013877</td>\n",
       "      <td>-500.517572</td>\n",
       "      <td>14.028663</td>\n",
       "      <td>-601.427363</td>\n",
       "    </tr>\n",
       "    <tr>\n",
       "      <th>3</th>\n",
       "      <td>2016-01-15 03:00:00</td>\n",
       "      <td>6.047977</td>\n",
       "      <td>9.977019</td>\n",
       "      <td>4.858634</td>\n",
       "      <td>42.689819</td>\n",
       "      <td>68.347543</td>\n",
       "      <td>10.422762</td>\n",
       "      <td>0.883763</td>\n",
       "      <td>16.532835</td>\n",
       "      <td>2.146849</td>\n",
       "      <td>...</td>\n",
       "      <td>14.036510</td>\n",
       "      <td>-500.857308</td>\n",
       "      <td>11.999550</td>\n",
       "      <td>-501.193686</td>\n",
       "      <td>9.970366</td>\n",
       "      <td>-499.201640</td>\n",
       "      <td>7.977324</td>\n",
       "      <td>-500.255908</td>\n",
       "      <td>14.005551</td>\n",
       "      <td>-599.996129</td>\n",
       "    </tr>\n",
       "  </tbody>\n",
       "</table>\n",
       "<p>4 rows × 87 columns</p>\n",
       "</div>"
      ],
      "text/plain": [
       "                  date  final.output.concentrate_ag  \\\n",
       "0  2016-01-15 00:00:00                     6.055403   \n",
       "1  2016-01-15 01:00:00                     6.029369   \n",
       "2  2016-01-15 02:00:00                     6.055926   \n",
       "3  2016-01-15 03:00:00                     6.047977   \n",
       "\n",
       "   final.output.concentrate_pb  final.output.concentrate_sol  \\\n",
       "0                     9.889648                      5.507324   \n",
       "1                     9.968944                      5.257781   \n",
       "2                    10.213995                      5.383759   \n",
       "3                     9.977019                      4.858634   \n",
       "\n",
       "   final.output.concentrate_au  final.output.recovery  final.output.tail_ag  \\\n",
       "0                    42.192020              70.541216             10.411962   \n",
       "1                    42.701629              69.266198             10.462676   \n",
       "2                    42.657501              68.116445             10.507046   \n",
       "3                    42.689819              68.347543             10.422762   \n",
       "\n",
       "   final.output.tail_pb  final.output.tail_sol  final.output.tail_au  ...  \\\n",
       "0              0.895447              16.904297              2.143149  ...   \n",
       "1              0.927452              16.634514              2.224930  ...   \n",
       "2              0.953716              16.208849              2.257889  ...   \n",
       "3              0.883763              16.532835              2.146849  ...   \n",
       "\n",
       "   secondary_cleaner.state.floatbank4_a_air  \\\n",
       "0                                 14.016835   \n",
       "1                                 13.992281   \n",
       "2                                 14.015015   \n",
       "3                                 14.036510   \n",
       "\n",
       "   secondary_cleaner.state.floatbank4_a_level  \\\n",
       "0                                 -502.488007   \n",
       "1                                 -505.503262   \n",
       "2                                 -502.520901   \n",
       "3                                 -500.857308   \n",
       "\n",
       "   secondary_cleaner.state.floatbank4_b_air  \\\n",
       "0                                 12.099931   \n",
       "1                                 11.950531   \n",
       "2                                 11.912783   \n",
       "3                                 11.999550   \n",
       "\n",
       "   secondary_cleaner.state.floatbank4_b_level  \\\n",
       "0                                 -504.715942   \n",
       "1                                 -501.331529   \n",
       "2                                 -501.133383   \n",
       "3                                 -501.193686   \n",
       "\n",
       "   secondary_cleaner.state.floatbank5_a_air  \\\n",
       "0                                  9.925633   \n",
       "1                                 10.039245   \n",
       "2                                 10.070913   \n",
       "3                                  9.970366   \n",
       "\n",
       "   secondary_cleaner.state.floatbank5_a_level  \\\n",
       "0                                 -498.310211   \n",
       "1                                 -500.169983   \n",
       "2                                 -500.129135   \n",
       "3                                 -499.201640   \n",
       "\n",
       "   secondary_cleaner.state.floatbank5_b_air  \\\n",
       "0                                  8.079666   \n",
       "1                                  7.984757   \n",
       "2                                  8.013877   \n",
       "3                                  7.977324   \n",
       "\n",
       "   secondary_cleaner.state.floatbank5_b_level  \\\n",
       "0                                 -500.470978   \n",
       "1                                 -500.582168   \n",
       "2                                 -500.517572   \n",
       "3                                 -500.255908   \n",
       "\n",
       "   secondary_cleaner.state.floatbank6_a_air  \\\n",
       "0                                 14.151341   \n",
       "1                                 13.998353   \n",
       "2                                 14.028663   \n",
       "3                                 14.005551   \n",
       "\n",
       "   secondary_cleaner.state.floatbank6_a_level  \n",
       "0                                 -605.841980  \n",
       "1                                 -599.787184  \n",
       "2                                 -601.427363  \n",
       "3                                 -599.996129  \n",
       "\n",
       "[4 rows x 87 columns]"
      ]
     },
     "execution_count": 7,
     "metadata": {},
     "output_type": "execute_result"
    }
   ],
   "source": [
    "df_train.head(4)"
   ]
  },
  {
   "cell_type": "code",
   "execution_count": 8,
   "metadata": {},
   "outputs": [
    {
     "data": {
      "text/plain": [
       "(5290, 53)"
      ]
     },
     "execution_count": 8,
     "metadata": {},
     "output_type": "execute_result"
    }
   ],
   "source": [
    "df_test.shape"
   ]
  },
  {
   "cell_type": "code",
   "execution_count": 9,
   "metadata": {},
   "outputs": [
    {
     "data": {
      "text/html": [
       "<div>\n",
       "<style scoped>\n",
       "    .dataframe tbody tr th:only-of-type {\n",
       "        vertical-align: middle;\n",
       "    }\n",
       "\n",
       "    .dataframe tbody tr th {\n",
       "        vertical-align: top;\n",
       "    }\n",
       "\n",
       "    .dataframe thead th {\n",
       "        text-align: right;\n",
       "    }\n",
       "</style>\n",
       "<table border=\"1\" class=\"dataframe\">\n",
       "  <thead>\n",
       "    <tr style=\"text-align: right;\">\n",
       "      <th></th>\n",
       "      <th>date</th>\n",
       "      <th>primary_cleaner.input.sulfate</th>\n",
       "      <th>primary_cleaner.input.depressant</th>\n",
       "      <th>primary_cleaner.input.feed_size</th>\n",
       "      <th>primary_cleaner.input.xanthate</th>\n",
       "      <th>primary_cleaner.state.floatbank8_a_air</th>\n",
       "      <th>primary_cleaner.state.floatbank8_a_level</th>\n",
       "      <th>primary_cleaner.state.floatbank8_b_air</th>\n",
       "      <th>primary_cleaner.state.floatbank8_b_level</th>\n",
       "      <th>primary_cleaner.state.floatbank8_c_air</th>\n",
       "      <th>...</th>\n",
       "      <th>secondary_cleaner.state.floatbank4_a_air</th>\n",
       "      <th>secondary_cleaner.state.floatbank4_a_level</th>\n",
       "      <th>secondary_cleaner.state.floatbank4_b_air</th>\n",
       "      <th>secondary_cleaner.state.floatbank4_b_level</th>\n",
       "      <th>secondary_cleaner.state.floatbank5_a_air</th>\n",
       "      <th>secondary_cleaner.state.floatbank5_a_level</th>\n",
       "      <th>secondary_cleaner.state.floatbank5_b_air</th>\n",
       "      <th>secondary_cleaner.state.floatbank5_b_level</th>\n",
       "      <th>secondary_cleaner.state.floatbank6_a_air</th>\n",
       "      <th>secondary_cleaner.state.floatbank6_a_level</th>\n",
       "    </tr>\n",
       "  </thead>\n",
       "  <tbody>\n",
       "    <tr>\n",
       "      <th>0</th>\n",
       "      <td>2016-09-01 00:59:59</td>\n",
       "      <td>210.800909</td>\n",
       "      <td>14.993118</td>\n",
       "      <td>8.080000</td>\n",
       "      <td>1.005021</td>\n",
       "      <td>1398.981301</td>\n",
       "      <td>-500.225577</td>\n",
       "      <td>1399.144926</td>\n",
       "      <td>-499.919735</td>\n",
       "      <td>1400.102998</td>\n",
       "      <td>...</td>\n",
       "      <td>12.023554</td>\n",
       "      <td>-497.795834</td>\n",
       "      <td>8.016656</td>\n",
       "      <td>-501.289139</td>\n",
       "      <td>7.946562</td>\n",
       "      <td>-432.317850</td>\n",
       "      <td>4.872511</td>\n",
       "      <td>-500.037437</td>\n",
       "      <td>26.705889</td>\n",
       "      <td>-499.709414</td>\n",
       "    </tr>\n",
       "    <tr>\n",
       "      <th>1</th>\n",
       "      <td>2016-09-01 01:59:59</td>\n",
       "      <td>215.392455</td>\n",
       "      <td>14.987471</td>\n",
       "      <td>8.080000</td>\n",
       "      <td>0.990469</td>\n",
       "      <td>1398.777912</td>\n",
       "      <td>-500.057435</td>\n",
       "      <td>1398.055362</td>\n",
       "      <td>-499.778182</td>\n",
       "      <td>1396.151033</td>\n",
       "      <td>...</td>\n",
       "      <td>12.058140</td>\n",
       "      <td>-498.695773</td>\n",
       "      <td>8.130979</td>\n",
       "      <td>-499.634209</td>\n",
       "      <td>7.958270</td>\n",
       "      <td>-525.839648</td>\n",
       "      <td>4.878850</td>\n",
       "      <td>-500.162375</td>\n",
       "      <td>25.019940</td>\n",
       "      <td>-499.819438</td>\n",
       "    </tr>\n",
       "    <tr>\n",
       "      <th>2</th>\n",
       "      <td>2016-09-01 02:59:59</td>\n",
       "      <td>215.259946</td>\n",
       "      <td>12.884934</td>\n",
       "      <td>7.786667</td>\n",
       "      <td>0.996043</td>\n",
       "      <td>1398.493666</td>\n",
       "      <td>-500.868360</td>\n",
       "      <td>1398.860436</td>\n",
       "      <td>-499.764529</td>\n",
       "      <td>1398.075709</td>\n",
       "      <td>...</td>\n",
       "      <td>11.962366</td>\n",
       "      <td>-498.767484</td>\n",
       "      <td>8.096893</td>\n",
       "      <td>-500.827423</td>\n",
       "      <td>8.071056</td>\n",
       "      <td>-500.801673</td>\n",
       "      <td>4.905125</td>\n",
       "      <td>-499.828510</td>\n",
       "      <td>24.994862</td>\n",
       "      <td>-500.622559</td>\n",
       "    </tr>\n",
       "    <tr>\n",
       "      <th>3</th>\n",
       "      <td>2016-09-01 03:59:59</td>\n",
       "      <td>215.336236</td>\n",
       "      <td>12.006805</td>\n",
       "      <td>7.640000</td>\n",
       "      <td>0.863514</td>\n",
       "      <td>1399.618111</td>\n",
       "      <td>-498.863574</td>\n",
       "      <td>1397.440120</td>\n",
       "      <td>-499.211024</td>\n",
       "      <td>1400.129303</td>\n",
       "      <td>...</td>\n",
       "      <td>12.033091</td>\n",
       "      <td>-498.350935</td>\n",
       "      <td>8.074946</td>\n",
       "      <td>-499.474407</td>\n",
       "      <td>7.897085</td>\n",
       "      <td>-500.868509</td>\n",
       "      <td>4.931400</td>\n",
       "      <td>-499.963623</td>\n",
       "      <td>24.948919</td>\n",
       "      <td>-498.709987</td>\n",
       "    </tr>\n",
       "  </tbody>\n",
       "</table>\n",
       "<p>4 rows × 53 columns</p>\n",
       "</div>"
      ],
      "text/plain": [
       "                  date  primary_cleaner.input.sulfate  \\\n",
       "0  2016-09-01 00:59:59                     210.800909   \n",
       "1  2016-09-01 01:59:59                     215.392455   \n",
       "2  2016-09-01 02:59:59                     215.259946   \n",
       "3  2016-09-01 03:59:59                     215.336236   \n",
       "\n",
       "   primary_cleaner.input.depressant  primary_cleaner.input.feed_size  \\\n",
       "0                         14.993118                         8.080000   \n",
       "1                         14.987471                         8.080000   \n",
       "2                         12.884934                         7.786667   \n",
       "3                         12.006805                         7.640000   \n",
       "\n",
       "   primary_cleaner.input.xanthate  primary_cleaner.state.floatbank8_a_air  \\\n",
       "0                        1.005021                             1398.981301   \n",
       "1                        0.990469                             1398.777912   \n",
       "2                        0.996043                             1398.493666   \n",
       "3                        0.863514                             1399.618111   \n",
       "\n",
       "   primary_cleaner.state.floatbank8_a_level  \\\n",
       "0                               -500.225577   \n",
       "1                               -500.057435   \n",
       "2                               -500.868360   \n",
       "3                               -498.863574   \n",
       "\n",
       "   primary_cleaner.state.floatbank8_b_air  \\\n",
       "0                             1399.144926   \n",
       "1                             1398.055362   \n",
       "2                             1398.860436   \n",
       "3                             1397.440120   \n",
       "\n",
       "   primary_cleaner.state.floatbank8_b_level  \\\n",
       "0                               -499.919735   \n",
       "1                               -499.778182   \n",
       "2                               -499.764529   \n",
       "3                               -499.211024   \n",
       "\n",
       "   primary_cleaner.state.floatbank8_c_air  ...  \\\n",
       "0                             1400.102998  ...   \n",
       "1                             1396.151033  ...   \n",
       "2                             1398.075709  ...   \n",
       "3                             1400.129303  ...   \n",
       "\n",
       "   secondary_cleaner.state.floatbank4_a_air  \\\n",
       "0                                 12.023554   \n",
       "1                                 12.058140   \n",
       "2                                 11.962366   \n",
       "3                                 12.033091   \n",
       "\n",
       "   secondary_cleaner.state.floatbank4_a_level  \\\n",
       "0                                 -497.795834   \n",
       "1                                 -498.695773   \n",
       "2                                 -498.767484   \n",
       "3                                 -498.350935   \n",
       "\n",
       "   secondary_cleaner.state.floatbank4_b_air  \\\n",
       "0                                  8.016656   \n",
       "1                                  8.130979   \n",
       "2                                  8.096893   \n",
       "3                                  8.074946   \n",
       "\n",
       "   secondary_cleaner.state.floatbank4_b_level  \\\n",
       "0                                 -501.289139   \n",
       "1                                 -499.634209   \n",
       "2                                 -500.827423   \n",
       "3                                 -499.474407   \n",
       "\n",
       "   secondary_cleaner.state.floatbank5_a_air  \\\n",
       "0                                  7.946562   \n",
       "1                                  7.958270   \n",
       "2                                  8.071056   \n",
       "3                                  7.897085   \n",
       "\n",
       "   secondary_cleaner.state.floatbank5_a_level  \\\n",
       "0                                 -432.317850   \n",
       "1                                 -525.839648   \n",
       "2                                 -500.801673   \n",
       "3                                 -500.868509   \n",
       "\n",
       "   secondary_cleaner.state.floatbank5_b_air  \\\n",
       "0                                  4.872511   \n",
       "1                                  4.878850   \n",
       "2                                  4.905125   \n",
       "3                                  4.931400   \n",
       "\n",
       "   secondary_cleaner.state.floatbank5_b_level  \\\n",
       "0                                 -500.037437   \n",
       "1                                 -500.162375   \n",
       "2                                 -499.828510   \n",
       "3                                 -499.963623   \n",
       "\n",
       "   secondary_cleaner.state.floatbank6_a_air  \\\n",
       "0                                 26.705889   \n",
       "1                                 25.019940   \n",
       "2                                 24.994862   \n",
       "3                                 24.948919   \n",
       "\n",
       "   secondary_cleaner.state.floatbank6_a_level  \n",
       "0                                 -499.709414  \n",
       "1                                 -499.819438  \n",
       "2                                 -500.622559  \n",
       "3                                 -498.709987  \n",
       "\n",
       "[4 rows x 53 columns]"
      ]
     },
     "execution_count": 9,
     "metadata": {},
     "output_type": "execute_result"
    }
   ],
   "source": [
    "df_test.head(4)"
   ]
  },
  {
   "cell_type": "code",
   "execution_count": 10,
   "metadata": {},
   "outputs": [
    {
     "name": "stdout",
     "output_type": "stream",
     "text": [
      "<class 'pandas.core.frame.DataFrame'>\n",
      "RangeIndex: 19439 entries, 0 to 19438\n",
      "Data columns (total 87 columns):\n",
      " #   Column                                              Non-Null Count  Dtype  \n",
      "---  ------                                              --------------  -----  \n",
      " 0   date                                                19439 non-null  object \n",
      " 1   final.output.concentrate_ag                         19438 non-null  float64\n",
      " 2   final.output.concentrate_pb                         19438 non-null  float64\n",
      " 3   final.output.concentrate_sol                        19228 non-null  float64\n",
      " 4   final.output.concentrate_au                         19439 non-null  float64\n",
      " 5   final.output.recovery                               19439 non-null  float64\n",
      " 6   final.output.tail_ag                                19438 non-null  float64\n",
      " 7   final.output.tail_pb                                19338 non-null  float64\n",
      " 8   final.output.tail_sol                               19433 non-null  float64\n",
      " 9   final.output.tail_au                                19439 non-null  float64\n",
      " 10  primary_cleaner.input.sulfate                       19415 non-null  float64\n",
      " 11  primary_cleaner.input.depressant                    19402 non-null  float64\n",
      " 12  primary_cleaner.input.feed_size                     19439 non-null  float64\n",
      " 13  primary_cleaner.input.xanthate                      19335 non-null  float64\n",
      " 14  primary_cleaner.output.concentrate_ag               19439 non-null  float64\n",
      " 15  primary_cleaner.output.concentrate_pb               19323 non-null  float64\n",
      " 16  primary_cleaner.output.concentrate_sol              19069 non-null  float64\n",
      " 17  primary_cleaner.output.concentrate_au               19439 non-null  float64\n",
      " 18  primary_cleaner.output.tail_ag                      19435 non-null  float64\n",
      " 19  primary_cleaner.output.tail_pb                      19418 non-null  float64\n",
      " 20  primary_cleaner.output.tail_sol                     19377 non-null  float64\n",
      " 21  primary_cleaner.output.tail_au                      19439 non-null  float64\n",
      " 22  primary_cleaner.state.floatbank8_a_air              19435 non-null  float64\n",
      " 23  primary_cleaner.state.floatbank8_a_level            19438 non-null  float64\n",
      " 24  primary_cleaner.state.floatbank8_b_air              19435 non-null  float64\n",
      " 25  primary_cleaner.state.floatbank8_b_level            19438 non-null  float64\n",
      " 26  primary_cleaner.state.floatbank8_c_air              19437 non-null  float64\n",
      " 27  primary_cleaner.state.floatbank8_c_level            19438 non-null  float64\n",
      " 28  primary_cleaner.state.floatbank8_d_air              19436 non-null  float64\n",
      " 29  primary_cleaner.state.floatbank8_d_level            19438 non-null  float64\n",
      " 30  rougher.calculation.sulfate_to_au_concentrate       19437 non-null  float64\n",
      " 31  rougher.calculation.floatbank10_sulfate_to_au_feed  19437 non-null  float64\n",
      " 32  rougher.calculation.floatbank11_sulfate_to_au_feed  19437 non-null  float64\n",
      " 33  rougher.calculation.au_pb_ratio                     19439 non-null  float64\n",
      " 34  rougher.input.feed_ag                               19439 non-null  float64\n",
      " 35  rougher.input.feed_pb                               19339 non-null  float64\n",
      " 36  rougher.input.feed_rate                             19428 non-null  float64\n",
      " 37  rougher.input.feed_size                             19294 non-null  float64\n",
      " 38  rougher.input.feed_sol                              19340 non-null  float64\n",
      " 39  rougher.input.feed_au                               19439 non-null  float64\n",
      " 40  rougher.input.floatbank10_sulfate                   19405 non-null  float64\n",
      " 41  rougher.input.floatbank10_xanthate                  19431 non-null  float64\n",
      " 42  rougher.input.floatbank11_sulfate                   19395 non-null  float64\n",
      " 43  rougher.input.floatbank11_xanthate                  18986 non-null  float64\n",
      " 44  rougher.output.concentrate_ag                       19439 non-null  float64\n",
      " 45  rougher.output.concentrate_pb                       19439 non-null  float64\n",
      " 46  rougher.output.concentrate_sol                      19416 non-null  float64\n",
      " 47  rougher.output.concentrate_au                       19439 non-null  float64\n",
      " 48  rougher.output.recovery                             19439 non-null  float64\n",
      " 49  rougher.output.tail_ag                              19438 non-null  float64\n",
      " 50  rougher.output.tail_pb                              19439 non-null  float64\n",
      " 51  rougher.output.tail_sol                             19439 non-null  float64\n",
      " 52  rougher.output.tail_au                              19439 non-null  float64\n",
      " 53  rougher.state.floatbank10_a_air                     19438 non-null  float64\n",
      " 54  rougher.state.floatbank10_a_level                   19438 non-null  float64\n",
      " 55  rougher.state.floatbank10_b_air                     19438 non-null  float64\n",
      " 56  rougher.state.floatbank10_b_level                   19438 non-null  float64\n",
      " 57  rougher.state.floatbank10_c_air                     19438 non-null  float64\n",
      " 58  rougher.state.floatbank10_c_level                   19438 non-null  float64\n",
      " 59  rougher.state.floatbank10_d_air                     19439 non-null  float64\n",
      " 60  rougher.state.floatbank10_d_level                   19439 non-null  float64\n",
      " 61  rougher.state.floatbank10_e_air                     19003 non-null  float64\n",
      " 62  rougher.state.floatbank10_e_level                   19439 non-null  float64\n",
      " 63  rougher.state.floatbank10_f_air                     19439 non-null  float64\n",
      " 64  rougher.state.floatbank10_f_level                   19439 non-null  float64\n",
      " 65  secondary_cleaner.output.tail_ag                    19437 non-null  float64\n",
      " 66  secondary_cleaner.output.tail_pb                    19427 non-null  float64\n",
      " 67  secondary_cleaner.output.tail_sol                   17691 non-null  float64\n",
      " 68  secondary_cleaner.output.tail_au                    19439 non-null  float64\n",
      " 69  secondary_cleaner.state.floatbank2_a_air            19219 non-null  float64\n",
      " 70  secondary_cleaner.state.floatbank2_a_level          19438 non-null  float64\n",
      " 71  secondary_cleaner.state.floatbank2_b_air            19416 non-null  float64\n",
      " 72  secondary_cleaner.state.floatbank2_b_level          19438 non-null  float64\n",
      " 73  secondary_cleaner.state.floatbank3_a_air            19426 non-null  float64\n",
      " 74  secondary_cleaner.state.floatbank3_a_level          19438 non-null  float64\n",
      " 75  secondary_cleaner.state.floatbank3_b_air            19438 non-null  float64\n",
      " 76  secondary_cleaner.state.floatbank3_b_level          19438 non-null  float64\n",
      " 77  secondary_cleaner.state.floatbank4_a_air            19433 non-null  float64\n",
      " 78  secondary_cleaner.state.floatbank4_a_level          19438 non-null  float64\n",
      " 79  secondary_cleaner.state.floatbank4_b_air            19438 non-null  float64\n",
      " 80  secondary_cleaner.state.floatbank4_b_level          19438 non-null  float64\n",
      " 81  secondary_cleaner.state.floatbank5_a_air            19438 non-null  float64\n",
      " 82  secondary_cleaner.state.floatbank5_a_level          19438 non-null  float64\n",
      " 83  secondary_cleaner.state.floatbank5_b_air            19438 non-null  float64\n",
      " 84  secondary_cleaner.state.floatbank5_b_level          19438 non-null  float64\n",
      " 85  secondary_cleaner.state.floatbank6_a_air            19437 non-null  float64\n",
      " 86  secondary_cleaner.state.floatbank6_a_level          19438 non-null  float64\n",
      "dtypes: float64(86), object(1)\n",
      "memory usage: 12.9+ MB\n"
     ]
    }
   ],
   "source": [
    "df_full.info()"
   ]
  },
  {
   "cell_type": "code",
   "execution_count": 11,
   "metadata": {
    "scrolled": false
   },
   "outputs": [
    {
     "name": "stdout",
     "output_type": "stream",
     "text": [
      "<class 'pandas.core.frame.DataFrame'>\n",
      "RangeIndex: 5290 entries, 0 to 5289\n",
      "Data columns (total 53 columns):\n",
      " #   Column                                      Non-Null Count  Dtype  \n",
      "---  ------                                      --------------  -----  \n",
      " 0   date                                        5290 non-null   object \n",
      " 1   primary_cleaner.input.sulfate               5286 non-null   float64\n",
      " 2   primary_cleaner.input.depressant            5285 non-null   float64\n",
      " 3   primary_cleaner.input.feed_size             5290 non-null   float64\n",
      " 4   primary_cleaner.input.xanthate              5286 non-null   float64\n",
      " 5   primary_cleaner.state.floatbank8_a_air      5290 non-null   float64\n",
      " 6   primary_cleaner.state.floatbank8_a_level    5290 non-null   float64\n",
      " 7   primary_cleaner.state.floatbank8_b_air      5290 non-null   float64\n",
      " 8   primary_cleaner.state.floatbank8_b_level    5290 non-null   float64\n",
      " 9   primary_cleaner.state.floatbank8_c_air      5290 non-null   float64\n",
      " 10  primary_cleaner.state.floatbank8_c_level    5290 non-null   float64\n",
      " 11  primary_cleaner.state.floatbank8_d_air      5290 non-null   float64\n",
      " 12  primary_cleaner.state.floatbank8_d_level    5290 non-null   float64\n",
      " 13  rougher.input.feed_ag                       5290 non-null   float64\n",
      " 14  rougher.input.feed_pb                       5290 non-null   float64\n",
      " 15  rougher.input.feed_rate                     5287 non-null   float64\n",
      " 16  rougher.input.feed_size                     5289 non-null   float64\n",
      " 17  rougher.input.feed_sol                      5269 non-null   float64\n",
      " 18  rougher.input.feed_au                       5290 non-null   float64\n",
      " 19  rougher.input.floatbank10_sulfate           5285 non-null   float64\n",
      " 20  rougher.input.floatbank10_xanthate          5290 non-null   float64\n",
      " 21  rougher.input.floatbank11_sulfate           5282 non-null   float64\n",
      " 22  rougher.input.floatbank11_xanthate          5265 non-null   float64\n",
      " 23  rougher.state.floatbank10_a_air             5290 non-null   float64\n",
      " 24  rougher.state.floatbank10_a_level           5290 non-null   float64\n",
      " 25  rougher.state.floatbank10_b_air             5290 non-null   float64\n",
      " 26  rougher.state.floatbank10_b_level           5290 non-null   float64\n",
      " 27  rougher.state.floatbank10_c_air             5290 non-null   float64\n",
      " 28  rougher.state.floatbank10_c_level           5290 non-null   float64\n",
      " 29  rougher.state.floatbank10_d_air             5290 non-null   float64\n",
      " 30  rougher.state.floatbank10_d_level           5290 non-null   float64\n",
      " 31  rougher.state.floatbank10_e_air             5290 non-null   float64\n",
      " 32  rougher.state.floatbank10_e_level           5290 non-null   float64\n",
      " 33  rougher.state.floatbank10_f_air             5290 non-null   float64\n",
      " 34  rougher.state.floatbank10_f_level           5290 non-null   float64\n",
      " 35  secondary_cleaner.state.floatbank2_a_air    5287 non-null   float64\n",
      " 36  secondary_cleaner.state.floatbank2_a_level  5290 non-null   float64\n",
      " 37  secondary_cleaner.state.floatbank2_b_air    5288 non-null   float64\n",
      " 38  secondary_cleaner.state.floatbank2_b_level  5290 non-null   float64\n",
      " 39  secondary_cleaner.state.floatbank3_a_air    5281 non-null   float64\n",
      " 40  secondary_cleaner.state.floatbank3_a_level  5290 non-null   float64\n",
      " 41  secondary_cleaner.state.floatbank3_b_air    5290 non-null   float64\n",
      " 42  secondary_cleaner.state.floatbank3_b_level  5290 non-null   float64\n",
      " 43  secondary_cleaner.state.floatbank4_a_air    5290 non-null   float64\n",
      " 44  secondary_cleaner.state.floatbank4_a_level  5290 non-null   float64\n",
      " 45  secondary_cleaner.state.floatbank4_b_air    5290 non-null   float64\n",
      " 46  secondary_cleaner.state.floatbank4_b_level  5290 non-null   float64\n",
      " 47  secondary_cleaner.state.floatbank5_a_air    5290 non-null   float64\n",
      " 48  secondary_cleaner.state.floatbank5_a_level  5290 non-null   float64\n",
      " 49  secondary_cleaner.state.floatbank5_b_air    5290 non-null   float64\n",
      " 50  secondary_cleaner.state.floatbank5_b_level  5290 non-null   float64\n",
      " 51  secondary_cleaner.state.floatbank6_a_air    5290 non-null   float64\n",
      " 52  secondary_cleaner.state.floatbank6_a_level  5290 non-null   float64\n",
      "dtypes: float64(52), object(1)\n",
      "memory usage: 2.1+ MB\n"
     ]
    }
   ],
   "source": [
    "df_test.info()"
   ]
  },
  {
   "cell_type": "code",
   "execution_count": 12,
   "metadata": {},
   "outputs": [
    {
     "name": "stdout",
     "output_type": "stream",
     "text": [
      "<class 'pandas.core.frame.DataFrame'>\n",
      "RangeIndex: 14149 entries, 0 to 14148\n",
      "Data columns (total 87 columns):\n",
      " #   Column                                              Non-Null Count  Dtype  \n",
      "---  ------                                              --------------  -----  \n",
      " 0   date                                                14149 non-null  object \n",
      " 1   final.output.concentrate_ag                         14148 non-null  float64\n",
      " 2   final.output.concentrate_pb                         14148 non-null  float64\n",
      " 3   final.output.concentrate_sol                        13938 non-null  float64\n",
      " 4   final.output.concentrate_au                         14149 non-null  float64\n",
      " 5   final.output.recovery                               14149 non-null  float64\n",
      " 6   final.output.tail_ag                                14149 non-null  float64\n",
      " 7   final.output.tail_pb                                14049 non-null  float64\n",
      " 8   final.output.tail_sol                               14144 non-null  float64\n",
      " 9   final.output.tail_au                                14149 non-null  float64\n",
      " 10  primary_cleaner.input.sulfate                       14129 non-null  float64\n",
      " 11  primary_cleaner.input.depressant                    14117 non-null  float64\n",
      " 12  primary_cleaner.input.feed_size                     14149 non-null  float64\n",
      " 13  primary_cleaner.input.xanthate                      14049 non-null  float64\n",
      " 14  primary_cleaner.output.concentrate_ag               14149 non-null  float64\n",
      " 15  primary_cleaner.output.concentrate_pb               14063 non-null  float64\n",
      " 16  primary_cleaner.output.concentrate_sol              13863 non-null  float64\n",
      " 17  primary_cleaner.output.concentrate_au               14149 non-null  float64\n",
      " 18  primary_cleaner.output.tail_ag                      14148 non-null  float64\n",
      " 19  primary_cleaner.output.tail_pb                      14134 non-null  float64\n",
      " 20  primary_cleaner.output.tail_sol                     14103 non-null  float64\n",
      " 21  primary_cleaner.output.tail_au                      14149 non-null  float64\n",
      " 22  primary_cleaner.state.floatbank8_a_air              14145 non-null  float64\n",
      " 23  primary_cleaner.state.floatbank8_a_level            14148 non-null  float64\n",
      " 24  primary_cleaner.state.floatbank8_b_air              14145 non-null  float64\n",
      " 25  primary_cleaner.state.floatbank8_b_level            14148 non-null  float64\n",
      " 26  primary_cleaner.state.floatbank8_c_air              14147 non-null  float64\n",
      " 27  primary_cleaner.state.floatbank8_c_level            14148 non-null  float64\n",
      " 28  primary_cleaner.state.floatbank8_d_air              14146 non-null  float64\n",
      " 29  primary_cleaner.state.floatbank8_d_level            14148 non-null  float64\n",
      " 30  rougher.calculation.sulfate_to_au_concentrate       14148 non-null  float64\n",
      " 31  rougher.calculation.floatbank10_sulfate_to_au_feed  14148 non-null  float64\n",
      " 32  rougher.calculation.floatbank11_sulfate_to_au_feed  14148 non-null  float64\n",
      " 33  rougher.calculation.au_pb_ratio                     14149 non-null  float64\n",
      " 34  rougher.input.feed_ag                               14149 non-null  float64\n",
      " 35  rougher.input.feed_pb                               14049 non-null  float64\n",
      " 36  rougher.input.feed_rate                             14141 non-null  float64\n",
      " 37  rougher.input.feed_size                             14005 non-null  float64\n",
      " 38  rougher.input.feed_sol                              14071 non-null  float64\n",
      " 39  rougher.input.feed_au                               14149 non-null  float64\n",
      " 40  rougher.input.floatbank10_sulfate                   14120 non-null  float64\n",
      " 41  rougher.input.floatbank10_xanthate                  14141 non-null  float64\n",
      " 42  rougher.input.floatbank11_sulfate                   14113 non-null  float64\n",
      " 43  rougher.input.floatbank11_xanthate                  13721 non-null  float64\n",
      " 44  rougher.output.concentrate_ag                       14149 non-null  float64\n",
      " 45  rougher.output.concentrate_pb                       14149 non-null  float64\n",
      " 46  rougher.output.concentrate_sol                      14127 non-null  float64\n",
      " 47  rougher.output.concentrate_au                       14149 non-null  float64\n",
      " 48  rougher.output.recovery                             14149 non-null  float64\n",
      " 49  rougher.output.tail_ag                              14148 non-null  float64\n",
      " 50  rougher.output.tail_pb                              14149 non-null  float64\n",
      " 51  rougher.output.tail_sol                             14149 non-null  float64\n",
      " 52  rougher.output.tail_au                              14149 non-null  float64\n",
      " 53  rougher.state.floatbank10_a_air                     14148 non-null  float64\n",
      " 54  rougher.state.floatbank10_a_level                   14148 non-null  float64\n",
      " 55  rougher.state.floatbank10_b_air                     14148 non-null  float64\n",
      " 56  rougher.state.floatbank10_b_level                   14148 non-null  float64\n",
      " 57  rougher.state.floatbank10_c_air                     14148 non-null  float64\n",
      " 58  rougher.state.floatbank10_c_level                   14148 non-null  float64\n",
      " 59  rougher.state.floatbank10_d_air                     14149 non-null  float64\n",
      " 60  rougher.state.floatbank10_d_level                   14149 non-null  float64\n",
      " 61  rougher.state.floatbank10_e_air                     13713 non-null  float64\n",
      " 62  rougher.state.floatbank10_e_level                   14149 non-null  float64\n",
      " 63  rougher.state.floatbank10_f_air                     14149 non-null  float64\n",
      " 64  rougher.state.floatbank10_f_level                   14149 non-null  float64\n",
      " 65  secondary_cleaner.output.tail_ag                    14147 non-null  float64\n",
      " 66  secondary_cleaner.output.tail_pb                    14139 non-null  float64\n",
      " 67  secondary_cleaner.output.tail_sol                   12544 non-null  float64\n",
      " 68  secondary_cleaner.output.tail_au                    14149 non-null  float64\n",
      " 69  secondary_cleaner.state.floatbank2_a_air            13932 non-null  float64\n",
      " 70  secondary_cleaner.state.floatbank2_a_level          14148 non-null  float64\n",
      " 71  secondary_cleaner.state.floatbank2_b_air            14128 non-null  float64\n",
      " 72  secondary_cleaner.state.floatbank2_b_level          14148 non-null  float64\n",
      " 73  secondary_cleaner.state.floatbank3_a_air            14145 non-null  float64\n",
      " 74  secondary_cleaner.state.floatbank3_a_level          14148 non-null  float64\n",
      " 75  secondary_cleaner.state.floatbank3_b_air            14148 non-null  float64\n",
      " 76  secondary_cleaner.state.floatbank3_b_level          14148 non-null  float64\n",
      " 77  secondary_cleaner.state.floatbank4_a_air            14143 non-null  float64\n",
      " 78  secondary_cleaner.state.floatbank4_a_level          14148 non-null  float64\n",
      " 79  secondary_cleaner.state.floatbank4_b_air            14148 non-null  float64\n",
      " 80  secondary_cleaner.state.floatbank4_b_level          14148 non-null  float64\n",
      " 81  secondary_cleaner.state.floatbank5_a_air            14148 non-null  float64\n",
      " 82  secondary_cleaner.state.floatbank5_a_level          14148 non-null  float64\n",
      " 83  secondary_cleaner.state.floatbank5_b_air            14148 non-null  float64\n",
      " 84  secondary_cleaner.state.floatbank5_b_level          14148 non-null  float64\n",
      " 85  secondary_cleaner.state.floatbank6_a_air            14147 non-null  float64\n",
      " 86  secondary_cleaner.state.floatbank6_a_level          14148 non-null  float64\n",
      "dtypes: float64(86), object(1)\n",
      "memory usage: 9.4+ MB\n"
     ]
    }
   ],
   "source": [
    "df_train.info()"
   ]
  },
  {
   "cell_type": "markdown",
   "metadata": {},
   "source": [
    "### Добавим в тестовую выборку целевые признаки\n",
    "из полной выборки, т.к. они отсутствуют, но необходимы, чтобы оценить итоговую модель"
   ]
  },
  {
   "cell_type": "code",
   "execution_count": 13,
   "metadata": {},
   "outputs": [
    {
     "data": {
      "text/plain": [
       "(5290, 53)"
      ]
     },
     "execution_count": 13,
     "metadata": {},
     "output_type": "execute_result"
    }
   ],
   "source": [
    "df_test.shape"
   ]
  },
  {
   "cell_type": "code",
   "execution_count": 14,
   "metadata": {},
   "outputs": [],
   "source": [
    "df_test=df_test.merge(df_full[['rougher.output.recovery','final.output.recovery','date']],on='date', how='left')"
   ]
  },
  {
   "cell_type": "code",
   "execution_count": 15,
   "metadata": {},
   "outputs": [
    {
     "data": {
      "text/plain": [
       "(5290, 55)"
      ]
     },
     "execution_count": 15,
     "metadata": {},
     "output_type": "execute_result"
    }
   ],
   "source": [
    "df_test.shape"
   ]
  },
  {
   "cell_type": "code",
   "execution_count": 16,
   "metadata": {
    "scrolled": true
   },
   "outputs": [
    {
     "data": {
      "text/html": [
       "<div>\n",
       "<style scoped>\n",
       "    .dataframe tbody tr th:only-of-type {\n",
       "        vertical-align: middle;\n",
       "    }\n",
       "\n",
       "    .dataframe tbody tr th {\n",
       "        vertical-align: top;\n",
       "    }\n",
       "\n",
       "    .dataframe thead th {\n",
       "        text-align: right;\n",
       "    }\n",
       "</style>\n",
       "<table border=\"1\" class=\"dataframe\">\n",
       "  <thead>\n",
       "    <tr style=\"text-align: right;\">\n",
       "      <th></th>\n",
       "      <th>date</th>\n",
       "      <th>primary_cleaner.input.sulfate</th>\n",
       "      <th>primary_cleaner.input.depressant</th>\n",
       "      <th>primary_cleaner.input.feed_size</th>\n",
       "      <th>primary_cleaner.input.xanthate</th>\n",
       "      <th>primary_cleaner.state.floatbank8_a_air</th>\n",
       "      <th>primary_cleaner.state.floatbank8_a_level</th>\n",
       "      <th>primary_cleaner.state.floatbank8_b_air</th>\n",
       "      <th>primary_cleaner.state.floatbank8_b_level</th>\n",
       "      <th>primary_cleaner.state.floatbank8_c_air</th>\n",
       "      <th>...</th>\n",
       "      <th>secondary_cleaner.state.floatbank4_b_air</th>\n",
       "      <th>secondary_cleaner.state.floatbank4_b_level</th>\n",
       "      <th>secondary_cleaner.state.floatbank5_a_air</th>\n",
       "      <th>secondary_cleaner.state.floatbank5_a_level</th>\n",
       "      <th>secondary_cleaner.state.floatbank5_b_air</th>\n",
       "      <th>secondary_cleaner.state.floatbank5_b_level</th>\n",
       "      <th>secondary_cleaner.state.floatbank6_a_air</th>\n",
       "      <th>secondary_cleaner.state.floatbank6_a_level</th>\n",
       "      <th>rougher.output.recovery</th>\n",
       "      <th>final.output.recovery</th>\n",
       "    </tr>\n",
       "  </thead>\n",
       "  <tbody>\n",
       "    <tr>\n",
       "      <th>0</th>\n",
       "      <td>2016-09-01 00:59:59</td>\n",
       "      <td>210.800909</td>\n",
       "      <td>14.993118</td>\n",
       "      <td>8.08</td>\n",
       "      <td>1.005021</td>\n",
       "      <td>1398.981301</td>\n",
       "      <td>-500.225577</td>\n",
       "      <td>1399.144926</td>\n",
       "      <td>-499.919735</td>\n",
       "      <td>1400.102998</td>\n",
       "      <td>...</td>\n",
       "      <td>8.016656</td>\n",
       "      <td>-501.289139</td>\n",
       "      <td>7.946562</td>\n",
       "      <td>-432.317850</td>\n",
       "      <td>4.872511</td>\n",
       "      <td>-500.037437</td>\n",
       "      <td>26.705889</td>\n",
       "      <td>-499.709414</td>\n",
       "      <td>89.993421</td>\n",
       "      <td>70.273583</td>\n",
       "    </tr>\n",
       "    <tr>\n",
       "      <th>1</th>\n",
       "      <td>2016-09-01 01:59:59</td>\n",
       "      <td>215.392455</td>\n",
       "      <td>14.987471</td>\n",
       "      <td>8.08</td>\n",
       "      <td>0.990469</td>\n",
       "      <td>1398.777912</td>\n",
       "      <td>-500.057435</td>\n",
       "      <td>1398.055362</td>\n",
       "      <td>-499.778182</td>\n",
       "      <td>1396.151033</td>\n",
       "      <td>...</td>\n",
       "      <td>8.130979</td>\n",
       "      <td>-499.634209</td>\n",
       "      <td>7.958270</td>\n",
       "      <td>-525.839648</td>\n",
       "      <td>4.878850</td>\n",
       "      <td>-500.162375</td>\n",
       "      <td>25.019940</td>\n",
       "      <td>-499.819438</td>\n",
       "      <td>88.089657</td>\n",
       "      <td>68.910432</td>\n",
       "    </tr>\n",
       "  </tbody>\n",
       "</table>\n",
       "<p>2 rows × 55 columns</p>\n",
       "</div>"
      ],
      "text/plain": [
       "                  date  primary_cleaner.input.sulfate  \\\n",
       "0  2016-09-01 00:59:59                     210.800909   \n",
       "1  2016-09-01 01:59:59                     215.392455   \n",
       "\n",
       "   primary_cleaner.input.depressant  primary_cleaner.input.feed_size  \\\n",
       "0                         14.993118                             8.08   \n",
       "1                         14.987471                             8.08   \n",
       "\n",
       "   primary_cleaner.input.xanthate  primary_cleaner.state.floatbank8_a_air  \\\n",
       "0                        1.005021                             1398.981301   \n",
       "1                        0.990469                             1398.777912   \n",
       "\n",
       "   primary_cleaner.state.floatbank8_a_level  \\\n",
       "0                               -500.225577   \n",
       "1                               -500.057435   \n",
       "\n",
       "   primary_cleaner.state.floatbank8_b_air  \\\n",
       "0                             1399.144926   \n",
       "1                             1398.055362   \n",
       "\n",
       "   primary_cleaner.state.floatbank8_b_level  \\\n",
       "0                               -499.919735   \n",
       "1                               -499.778182   \n",
       "\n",
       "   primary_cleaner.state.floatbank8_c_air  ...  \\\n",
       "0                             1400.102998  ...   \n",
       "1                             1396.151033  ...   \n",
       "\n",
       "   secondary_cleaner.state.floatbank4_b_air  \\\n",
       "0                                  8.016656   \n",
       "1                                  8.130979   \n",
       "\n",
       "   secondary_cleaner.state.floatbank4_b_level  \\\n",
       "0                                 -501.289139   \n",
       "1                                 -499.634209   \n",
       "\n",
       "   secondary_cleaner.state.floatbank5_a_air  \\\n",
       "0                                  7.946562   \n",
       "1                                  7.958270   \n",
       "\n",
       "   secondary_cleaner.state.floatbank5_a_level  \\\n",
       "0                                 -432.317850   \n",
       "1                                 -525.839648   \n",
       "\n",
       "   secondary_cleaner.state.floatbank5_b_air  \\\n",
       "0                                  4.872511   \n",
       "1                                  4.878850   \n",
       "\n",
       "   secondary_cleaner.state.floatbank5_b_level  \\\n",
       "0                                 -500.037437   \n",
       "1                                 -500.162375   \n",
       "\n",
       "   secondary_cleaner.state.floatbank6_a_air  \\\n",
       "0                                 26.705889   \n",
       "1                                 25.019940   \n",
       "\n",
       "   secondary_cleaner.state.floatbank6_a_level  rougher.output.recovery  \\\n",
       "0                                 -499.709414                89.993421   \n",
       "1                                 -499.819438                88.089657   \n",
       "\n",
       "   final.output.recovery  \n",
       "0              70.273583  \n",
       "1              68.910432  \n",
       "\n",
       "[2 rows x 55 columns]"
      ]
     },
     "execution_count": 16,
     "metadata": {},
     "output_type": "execute_result"
    }
   ],
   "source": [
    "df_test.head(2)"
   ]
  },
  {
   "cell_type": "markdown",
   "metadata": {},
   "source": [
    "### Проверка на пропуски"
   ]
  },
  {
   "cell_type": "code",
   "execution_count": 17,
   "metadata": {},
   "outputs": [
    {
     "name": "stdout",
     "output_type": "stream",
     "text": [
      "Пропуски в тестовой, в %:\n"
     ]
    },
    {
     "data": {
      "text/html": [
       "<style type=\"text/css\">\n",
       "#T_929bc_row0_col0 {\n",
       "  background-color: #b40426;\n",
       "  color: #f1f1f1;\n",
       "}\n",
       "#T_929bc_row1_col0 {\n",
       "  background-color: #e36c55;\n",
       "  color: #f1f1f1;\n",
       "}\n",
       "#T_929bc_row2_col0 {\n",
       "  background-color: #b3cdfb;\n",
       "  color: #000000;\n",
       "}\n",
       "#T_929bc_row3_col0 {\n",
       "  background-color: #a5c3fe;\n",
       "  color: #000000;\n",
       "}\n",
       "#T_929bc_row4_col0, #T_929bc_row5_col0 {\n",
       "  background-color: #799cf8;\n",
       "  color: #f1f1f1;\n",
       "}\n",
       "#T_929bc_row6_col0, #T_929bc_row7_col0 {\n",
       "  background-color: #7093f3;\n",
       "  color: #f1f1f1;\n",
       "}\n",
       "#T_929bc_row8_col0, #T_929bc_row9_col0 {\n",
       "  background-color: #6282ea;\n",
       "  color: #f1f1f1;\n",
       "}\n",
       "#T_929bc_row10_col0 {\n",
       "  background-color: #5470de;\n",
       "  color: #f1f1f1;\n",
       "}\n",
       "#T_929bc_row11_col0 {\n",
       "  background-color: #465ecf;\n",
       "  color: #f1f1f1;\n",
       "}\n",
       "#T_929bc_row12_col0, #T_929bc_row13_col0, #T_929bc_row14_col0, #T_929bc_row15_col0, #T_929bc_row16_col0, #T_929bc_row17_col0, #T_929bc_row18_col0, #T_929bc_row19_col0, #T_929bc_row20_col0, #T_929bc_row21_col0, #T_929bc_row22_col0, #T_929bc_row23_col0, #T_929bc_row24_col0, #T_929bc_row25_col0, #T_929bc_row26_col0, #T_929bc_row27_col0, #T_929bc_row28_col0, #T_929bc_row29_col0, #T_929bc_row30_col0, #T_929bc_row31_col0, #T_929bc_row32_col0, #T_929bc_row33_col0, #T_929bc_row34_col0, #T_929bc_row35_col0, #T_929bc_row36_col0, #T_929bc_row37_col0, #T_929bc_row38_col0, #T_929bc_row39_col0, #T_929bc_row40_col0, #T_929bc_row41_col0, #T_929bc_row42_col0, #T_929bc_row43_col0, #T_929bc_row44_col0, #T_929bc_row45_col0, #T_929bc_row46_col0, #T_929bc_row47_col0, #T_929bc_row48_col0, #T_929bc_row49_col0, #T_929bc_row50_col0, #T_929bc_row51_col0, #T_929bc_row52_col0, #T_929bc_row53_col0, #T_929bc_row54_col0 {\n",
       "  background-color: #3b4cc0;\n",
       "  color: #f1f1f1;\n",
       "}\n",
       "</style>\n",
       "<table id=\"T_929bc\">\n",
       "  <thead>\n",
       "    <tr>\n",
       "      <th class=\"blank level0\" >&nbsp;</th>\n",
       "      <th id=\"T_929bc_level0_col0\" class=\"col_heading level0 col0\" >0</th>\n",
       "    </tr>\n",
       "  </thead>\n",
       "  <tbody>\n",
       "    <tr>\n",
       "      <th id=\"T_929bc_level0_row0\" class=\"row_heading level0 row0\" >rougher.input.floatbank11_xanthate</th>\n",
       "      <td id=\"T_929bc_row0_col0\" class=\"data row0 col0\" >0.470000</td>\n",
       "    </tr>\n",
       "    <tr>\n",
       "      <th id=\"T_929bc_level0_row1\" class=\"row_heading level0 row1\" >rougher.input.feed_sol</th>\n",
       "      <td id=\"T_929bc_row1_col0\" class=\"data row1 col0\" >0.400000</td>\n",
       "    </tr>\n",
       "    <tr>\n",
       "      <th id=\"T_929bc_level0_row2\" class=\"row_heading level0 row2\" >secondary_cleaner.state.floatbank3_a_air</th>\n",
       "      <td id=\"T_929bc_row2_col0\" class=\"data row2 col0\" >0.170000</td>\n",
       "    </tr>\n",
       "    <tr>\n",
       "      <th id=\"T_929bc_level0_row3\" class=\"row_heading level0 row3\" >rougher.input.floatbank11_sulfate</th>\n",
       "      <td id=\"T_929bc_row3_col0\" class=\"data row3 col0\" >0.150000</td>\n",
       "    </tr>\n",
       "    <tr>\n",
       "      <th id=\"T_929bc_level0_row4\" class=\"row_heading level0 row4\" >primary_cleaner.input.depressant</th>\n",
       "      <td id=\"T_929bc_row4_col0\" class=\"data row4 col0\" >0.090000</td>\n",
       "    </tr>\n",
       "    <tr>\n",
       "      <th id=\"T_929bc_level0_row5\" class=\"row_heading level0 row5\" >rougher.input.floatbank10_sulfate</th>\n",
       "      <td id=\"T_929bc_row5_col0\" class=\"data row5 col0\" >0.090000</td>\n",
       "    </tr>\n",
       "    <tr>\n",
       "      <th id=\"T_929bc_level0_row6\" class=\"row_heading level0 row6\" >primary_cleaner.input.xanthate</th>\n",
       "      <td id=\"T_929bc_row6_col0\" class=\"data row6 col0\" >0.080000</td>\n",
       "    </tr>\n",
       "    <tr>\n",
       "      <th id=\"T_929bc_level0_row7\" class=\"row_heading level0 row7\" >primary_cleaner.input.sulfate</th>\n",
       "      <td id=\"T_929bc_row7_col0\" class=\"data row7 col0\" >0.080000</td>\n",
       "    </tr>\n",
       "    <tr>\n",
       "      <th id=\"T_929bc_level0_row8\" class=\"row_heading level0 row8\" >secondary_cleaner.state.floatbank2_a_air</th>\n",
       "      <td id=\"T_929bc_row8_col0\" class=\"data row8 col0\" >0.060000</td>\n",
       "    </tr>\n",
       "    <tr>\n",
       "      <th id=\"T_929bc_level0_row9\" class=\"row_heading level0 row9\" >rougher.input.feed_rate</th>\n",
       "      <td id=\"T_929bc_row9_col0\" class=\"data row9 col0\" >0.060000</td>\n",
       "    </tr>\n",
       "    <tr>\n",
       "      <th id=\"T_929bc_level0_row10\" class=\"row_heading level0 row10\" >secondary_cleaner.state.floatbank2_b_air</th>\n",
       "      <td id=\"T_929bc_row10_col0\" class=\"data row10 col0\" >0.040000</td>\n",
       "    </tr>\n",
       "    <tr>\n",
       "      <th id=\"T_929bc_level0_row11\" class=\"row_heading level0 row11\" >rougher.input.feed_size</th>\n",
       "      <td id=\"T_929bc_row11_col0\" class=\"data row11 col0\" >0.020000</td>\n",
       "    </tr>\n",
       "    <tr>\n",
       "      <th id=\"T_929bc_level0_row12\" class=\"row_heading level0 row12\" >secondary_cleaner.state.floatbank3_a_level</th>\n",
       "      <td id=\"T_929bc_row12_col0\" class=\"data row12 col0\" >0.000000</td>\n",
       "    </tr>\n",
       "    <tr>\n",
       "      <th id=\"T_929bc_level0_row13\" class=\"row_heading level0 row13\" >secondary_cleaner.state.floatbank3_b_level</th>\n",
       "      <td id=\"T_929bc_row13_col0\" class=\"data row13 col0\" >0.000000</td>\n",
       "    </tr>\n",
       "    <tr>\n",
       "      <th id=\"T_929bc_level0_row14\" class=\"row_heading level0 row14\" >secondary_cleaner.state.floatbank3_b_air</th>\n",
       "      <td id=\"T_929bc_row14_col0\" class=\"data row14 col0\" >0.000000</td>\n",
       "    </tr>\n",
       "    <tr>\n",
       "      <th id=\"T_929bc_level0_row15\" class=\"row_heading level0 row15\" >secondary_cleaner.state.floatbank2_a_level</th>\n",
       "      <td id=\"T_929bc_row15_col0\" class=\"data row15 col0\" >0.000000</td>\n",
       "    </tr>\n",
       "    <tr>\n",
       "      <th id=\"T_929bc_level0_row16\" class=\"row_heading level0 row16\" >rougher.state.floatbank10_f_level</th>\n",
       "      <td id=\"T_929bc_row16_col0\" class=\"data row16 col0\" >0.000000</td>\n",
       "    </tr>\n",
       "    <tr>\n",
       "      <th id=\"T_929bc_level0_row17\" class=\"row_heading level0 row17\" >secondary_cleaner.state.floatbank2_b_level</th>\n",
       "      <td id=\"T_929bc_row17_col0\" class=\"data row17 col0\" >0.000000</td>\n",
       "    </tr>\n",
       "    <tr>\n",
       "      <th id=\"T_929bc_level0_row18\" class=\"row_heading level0 row18\" >date</th>\n",
       "      <td id=\"T_929bc_row18_col0\" class=\"data row18 col0\" >0.000000</td>\n",
       "    </tr>\n",
       "    <tr>\n",
       "      <th id=\"T_929bc_level0_row19\" class=\"row_heading level0 row19\" >rougher.state.floatbank10_e_level</th>\n",
       "      <td id=\"T_929bc_row19_col0\" class=\"data row19 col0\" >0.000000</td>\n",
       "    </tr>\n",
       "    <tr>\n",
       "      <th id=\"T_929bc_level0_row20\" class=\"row_heading level0 row20\" >secondary_cleaner.state.floatbank4_a_air</th>\n",
       "      <td id=\"T_929bc_row20_col0\" class=\"data row20 col0\" >0.000000</td>\n",
       "    </tr>\n",
       "    <tr>\n",
       "      <th id=\"T_929bc_level0_row21\" class=\"row_heading level0 row21\" >secondary_cleaner.state.floatbank4_a_level</th>\n",
       "      <td id=\"T_929bc_row21_col0\" class=\"data row21 col0\" >0.000000</td>\n",
       "    </tr>\n",
       "    <tr>\n",
       "      <th id=\"T_929bc_level0_row22\" class=\"row_heading level0 row22\" >secondary_cleaner.state.floatbank4_b_air</th>\n",
       "      <td id=\"T_929bc_row22_col0\" class=\"data row22 col0\" >0.000000</td>\n",
       "    </tr>\n",
       "    <tr>\n",
       "      <th id=\"T_929bc_level0_row23\" class=\"row_heading level0 row23\" >secondary_cleaner.state.floatbank4_b_level</th>\n",
       "      <td id=\"T_929bc_row23_col0\" class=\"data row23 col0\" >0.000000</td>\n",
       "    </tr>\n",
       "    <tr>\n",
       "      <th id=\"T_929bc_level0_row24\" class=\"row_heading level0 row24\" >secondary_cleaner.state.floatbank5_a_air</th>\n",
       "      <td id=\"T_929bc_row24_col0\" class=\"data row24 col0\" >0.000000</td>\n",
       "    </tr>\n",
       "    <tr>\n",
       "      <th id=\"T_929bc_level0_row25\" class=\"row_heading level0 row25\" >secondary_cleaner.state.floatbank5_a_level</th>\n",
       "      <td id=\"T_929bc_row25_col0\" class=\"data row25 col0\" >0.000000</td>\n",
       "    </tr>\n",
       "    <tr>\n",
       "      <th id=\"T_929bc_level0_row26\" class=\"row_heading level0 row26\" >secondary_cleaner.state.floatbank5_b_air</th>\n",
       "      <td id=\"T_929bc_row26_col0\" class=\"data row26 col0\" >0.000000</td>\n",
       "    </tr>\n",
       "    <tr>\n",
       "      <th id=\"T_929bc_level0_row27\" class=\"row_heading level0 row27\" >secondary_cleaner.state.floatbank5_b_level</th>\n",
       "      <td id=\"T_929bc_row27_col0\" class=\"data row27 col0\" >0.000000</td>\n",
       "    </tr>\n",
       "    <tr>\n",
       "      <th id=\"T_929bc_level0_row28\" class=\"row_heading level0 row28\" >secondary_cleaner.state.floatbank6_a_air</th>\n",
       "      <td id=\"T_929bc_row28_col0\" class=\"data row28 col0\" >0.000000</td>\n",
       "    </tr>\n",
       "    <tr>\n",
       "      <th id=\"T_929bc_level0_row29\" class=\"row_heading level0 row29\" >secondary_cleaner.state.floatbank6_a_level</th>\n",
       "      <td id=\"T_929bc_row29_col0\" class=\"data row29 col0\" >0.000000</td>\n",
       "    </tr>\n",
       "    <tr>\n",
       "      <th id=\"T_929bc_level0_row30\" class=\"row_heading level0 row30\" >rougher.output.recovery</th>\n",
       "      <td id=\"T_929bc_row30_col0\" class=\"data row30 col0\" >0.000000</td>\n",
       "    </tr>\n",
       "    <tr>\n",
       "      <th id=\"T_929bc_level0_row31\" class=\"row_heading level0 row31\" >rougher.state.floatbank10_f_air</th>\n",
       "      <td id=\"T_929bc_row31_col0\" class=\"data row31 col0\" >0.000000</td>\n",
       "    </tr>\n",
       "    <tr>\n",
       "      <th id=\"T_929bc_level0_row32\" class=\"row_heading level0 row32\" >rougher.state.floatbank10_c_air</th>\n",
       "      <td id=\"T_929bc_row32_col0\" class=\"data row32 col0\" >0.000000</td>\n",
       "    </tr>\n",
       "    <tr>\n",
       "      <th id=\"T_929bc_level0_row33\" class=\"row_heading level0 row33\" >rougher.state.floatbank10_e_air</th>\n",
       "      <td id=\"T_929bc_row33_col0\" class=\"data row33 col0\" >0.000000</td>\n",
       "    </tr>\n",
       "    <tr>\n",
       "      <th id=\"T_929bc_level0_row34\" class=\"row_heading level0 row34\" >rougher.state.floatbank10_d_level</th>\n",
       "      <td id=\"T_929bc_row34_col0\" class=\"data row34 col0\" >0.000000</td>\n",
       "    </tr>\n",
       "    <tr>\n",
       "      <th id=\"T_929bc_level0_row35\" class=\"row_heading level0 row35\" >primary_cleaner.input.feed_size</th>\n",
       "      <td id=\"T_929bc_row35_col0\" class=\"data row35 col0\" >0.000000</td>\n",
       "    </tr>\n",
       "    <tr>\n",
       "      <th id=\"T_929bc_level0_row36\" class=\"row_heading level0 row36\" >primary_cleaner.state.floatbank8_a_air</th>\n",
       "      <td id=\"T_929bc_row36_col0\" class=\"data row36 col0\" >0.000000</td>\n",
       "    </tr>\n",
       "    <tr>\n",
       "      <th id=\"T_929bc_level0_row37\" class=\"row_heading level0 row37\" >primary_cleaner.state.floatbank8_a_level</th>\n",
       "      <td id=\"T_929bc_row37_col0\" class=\"data row37 col0\" >0.000000</td>\n",
       "    </tr>\n",
       "    <tr>\n",
       "      <th id=\"T_929bc_level0_row38\" class=\"row_heading level0 row38\" >primary_cleaner.state.floatbank8_b_air</th>\n",
       "      <td id=\"T_929bc_row38_col0\" class=\"data row38 col0\" >0.000000</td>\n",
       "    </tr>\n",
       "    <tr>\n",
       "      <th id=\"T_929bc_level0_row39\" class=\"row_heading level0 row39\" >primary_cleaner.state.floatbank8_b_level</th>\n",
       "      <td id=\"T_929bc_row39_col0\" class=\"data row39 col0\" >0.000000</td>\n",
       "    </tr>\n",
       "    <tr>\n",
       "      <th id=\"T_929bc_level0_row40\" class=\"row_heading level0 row40\" >primary_cleaner.state.floatbank8_c_air</th>\n",
       "      <td id=\"T_929bc_row40_col0\" class=\"data row40 col0\" >0.000000</td>\n",
       "    </tr>\n",
       "    <tr>\n",
       "      <th id=\"T_929bc_level0_row41\" class=\"row_heading level0 row41\" >primary_cleaner.state.floatbank8_c_level</th>\n",
       "      <td id=\"T_929bc_row41_col0\" class=\"data row41 col0\" >0.000000</td>\n",
       "    </tr>\n",
       "    <tr>\n",
       "      <th id=\"T_929bc_level0_row42\" class=\"row_heading level0 row42\" >primary_cleaner.state.floatbank8_d_air</th>\n",
       "      <td id=\"T_929bc_row42_col0\" class=\"data row42 col0\" >0.000000</td>\n",
       "    </tr>\n",
       "    <tr>\n",
       "      <th id=\"T_929bc_level0_row43\" class=\"row_heading level0 row43\" >primary_cleaner.state.floatbank8_d_level</th>\n",
       "      <td id=\"T_929bc_row43_col0\" class=\"data row43 col0\" >0.000000</td>\n",
       "    </tr>\n",
       "    <tr>\n",
       "      <th id=\"T_929bc_level0_row44\" class=\"row_heading level0 row44\" >rougher.input.feed_ag</th>\n",
       "      <td id=\"T_929bc_row44_col0\" class=\"data row44 col0\" >0.000000</td>\n",
       "    </tr>\n",
       "    <tr>\n",
       "      <th id=\"T_929bc_level0_row45\" class=\"row_heading level0 row45\" >rougher.input.feed_pb</th>\n",
       "      <td id=\"T_929bc_row45_col0\" class=\"data row45 col0\" >0.000000</td>\n",
       "    </tr>\n",
       "    <tr>\n",
       "      <th id=\"T_929bc_level0_row46\" class=\"row_heading level0 row46\" >rougher.input.feed_au</th>\n",
       "      <td id=\"T_929bc_row46_col0\" class=\"data row46 col0\" >0.000000</td>\n",
       "    </tr>\n",
       "    <tr>\n",
       "      <th id=\"T_929bc_level0_row47\" class=\"row_heading level0 row47\" >rougher.input.floatbank10_xanthate</th>\n",
       "      <td id=\"T_929bc_row47_col0\" class=\"data row47 col0\" >0.000000</td>\n",
       "    </tr>\n",
       "    <tr>\n",
       "      <th id=\"T_929bc_level0_row48\" class=\"row_heading level0 row48\" >rougher.state.floatbank10_a_air</th>\n",
       "      <td id=\"T_929bc_row48_col0\" class=\"data row48 col0\" >0.000000</td>\n",
       "    </tr>\n",
       "    <tr>\n",
       "      <th id=\"T_929bc_level0_row49\" class=\"row_heading level0 row49\" >rougher.state.floatbank10_a_level</th>\n",
       "      <td id=\"T_929bc_row49_col0\" class=\"data row49 col0\" >0.000000</td>\n",
       "    </tr>\n",
       "    <tr>\n",
       "      <th id=\"T_929bc_level0_row50\" class=\"row_heading level0 row50\" >rougher.state.floatbank10_b_air</th>\n",
       "      <td id=\"T_929bc_row50_col0\" class=\"data row50 col0\" >0.000000</td>\n",
       "    </tr>\n",
       "    <tr>\n",
       "      <th id=\"T_929bc_level0_row51\" class=\"row_heading level0 row51\" >rougher.state.floatbank10_b_level</th>\n",
       "      <td id=\"T_929bc_row51_col0\" class=\"data row51 col0\" >0.000000</td>\n",
       "    </tr>\n",
       "    <tr>\n",
       "      <th id=\"T_929bc_level0_row52\" class=\"row_heading level0 row52\" >rougher.state.floatbank10_c_level</th>\n",
       "      <td id=\"T_929bc_row52_col0\" class=\"data row52 col0\" >0.000000</td>\n",
       "    </tr>\n",
       "    <tr>\n",
       "      <th id=\"T_929bc_level0_row53\" class=\"row_heading level0 row53\" >rougher.state.floatbank10_d_air</th>\n",
       "      <td id=\"T_929bc_row53_col0\" class=\"data row53 col0\" >0.000000</td>\n",
       "    </tr>\n",
       "    <tr>\n",
       "      <th id=\"T_929bc_level0_row54\" class=\"row_heading level0 row54\" >final.output.recovery</th>\n",
       "      <td id=\"T_929bc_row54_col0\" class=\"data row54 col0\" >0.000000</td>\n",
       "    </tr>\n",
       "  </tbody>\n",
       "</table>\n"
      ],
      "text/plain": [
       "<pandas.io.formats.style.Styler at 0x20d102924f0>"
      ]
     },
     "execution_count": 17,
     "metadata": {},
     "output_type": "execute_result"
    }
   ],
   "source": [
    "print('Пропуски в тестовой, в %:')\n",
    "pd.DataFrame(round(df_test.isna().mean()*100,2).sort_values(ascending=False)).style.background_gradient('coolwarm')"
   ]
  },
  {
   "cell_type": "code",
   "execution_count": 18,
   "metadata": {},
   "outputs": [
    {
     "name": "stdout",
     "output_type": "stream",
     "text": [
      "Пропуски в полной, в %:\n"
     ]
    },
    {
     "data": {
      "text/html": [
       "<style type=\"text/css\">\n",
       "#T_4f9c5_row0_col0 {\n",
       "  background-color: #b40426;\n",
       "  color: #f1f1f1;\n",
       "}\n",
       "#T_4f9c5_row1_col0 {\n",
       "  background-color: #90b2fe;\n",
       "  color: #000000;\n",
       "}\n",
       "#T_4f9c5_row2_col0 {\n",
       "  background-color: #8caffe;\n",
       "  color: #000000;\n",
       "}\n",
       "#T_4f9c5_row3_col0 {\n",
       "  background-color: #80a3fa;\n",
       "  color: #f1f1f1;\n",
       "}\n",
       "#T_4f9c5_row4_col0 {\n",
       "  background-color: #6282ea;\n",
       "  color: #f1f1f1;\n",
       "}\n",
       "#T_4f9c5_row5_col0 {\n",
       "  background-color: #6180e9;\n",
       "  color: #f1f1f1;\n",
       "}\n",
       "#T_4f9c5_row6_col0 {\n",
       "  background-color: #5470de;\n",
       "  color: #f1f1f1;\n",
       "}\n",
       "#T_4f9c5_row7_col0 {\n",
       "  background-color: #4f69d9;\n",
       "  color: #f1f1f1;\n",
       "}\n",
       "#T_4f9c5_row8_col0 {\n",
       "  background-color: #4c66d6;\n",
       "  color: #f1f1f1;\n",
       "}\n",
       "#T_4f9c5_row9_col0, #T_4f9c5_row10_col0, #T_4f9c5_row11_col0 {\n",
       "  background-color: #4b64d5;\n",
       "  color: #f1f1f1;\n",
       "}\n",
       "#T_4f9c5_row12_col0 {\n",
       "  background-color: #455cce;\n",
       "  color: #f1f1f1;\n",
       "}\n",
       "#T_4f9c5_row13_col0 {\n",
       "  background-color: #4257c9;\n",
       "  color: #f1f1f1;\n",
       "}\n",
       "#T_4f9c5_row14_col0 {\n",
       "  background-color: #4055c8;\n",
       "  color: #f1f1f1;\n",
       "}\n",
       "#T_4f9c5_row15_col0 {\n",
       "  background-color: #3f53c6;\n",
       "  color: #f1f1f1;\n",
       "}\n",
       "#T_4f9c5_row16_col0, #T_4f9c5_row17_col0, #T_4f9c5_row18_col0, #T_4f9c5_row19_col0 {\n",
       "  background-color: #3e51c5;\n",
       "  color: #f1f1f1;\n",
       "}\n",
       "#T_4f9c5_row20_col0, #T_4f9c5_row21_col0, #T_4f9c5_row22_col0, #T_4f9c5_row23_col0 {\n",
       "  background-color: #3c4ec2;\n",
       "  color: #f1f1f1;\n",
       "}\n",
       "#T_4f9c5_row24_col0, #T_4f9c5_row25_col0, #T_4f9c5_row26_col0, #T_4f9c5_row27_col0, #T_4f9c5_row28_col0, #T_4f9c5_row29_col0, #T_4f9c5_row30_col0, #T_4f9c5_row31_col0, #T_4f9c5_row32_col0, #T_4f9c5_row33_col0, #T_4f9c5_row34_col0, #T_4f9c5_row35_col0, #T_4f9c5_row36_col0, #T_4f9c5_row37_col0, #T_4f9c5_row38_col0, #T_4f9c5_row39_col0, #T_4f9c5_row40_col0, #T_4f9c5_row41_col0, #T_4f9c5_row42_col0, #T_4f9c5_row43_col0, #T_4f9c5_row44_col0, #T_4f9c5_row45_col0, #T_4f9c5_row46_col0, #T_4f9c5_row47_col0, #T_4f9c5_row48_col0, #T_4f9c5_row49_col0, #T_4f9c5_row50_col0, #T_4f9c5_row51_col0, #T_4f9c5_row52_col0, #T_4f9c5_row53_col0, #T_4f9c5_row54_col0, #T_4f9c5_row55_col0, #T_4f9c5_row56_col0, #T_4f9c5_row57_col0, #T_4f9c5_row58_col0, #T_4f9c5_row59_col0, #T_4f9c5_row60_col0, #T_4f9c5_row61_col0, #T_4f9c5_row62_col0, #T_4f9c5_row63_col0, #T_4f9c5_row64_col0, #T_4f9c5_row65_col0, #T_4f9c5_row66_col0, #T_4f9c5_row67_col0, #T_4f9c5_row68_col0, #T_4f9c5_row69_col0, #T_4f9c5_row70_col0, #T_4f9c5_row71_col0, #T_4f9c5_row72_col0, #T_4f9c5_row73_col0, #T_4f9c5_row74_col0, #T_4f9c5_row75_col0, #T_4f9c5_row76_col0, #T_4f9c5_row77_col0, #T_4f9c5_row78_col0, #T_4f9c5_row79_col0, #T_4f9c5_row80_col0, #T_4f9c5_row81_col0, #T_4f9c5_row82_col0, #T_4f9c5_row83_col0, #T_4f9c5_row84_col0, #T_4f9c5_row85_col0, #T_4f9c5_row86_col0 {\n",
       "  background-color: #3b4cc0;\n",
       "  color: #f1f1f1;\n",
       "}\n",
       "</style>\n",
       "<table id=\"T_4f9c5\">\n",
       "  <thead>\n",
       "    <tr>\n",
       "      <th class=\"blank level0\" >&nbsp;</th>\n",
       "      <th id=\"T_4f9c5_level0_col0\" class=\"col_heading level0 col0\" >0</th>\n",
       "    </tr>\n",
       "  </thead>\n",
       "  <tbody>\n",
       "    <tr>\n",
       "      <th id=\"T_4f9c5_level0_row0\" class=\"row_heading level0 row0\" >secondary_cleaner.output.tail_sol</th>\n",
       "      <td id=\"T_4f9c5_row0_col0\" class=\"data row0 col0\" >8.990000</td>\n",
       "    </tr>\n",
       "    <tr>\n",
       "      <th id=\"T_4f9c5_level0_row1\" class=\"row_heading level0 row1\" >rougher.input.floatbank11_xanthate</th>\n",
       "      <td id=\"T_4f9c5_row1_col0\" class=\"data row1 col0\" >2.330000</td>\n",
       "    </tr>\n",
       "    <tr>\n",
       "      <th id=\"T_4f9c5_level0_row2\" class=\"row_heading level0 row2\" >rougher.state.floatbank10_e_air</th>\n",
       "      <td id=\"T_4f9c5_row2_col0\" class=\"data row2 col0\" >2.240000</td>\n",
       "    </tr>\n",
       "    <tr>\n",
       "      <th id=\"T_4f9c5_level0_row3\" class=\"row_heading level0 row3\" >primary_cleaner.output.concentrate_sol</th>\n",
       "      <td id=\"T_4f9c5_row3_col0\" class=\"data row3 col0\" >1.900000</td>\n",
       "    </tr>\n",
       "    <tr>\n",
       "      <th id=\"T_4f9c5_level0_row4\" class=\"row_heading level0 row4\" >secondary_cleaner.state.floatbank2_a_air</th>\n",
       "      <td id=\"T_4f9c5_row4_col0\" class=\"data row4 col0\" >1.130000</td>\n",
       "    </tr>\n",
       "    <tr>\n",
       "      <th id=\"T_4f9c5_level0_row5\" class=\"row_heading level0 row5\" >final.output.concentrate_sol</th>\n",
       "      <td id=\"T_4f9c5_row5_col0\" class=\"data row5 col0\" >1.090000</td>\n",
       "    </tr>\n",
       "    <tr>\n",
       "      <th id=\"T_4f9c5_level0_row6\" class=\"row_heading level0 row6\" >rougher.input.feed_size</th>\n",
       "      <td id=\"T_4f9c5_row6_col0\" class=\"data row6 col0\" >0.750000</td>\n",
       "    </tr>\n",
       "    <tr>\n",
       "      <th id=\"T_4f9c5_level0_row7\" class=\"row_heading level0 row7\" >primary_cleaner.output.concentrate_pb</th>\n",
       "      <td id=\"T_4f9c5_row7_col0\" class=\"data row7 col0\" >0.600000</td>\n",
       "    </tr>\n",
       "    <tr>\n",
       "      <th id=\"T_4f9c5_level0_row8\" class=\"row_heading level0 row8\" >primary_cleaner.input.xanthate</th>\n",
       "      <td id=\"T_4f9c5_row8_col0\" class=\"data row8 col0\" >0.540000</td>\n",
       "    </tr>\n",
       "    <tr>\n",
       "      <th id=\"T_4f9c5_level0_row9\" class=\"row_heading level0 row9\" >final.output.tail_pb</th>\n",
       "      <td id=\"T_4f9c5_row9_col0\" class=\"data row9 col0\" >0.520000</td>\n",
       "    </tr>\n",
       "    <tr>\n",
       "      <th id=\"T_4f9c5_level0_row10\" class=\"row_heading level0 row10\" >rougher.input.feed_pb</th>\n",
       "      <td id=\"T_4f9c5_row10_col0\" class=\"data row10 col0\" >0.510000</td>\n",
       "    </tr>\n",
       "    <tr>\n",
       "      <th id=\"T_4f9c5_level0_row11\" class=\"row_heading level0 row11\" >rougher.input.feed_sol</th>\n",
       "      <td id=\"T_4f9c5_row11_col0\" class=\"data row11 col0\" >0.510000</td>\n",
       "    </tr>\n",
       "    <tr>\n",
       "      <th id=\"T_4f9c5_level0_row12\" class=\"row_heading level0 row12\" >primary_cleaner.output.tail_sol</th>\n",
       "      <td id=\"T_4f9c5_row12_col0\" class=\"data row12 col0\" >0.320000</td>\n",
       "    </tr>\n",
       "    <tr>\n",
       "      <th id=\"T_4f9c5_level0_row13\" class=\"row_heading level0 row13\" >rougher.input.floatbank11_sulfate</th>\n",
       "      <td id=\"T_4f9c5_row13_col0\" class=\"data row13 col0\" >0.230000</td>\n",
       "    </tr>\n",
       "    <tr>\n",
       "      <th id=\"T_4f9c5_level0_row14\" class=\"row_heading level0 row14\" >primary_cleaner.input.depressant</th>\n",
       "      <td id=\"T_4f9c5_row14_col0\" class=\"data row14 col0\" >0.190000</td>\n",
       "    </tr>\n",
       "    <tr>\n",
       "      <th id=\"T_4f9c5_level0_row15\" class=\"row_heading level0 row15\" >rougher.input.floatbank10_sulfate</th>\n",
       "      <td id=\"T_4f9c5_row15_col0\" class=\"data row15 col0\" >0.170000</td>\n",
       "    </tr>\n",
       "    <tr>\n",
       "      <th id=\"T_4f9c5_level0_row16\" class=\"row_heading level0 row16\" >primary_cleaner.input.sulfate</th>\n",
       "      <td id=\"T_4f9c5_row16_col0\" class=\"data row16 col0\" >0.120000</td>\n",
       "    </tr>\n",
       "    <tr>\n",
       "      <th id=\"T_4f9c5_level0_row17\" class=\"row_heading level0 row17\" >secondary_cleaner.state.floatbank2_b_air</th>\n",
       "      <td id=\"T_4f9c5_row17_col0\" class=\"data row17 col0\" >0.120000</td>\n",
       "    </tr>\n",
       "    <tr>\n",
       "      <th id=\"T_4f9c5_level0_row18\" class=\"row_heading level0 row18\" >rougher.output.concentrate_sol</th>\n",
       "      <td id=\"T_4f9c5_row18_col0\" class=\"data row18 col0\" >0.120000</td>\n",
       "    </tr>\n",
       "    <tr>\n",
       "      <th id=\"T_4f9c5_level0_row19\" class=\"row_heading level0 row19\" >primary_cleaner.output.tail_pb</th>\n",
       "      <td id=\"T_4f9c5_row19_col0\" class=\"data row19 col0\" >0.110000</td>\n",
       "    </tr>\n",
       "    <tr>\n",
       "      <th id=\"T_4f9c5_level0_row20\" class=\"row_heading level0 row20\" >secondary_cleaner.state.floatbank3_a_air</th>\n",
       "      <td id=\"T_4f9c5_row20_col0\" class=\"data row20 col0\" >0.070000</td>\n",
       "    </tr>\n",
       "    <tr>\n",
       "      <th id=\"T_4f9c5_level0_row21\" class=\"row_heading level0 row21\" >rougher.input.feed_rate</th>\n",
       "      <td id=\"T_4f9c5_row21_col0\" class=\"data row21 col0\" >0.060000</td>\n",
       "    </tr>\n",
       "    <tr>\n",
       "      <th id=\"T_4f9c5_level0_row22\" class=\"row_heading level0 row22\" >secondary_cleaner.output.tail_pb</th>\n",
       "      <td id=\"T_4f9c5_row22_col0\" class=\"data row22 col0\" >0.060000</td>\n",
       "    </tr>\n",
       "    <tr>\n",
       "      <th id=\"T_4f9c5_level0_row23\" class=\"row_heading level0 row23\" >rougher.input.floatbank10_xanthate</th>\n",
       "      <td id=\"T_4f9c5_row23_col0\" class=\"data row23 col0\" >0.040000</td>\n",
       "    </tr>\n",
       "    <tr>\n",
       "      <th id=\"T_4f9c5_level0_row24\" class=\"row_heading level0 row24\" >secondary_cleaner.state.floatbank4_a_air</th>\n",
       "      <td id=\"T_4f9c5_row24_col0\" class=\"data row24 col0\" >0.030000</td>\n",
       "    </tr>\n",
       "    <tr>\n",
       "      <th id=\"T_4f9c5_level0_row25\" class=\"row_heading level0 row25\" >final.output.tail_sol</th>\n",
       "      <td id=\"T_4f9c5_row25_col0\" class=\"data row25 col0\" >0.030000</td>\n",
       "    </tr>\n",
       "    <tr>\n",
       "      <th id=\"T_4f9c5_level0_row26\" class=\"row_heading level0 row26\" >primary_cleaner.state.floatbank8_a_air</th>\n",
       "      <td id=\"T_4f9c5_row26_col0\" class=\"data row26 col0\" >0.020000</td>\n",
       "    </tr>\n",
       "    <tr>\n",
       "      <th id=\"T_4f9c5_level0_row27\" class=\"row_heading level0 row27\" >primary_cleaner.state.floatbank8_b_air</th>\n",
       "      <td id=\"T_4f9c5_row27_col0\" class=\"data row27 col0\" >0.020000</td>\n",
       "    </tr>\n",
       "    <tr>\n",
       "      <th id=\"T_4f9c5_level0_row28\" class=\"row_heading level0 row28\" >primary_cleaner.output.tail_ag</th>\n",
       "      <td id=\"T_4f9c5_row28_col0\" class=\"data row28 col0\" >0.020000</td>\n",
       "    </tr>\n",
       "    <tr>\n",
       "      <th id=\"T_4f9c5_level0_row29\" class=\"row_heading level0 row29\" >primary_cleaner.state.floatbank8_d_air</th>\n",
       "      <td id=\"T_4f9c5_row29_col0\" class=\"data row29 col0\" >0.020000</td>\n",
       "    </tr>\n",
       "    <tr>\n",
       "      <th id=\"T_4f9c5_level0_row30\" class=\"row_heading level0 row30\" >secondary_cleaner.output.tail_ag</th>\n",
       "      <td id=\"T_4f9c5_row30_col0\" class=\"data row30 col0\" >0.010000</td>\n",
       "    </tr>\n",
       "    <tr>\n",
       "      <th id=\"T_4f9c5_level0_row31\" class=\"row_heading level0 row31\" >rougher.state.floatbank10_c_level</th>\n",
       "      <td id=\"T_4f9c5_row31_col0\" class=\"data row31 col0\" >0.010000</td>\n",
       "    </tr>\n",
       "    <tr>\n",
       "      <th id=\"T_4f9c5_level0_row32\" class=\"row_heading level0 row32\" >rougher.state.floatbank10_c_air</th>\n",
       "      <td id=\"T_4f9c5_row32_col0\" class=\"data row32 col0\" >0.010000</td>\n",
       "    </tr>\n",
       "    <tr>\n",
       "      <th id=\"T_4f9c5_level0_row33\" class=\"row_heading level0 row33\" >rougher.state.floatbank10_b_level</th>\n",
       "      <td id=\"T_4f9c5_row33_col0\" class=\"data row33 col0\" >0.010000</td>\n",
       "    </tr>\n",
       "    <tr>\n",
       "      <th id=\"T_4f9c5_level0_row34\" class=\"row_heading level0 row34\" >rougher.state.floatbank10_b_air</th>\n",
       "      <td id=\"T_4f9c5_row34_col0\" class=\"data row34 col0\" >0.010000</td>\n",
       "    </tr>\n",
       "    <tr>\n",
       "      <th id=\"T_4f9c5_level0_row35\" class=\"row_heading level0 row35\" >secondary_cleaner.state.floatbank3_b_air</th>\n",
       "      <td id=\"T_4f9c5_row35_col0\" class=\"data row35 col0\" >0.010000</td>\n",
       "    </tr>\n",
       "    <tr>\n",
       "      <th id=\"T_4f9c5_level0_row36\" class=\"row_heading level0 row36\" >secondary_cleaner.state.floatbank2_a_level</th>\n",
       "      <td id=\"T_4f9c5_row36_col0\" class=\"data row36 col0\" >0.010000</td>\n",
       "    </tr>\n",
       "    <tr>\n",
       "      <th id=\"T_4f9c5_level0_row37\" class=\"row_heading level0 row37\" >secondary_cleaner.state.floatbank2_b_level</th>\n",
       "      <td id=\"T_4f9c5_row37_col0\" class=\"data row37 col0\" >0.010000</td>\n",
       "    </tr>\n",
       "    <tr>\n",
       "      <th id=\"T_4f9c5_level0_row38\" class=\"row_heading level0 row38\" >secondary_cleaner.state.floatbank3_a_level</th>\n",
       "      <td id=\"T_4f9c5_row38_col0\" class=\"data row38 col0\" >0.010000</td>\n",
       "    </tr>\n",
       "    <tr>\n",
       "      <th id=\"T_4f9c5_level0_row39\" class=\"row_heading level0 row39\" >rougher.state.floatbank10_a_air</th>\n",
       "      <td id=\"T_4f9c5_row39_col0\" class=\"data row39 col0\" >0.010000</td>\n",
       "    </tr>\n",
       "    <tr>\n",
       "      <th id=\"T_4f9c5_level0_row40\" class=\"row_heading level0 row40\" >secondary_cleaner.state.floatbank3_b_level</th>\n",
       "      <td id=\"T_4f9c5_row40_col0\" class=\"data row40 col0\" >0.010000</td>\n",
       "    </tr>\n",
       "    <tr>\n",
       "      <th id=\"T_4f9c5_level0_row41\" class=\"row_heading level0 row41\" >secondary_cleaner.state.floatbank4_a_level</th>\n",
       "      <td id=\"T_4f9c5_row41_col0\" class=\"data row41 col0\" >0.010000</td>\n",
       "    </tr>\n",
       "    <tr>\n",
       "      <th id=\"T_4f9c5_level0_row42\" class=\"row_heading level0 row42\" >secondary_cleaner.state.floatbank4_b_air</th>\n",
       "      <td id=\"T_4f9c5_row42_col0\" class=\"data row42 col0\" >0.010000</td>\n",
       "    </tr>\n",
       "    <tr>\n",
       "      <th id=\"T_4f9c5_level0_row43\" class=\"row_heading level0 row43\" >secondary_cleaner.state.floatbank4_b_level</th>\n",
       "      <td id=\"T_4f9c5_row43_col0\" class=\"data row43 col0\" >0.010000</td>\n",
       "    </tr>\n",
       "    <tr>\n",
       "      <th id=\"T_4f9c5_level0_row44\" class=\"row_heading level0 row44\" >secondary_cleaner.state.floatbank5_a_air</th>\n",
       "      <td id=\"T_4f9c5_row44_col0\" class=\"data row44 col0\" >0.010000</td>\n",
       "    </tr>\n",
       "    <tr>\n",
       "      <th id=\"T_4f9c5_level0_row45\" class=\"row_heading level0 row45\" >secondary_cleaner.state.floatbank5_a_level</th>\n",
       "      <td id=\"T_4f9c5_row45_col0\" class=\"data row45 col0\" >0.010000</td>\n",
       "    </tr>\n",
       "    <tr>\n",
       "      <th id=\"T_4f9c5_level0_row46\" class=\"row_heading level0 row46\" >secondary_cleaner.state.floatbank5_b_air</th>\n",
       "      <td id=\"T_4f9c5_row46_col0\" class=\"data row46 col0\" >0.010000</td>\n",
       "    </tr>\n",
       "    <tr>\n",
       "      <th id=\"T_4f9c5_level0_row47\" class=\"row_heading level0 row47\" >secondary_cleaner.state.floatbank5_b_level</th>\n",
       "      <td id=\"T_4f9c5_row47_col0\" class=\"data row47 col0\" >0.010000</td>\n",
       "    </tr>\n",
       "    <tr>\n",
       "      <th id=\"T_4f9c5_level0_row48\" class=\"row_heading level0 row48\" >secondary_cleaner.state.floatbank6_a_air</th>\n",
       "      <td id=\"T_4f9c5_row48_col0\" class=\"data row48 col0\" >0.010000</td>\n",
       "    </tr>\n",
       "    <tr>\n",
       "      <th id=\"T_4f9c5_level0_row49\" class=\"row_heading level0 row49\" >rougher.state.floatbank10_a_level</th>\n",
       "      <td id=\"T_4f9c5_row49_col0\" class=\"data row49 col0\" >0.010000</td>\n",
       "    </tr>\n",
       "    <tr>\n",
       "      <th id=\"T_4f9c5_level0_row50\" class=\"row_heading level0 row50\" >secondary_cleaner.state.floatbank6_a_level</th>\n",
       "      <td id=\"T_4f9c5_row50_col0\" class=\"data row50 col0\" >0.010000</td>\n",
       "    </tr>\n",
       "    <tr>\n",
       "      <th id=\"T_4f9c5_level0_row51\" class=\"row_heading level0 row51\" >rougher.calculation.floatbank11_sulfate_to_au_feed</th>\n",
       "      <td id=\"T_4f9c5_row51_col0\" class=\"data row51 col0\" >0.010000</td>\n",
       "    </tr>\n",
       "    <tr>\n",
       "      <th id=\"T_4f9c5_level0_row52\" class=\"row_heading level0 row52\" >rougher.calculation.floatbank10_sulfate_to_au_feed</th>\n",
       "      <td id=\"T_4f9c5_row52_col0\" class=\"data row52 col0\" >0.010000</td>\n",
       "    </tr>\n",
       "    <tr>\n",
       "      <th id=\"T_4f9c5_level0_row53\" class=\"row_heading level0 row53\" >primary_cleaner.state.floatbank8_d_level</th>\n",
       "      <td id=\"T_4f9c5_row53_col0\" class=\"data row53 col0\" >0.010000</td>\n",
       "    </tr>\n",
       "    <tr>\n",
       "      <th id=\"T_4f9c5_level0_row54\" class=\"row_heading level0 row54\" >primary_cleaner.state.floatbank8_c_level</th>\n",
       "      <td id=\"T_4f9c5_row54_col0\" class=\"data row54 col0\" >0.010000</td>\n",
       "    </tr>\n",
       "    <tr>\n",
       "      <th id=\"T_4f9c5_level0_row55\" class=\"row_heading level0 row55\" >primary_cleaner.state.floatbank8_c_air</th>\n",
       "      <td id=\"T_4f9c5_row55_col0\" class=\"data row55 col0\" >0.010000</td>\n",
       "    </tr>\n",
       "    <tr>\n",
       "      <th id=\"T_4f9c5_level0_row56\" class=\"row_heading level0 row56\" >primary_cleaner.state.floatbank8_b_level</th>\n",
       "      <td id=\"T_4f9c5_row56_col0\" class=\"data row56 col0\" >0.010000</td>\n",
       "    </tr>\n",
       "    <tr>\n",
       "      <th id=\"T_4f9c5_level0_row57\" class=\"row_heading level0 row57\" >primary_cleaner.state.floatbank8_a_level</th>\n",
       "      <td id=\"T_4f9c5_row57_col0\" class=\"data row57 col0\" >0.010000</td>\n",
       "    </tr>\n",
       "    <tr>\n",
       "      <th id=\"T_4f9c5_level0_row58\" class=\"row_heading level0 row58\" >final.output.concentrate_ag</th>\n",
       "      <td id=\"T_4f9c5_row58_col0\" class=\"data row58 col0\" >0.010000</td>\n",
       "    </tr>\n",
       "    <tr>\n",
       "      <th id=\"T_4f9c5_level0_row59\" class=\"row_heading level0 row59\" >rougher.calculation.sulfate_to_au_concentrate</th>\n",
       "      <td id=\"T_4f9c5_row59_col0\" class=\"data row59 col0\" >0.010000</td>\n",
       "    </tr>\n",
       "    <tr>\n",
       "      <th id=\"T_4f9c5_level0_row60\" class=\"row_heading level0 row60\" >final.output.tail_ag</th>\n",
       "      <td id=\"T_4f9c5_row60_col0\" class=\"data row60 col0\" >0.010000</td>\n",
       "    </tr>\n",
       "    <tr>\n",
       "      <th id=\"T_4f9c5_level0_row61\" class=\"row_heading level0 row61\" >rougher.output.tail_ag</th>\n",
       "      <td id=\"T_4f9c5_row61_col0\" class=\"data row61 col0\" >0.010000</td>\n",
       "    </tr>\n",
       "    <tr>\n",
       "      <th id=\"T_4f9c5_level0_row62\" class=\"row_heading level0 row62\" >final.output.concentrate_pb</th>\n",
       "      <td id=\"T_4f9c5_row62_col0\" class=\"data row62 col0\" >0.010000</td>\n",
       "    </tr>\n",
       "    <tr>\n",
       "      <th id=\"T_4f9c5_level0_row63\" class=\"row_heading level0 row63\" >primary_cleaner.input.feed_size</th>\n",
       "      <td id=\"T_4f9c5_row63_col0\" class=\"data row63 col0\" >0.000000</td>\n",
       "    </tr>\n",
       "    <tr>\n",
       "      <th id=\"T_4f9c5_level0_row64\" class=\"row_heading level0 row64\" >final.output.tail_au</th>\n",
       "      <td id=\"T_4f9c5_row64_col0\" class=\"data row64 col0\" >0.000000</td>\n",
       "    </tr>\n",
       "    <tr>\n",
       "      <th id=\"T_4f9c5_level0_row65\" class=\"row_heading level0 row65\" >primary_cleaner.output.concentrate_au</th>\n",
       "      <td id=\"T_4f9c5_row65_col0\" class=\"data row65 col0\" >0.000000</td>\n",
       "    </tr>\n",
       "    <tr>\n",
       "      <th id=\"T_4f9c5_level0_row66\" class=\"row_heading level0 row66\" >primary_cleaner.output.tail_au</th>\n",
       "      <td id=\"T_4f9c5_row66_col0\" class=\"data row66 col0\" >0.000000</td>\n",
       "    </tr>\n",
       "    <tr>\n",
       "      <th id=\"T_4f9c5_level0_row67\" class=\"row_heading level0 row67\" >final.output.recovery</th>\n",
       "      <td id=\"T_4f9c5_row67_col0\" class=\"data row67 col0\" >0.000000</td>\n",
       "    </tr>\n",
       "    <tr>\n",
       "      <th id=\"T_4f9c5_level0_row68\" class=\"row_heading level0 row68\" >final.output.concentrate_au</th>\n",
       "      <td id=\"T_4f9c5_row68_col0\" class=\"data row68 col0\" >0.000000</td>\n",
       "    </tr>\n",
       "    <tr>\n",
       "      <th id=\"T_4f9c5_level0_row69\" class=\"row_heading level0 row69\" >primary_cleaner.output.concentrate_ag</th>\n",
       "      <td id=\"T_4f9c5_row69_col0\" class=\"data row69 col0\" >0.000000</td>\n",
       "    </tr>\n",
       "    <tr>\n",
       "      <th id=\"T_4f9c5_level0_row70\" class=\"row_heading level0 row70\" >rougher.output.tail_sol</th>\n",
       "      <td id=\"T_4f9c5_row70_col0\" class=\"data row70 col0\" >0.000000</td>\n",
       "    </tr>\n",
       "    <tr>\n",
       "      <th id=\"T_4f9c5_level0_row71\" class=\"row_heading level0 row71\" >rougher.output.tail_au</th>\n",
       "      <td id=\"T_4f9c5_row71_col0\" class=\"data row71 col0\" >0.000000</td>\n",
       "    </tr>\n",
       "    <tr>\n",
       "      <th id=\"T_4f9c5_level0_row72\" class=\"row_heading level0 row72\" >secondary_cleaner.output.tail_au</th>\n",
       "      <td id=\"T_4f9c5_row72_col0\" class=\"data row72 col0\" >0.000000</td>\n",
       "    </tr>\n",
       "    <tr>\n",
       "      <th id=\"T_4f9c5_level0_row73\" class=\"row_heading level0 row73\" >rougher.calculation.au_pb_ratio</th>\n",
       "      <td id=\"T_4f9c5_row73_col0\" class=\"data row73 col0\" >0.000000</td>\n",
       "    </tr>\n",
       "    <tr>\n",
       "      <th id=\"T_4f9c5_level0_row74\" class=\"row_heading level0 row74\" >rougher.input.feed_ag</th>\n",
       "      <td id=\"T_4f9c5_row74_col0\" class=\"data row74 col0\" >0.000000</td>\n",
       "    </tr>\n",
       "    <tr>\n",
       "      <th id=\"T_4f9c5_level0_row75\" class=\"row_heading level0 row75\" >rougher.input.feed_au</th>\n",
       "      <td id=\"T_4f9c5_row75_col0\" class=\"data row75 col0\" >0.000000</td>\n",
       "    </tr>\n",
       "    <tr>\n",
       "      <th id=\"T_4f9c5_level0_row76\" class=\"row_heading level0 row76\" >rougher.state.floatbank10_f_level</th>\n",
       "      <td id=\"T_4f9c5_row76_col0\" class=\"data row76 col0\" >0.000000</td>\n",
       "    </tr>\n",
       "    <tr>\n",
       "      <th id=\"T_4f9c5_level0_row77\" class=\"row_heading level0 row77\" >rougher.state.floatbank10_f_air</th>\n",
       "      <td id=\"T_4f9c5_row77_col0\" class=\"data row77 col0\" >0.000000</td>\n",
       "    </tr>\n",
       "    <tr>\n",
       "      <th id=\"T_4f9c5_level0_row78\" class=\"row_heading level0 row78\" >rougher.state.floatbank10_e_level</th>\n",
       "      <td id=\"T_4f9c5_row78_col0\" class=\"data row78 col0\" >0.000000</td>\n",
       "    </tr>\n",
       "    <tr>\n",
       "      <th id=\"T_4f9c5_level0_row79\" class=\"row_heading level0 row79\" >rougher.state.floatbank10_d_level</th>\n",
       "      <td id=\"T_4f9c5_row79_col0\" class=\"data row79 col0\" >0.000000</td>\n",
       "    </tr>\n",
       "    <tr>\n",
       "      <th id=\"T_4f9c5_level0_row80\" class=\"row_heading level0 row80\" >rougher.state.floatbank10_d_air</th>\n",
       "      <td id=\"T_4f9c5_row80_col0\" class=\"data row80 col0\" >0.000000</td>\n",
       "    </tr>\n",
       "    <tr>\n",
       "      <th id=\"T_4f9c5_level0_row81\" class=\"row_heading level0 row81\" >rougher.output.concentrate_ag</th>\n",
       "      <td id=\"T_4f9c5_row81_col0\" class=\"data row81 col0\" >0.000000</td>\n",
       "    </tr>\n",
       "    <tr>\n",
       "      <th id=\"T_4f9c5_level0_row82\" class=\"row_heading level0 row82\" >rougher.output.concentrate_pb</th>\n",
       "      <td id=\"T_4f9c5_row82_col0\" class=\"data row82 col0\" >0.000000</td>\n",
       "    </tr>\n",
       "    <tr>\n",
       "      <th id=\"T_4f9c5_level0_row83\" class=\"row_heading level0 row83\" >rougher.output.concentrate_au</th>\n",
       "      <td id=\"T_4f9c5_row83_col0\" class=\"data row83 col0\" >0.000000</td>\n",
       "    </tr>\n",
       "    <tr>\n",
       "      <th id=\"T_4f9c5_level0_row84\" class=\"row_heading level0 row84\" >rougher.output.recovery</th>\n",
       "      <td id=\"T_4f9c5_row84_col0\" class=\"data row84 col0\" >0.000000</td>\n",
       "    </tr>\n",
       "    <tr>\n",
       "      <th id=\"T_4f9c5_level0_row85\" class=\"row_heading level0 row85\" >rougher.output.tail_pb</th>\n",
       "      <td id=\"T_4f9c5_row85_col0\" class=\"data row85 col0\" >0.000000</td>\n",
       "    </tr>\n",
       "    <tr>\n",
       "      <th id=\"T_4f9c5_level0_row86\" class=\"row_heading level0 row86\" >date</th>\n",
       "      <td id=\"T_4f9c5_row86_col0\" class=\"data row86 col0\" >0.000000</td>\n",
       "    </tr>\n",
       "  </tbody>\n",
       "</table>\n"
      ],
      "text/plain": [
       "<pandas.io.formats.style.Styler at 0x20d1653f5b0>"
      ]
     },
     "execution_count": 18,
     "metadata": {},
     "output_type": "execute_result"
    }
   ],
   "source": [
    "print('Пропуски в полной, в %:')\n",
    "pd.DataFrame(round(df_full.isna().mean()*100,2).sort_values(ascending=False)).style.background_gradient('coolwarm')"
   ]
  },
  {
   "cell_type": "code",
   "execution_count": 19,
   "metadata": {},
   "outputs": [
    {
     "name": "stdout",
     "output_type": "stream",
     "text": [
      "Пропуски в обучающей, в %:\n"
     ]
    },
    {
     "data": {
      "text/html": [
       "<style type=\"text/css\">\n",
       "#T_37a23_row0_col0 {\n",
       "  background-color: #b40426;\n",
       "  color: #f1f1f1;\n",
       "}\n",
       "#T_37a23_row1_col0 {\n",
       "  background-color: #94b6ff;\n",
       "  color: #000000;\n",
       "}\n",
       "#T_37a23_row2_col0 {\n",
       "  background-color: #93b5fe;\n",
       "  color: #000000;\n",
       "}\n",
       "#T_37a23_row3_col0 {\n",
       "  background-color: #7396f5;\n",
       "  color: #f1f1f1;\n",
       "}\n",
       "#T_37a23_row4_col0 {\n",
       "  background-color: #6485ec;\n",
       "  color: #f1f1f1;\n",
       "}\n",
       "#T_37a23_row5_col0 {\n",
       "  background-color: #6384eb;\n",
       "  color: #f1f1f1;\n",
       "}\n",
       "#T_37a23_row6_col0 {\n",
       "  background-color: #5673e0;\n",
       "  color: #f1f1f1;\n",
       "}\n",
       "#T_37a23_row7_col0, #T_37a23_row8_col0, #T_37a23_row9_col0 {\n",
       "  background-color: #4e68d8;\n",
       "  color: #f1f1f1;\n",
       "}\n",
       "#T_37a23_row10_col0 {\n",
       "  background-color: #4a63d3;\n",
       "  color: #f1f1f1;\n",
       "}\n",
       "#T_37a23_row11_col0 {\n",
       "  background-color: #4961d2;\n",
       "  color: #f1f1f1;\n",
       "}\n",
       "#T_37a23_row12_col0 {\n",
       "  background-color: #4358cb;\n",
       "  color: #f1f1f1;\n",
       "}\n",
       "#T_37a23_row13_col0, #T_37a23_row14_col0 {\n",
       "  background-color: #4055c8;\n",
       "  color: #f1f1f1;\n",
       "}\n",
       "#T_37a23_row15_col0 {\n",
       "  background-color: #3f53c6;\n",
       "  color: #f1f1f1;\n",
       "}\n",
       "#T_37a23_row16_col0, #T_37a23_row17_col0, #T_37a23_row18_col0 {\n",
       "  background-color: #3e51c5;\n",
       "  color: #f1f1f1;\n",
       "}\n",
       "#T_37a23_row19_col0 {\n",
       "  background-color: #3d50c3;\n",
       "  color: #f1f1f1;\n",
       "}\n",
       "#T_37a23_row20_col0, #T_37a23_row21_col0, #T_37a23_row22_col0 {\n",
       "  background-color: #3c4ec2;\n",
       "  color: #f1f1f1;\n",
       "}\n",
       "#T_37a23_row23_col0, #T_37a23_row24_col0, #T_37a23_row25_col0, #T_37a23_row26_col0, #T_37a23_row27_col0, #T_37a23_row28_col0, #T_37a23_row29_col0, #T_37a23_row30_col0, #T_37a23_row31_col0, #T_37a23_row32_col0, #T_37a23_row33_col0, #T_37a23_row34_col0, #T_37a23_row35_col0, #T_37a23_row36_col0, #T_37a23_row37_col0, #T_37a23_row38_col0, #T_37a23_row39_col0, #T_37a23_row40_col0, #T_37a23_row41_col0, #T_37a23_row42_col0, #T_37a23_row43_col0, #T_37a23_row44_col0, #T_37a23_row45_col0, #T_37a23_row46_col0, #T_37a23_row47_col0, #T_37a23_row48_col0, #T_37a23_row49_col0, #T_37a23_row50_col0, #T_37a23_row51_col0, #T_37a23_row52_col0, #T_37a23_row53_col0, #T_37a23_row54_col0, #T_37a23_row55_col0, #T_37a23_row56_col0, #T_37a23_row57_col0, #T_37a23_row58_col0, #T_37a23_row59_col0, #T_37a23_row60_col0, #T_37a23_row61_col0, #T_37a23_row62_col0, #T_37a23_row63_col0, #T_37a23_row64_col0, #T_37a23_row65_col0, #T_37a23_row66_col0, #T_37a23_row67_col0, #T_37a23_row68_col0, #T_37a23_row69_col0, #T_37a23_row70_col0, #T_37a23_row71_col0, #T_37a23_row72_col0, #T_37a23_row73_col0, #T_37a23_row74_col0, #T_37a23_row75_col0, #T_37a23_row76_col0, #T_37a23_row77_col0, #T_37a23_row78_col0, #T_37a23_row79_col0, #T_37a23_row80_col0, #T_37a23_row81_col0, #T_37a23_row82_col0, #T_37a23_row83_col0, #T_37a23_row84_col0, #T_37a23_row85_col0, #T_37a23_row86_col0 {\n",
       "  background-color: #3b4cc0;\n",
       "  color: #f1f1f1;\n",
       "}\n",
       "</style>\n",
       "<table id=\"T_37a23\">\n",
       "  <thead>\n",
       "    <tr>\n",
       "      <th class=\"blank level0\" >&nbsp;</th>\n",
       "      <th id=\"T_37a23_level0_col0\" class=\"col_heading level0 col0\" >0</th>\n",
       "    </tr>\n",
       "  </thead>\n",
       "  <tbody>\n",
       "    <tr>\n",
       "      <th id=\"T_37a23_level0_row0\" class=\"row_heading level0 row0\" >secondary_cleaner.output.tail_sol</th>\n",
       "      <td id=\"T_37a23_row0_col0\" class=\"data row0 col0\" >11.340000</td>\n",
       "    </tr>\n",
       "    <tr>\n",
       "      <th id=\"T_37a23_level0_row1\" class=\"row_heading level0 row1\" >rougher.state.floatbank10_e_air</th>\n",
       "      <td id=\"T_37a23_row1_col0\" class=\"data row1 col0\" >3.080000</td>\n",
       "    </tr>\n",
       "    <tr>\n",
       "      <th id=\"T_37a23_level0_row2\" class=\"row_heading level0 row2\" >rougher.input.floatbank11_xanthate</th>\n",
       "      <td id=\"T_37a23_row2_col0\" class=\"data row2 col0\" >3.020000</td>\n",
       "    </tr>\n",
       "    <tr>\n",
       "      <th id=\"T_37a23_level0_row3\" class=\"row_heading level0 row3\" >primary_cleaner.output.concentrate_sol</th>\n",
       "      <td id=\"T_37a23_row3_col0\" class=\"data row3 col0\" >2.020000</td>\n",
       "    </tr>\n",
       "    <tr>\n",
       "      <th id=\"T_37a23_level0_row4\" class=\"row_heading level0 row4\" >secondary_cleaner.state.floatbank2_a_air</th>\n",
       "      <td id=\"T_37a23_row4_col0\" class=\"data row4 col0\" >1.530000</td>\n",
       "    </tr>\n",
       "    <tr>\n",
       "      <th id=\"T_37a23_level0_row5\" class=\"row_heading level0 row5\" >final.output.concentrate_sol</th>\n",
       "      <td id=\"T_37a23_row5_col0\" class=\"data row5 col0\" >1.490000</td>\n",
       "    </tr>\n",
       "    <tr>\n",
       "      <th id=\"T_37a23_level0_row6\" class=\"row_heading level0 row6\" >rougher.input.feed_size</th>\n",
       "      <td id=\"T_37a23_row6_col0\" class=\"data row6 col0\" >1.020000</td>\n",
       "    </tr>\n",
       "    <tr>\n",
       "      <th id=\"T_37a23_level0_row7\" class=\"row_heading level0 row7\" >rougher.input.feed_pb</th>\n",
       "      <td id=\"T_37a23_row7_col0\" class=\"data row7 col0\" >0.710000</td>\n",
       "    </tr>\n",
       "    <tr>\n",
       "      <th id=\"T_37a23_level0_row8\" class=\"row_heading level0 row8\" >primary_cleaner.input.xanthate</th>\n",
       "      <td id=\"T_37a23_row8_col0\" class=\"data row8 col0\" >0.710000</td>\n",
       "    </tr>\n",
       "    <tr>\n",
       "      <th id=\"T_37a23_level0_row9\" class=\"row_heading level0 row9\" >final.output.tail_pb</th>\n",
       "      <td id=\"T_37a23_row9_col0\" class=\"data row9 col0\" >0.710000</td>\n",
       "    </tr>\n",
       "    <tr>\n",
       "      <th id=\"T_37a23_level0_row10\" class=\"row_heading level0 row10\" >primary_cleaner.output.concentrate_pb</th>\n",
       "      <td id=\"T_37a23_row10_col0\" class=\"data row10 col0\" >0.610000</td>\n",
       "    </tr>\n",
       "    <tr>\n",
       "      <th id=\"T_37a23_level0_row11\" class=\"row_heading level0 row11\" >rougher.input.feed_sol</th>\n",
       "      <td id=\"T_37a23_row11_col0\" class=\"data row11 col0\" >0.550000</td>\n",
       "    </tr>\n",
       "    <tr>\n",
       "      <th id=\"T_37a23_level0_row12\" class=\"row_heading level0 row12\" >primary_cleaner.output.tail_sol</th>\n",
       "      <td id=\"T_37a23_row12_col0\" class=\"data row12 col0\" >0.330000</td>\n",
       "    </tr>\n",
       "    <tr>\n",
       "      <th id=\"T_37a23_level0_row13\" class=\"row_heading level0 row13\" >rougher.input.floatbank11_sulfate</th>\n",
       "      <td id=\"T_37a23_row13_col0\" class=\"data row13 col0\" >0.250000</td>\n",
       "    </tr>\n",
       "    <tr>\n",
       "      <th id=\"T_37a23_level0_row14\" class=\"row_heading level0 row14\" >primary_cleaner.input.depressant</th>\n",
       "      <td id=\"T_37a23_row14_col0\" class=\"data row14 col0\" >0.230000</td>\n",
       "    </tr>\n",
       "    <tr>\n",
       "      <th id=\"T_37a23_level0_row15\" class=\"row_heading level0 row15\" >rougher.input.floatbank10_sulfate</th>\n",
       "      <td id=\"T_37a23_row15_col0\" class=\"data row15 col0\" >0.200000</td>\n",
       "    </tr>\n",
       "    <tr>\n",
       "      <th id=\"T_37a23_level0_row16\" class=\"row_heading level0 row16\" >rougher.output.concentrate_sol</th>\n",
       "      <td id=\"T_37a23_row16_col0\" class=\"data row16 col0\" >0.160000</td>\n",
       "    </tr>\n",
       "    <tr>\n",
       "      <th id=\"T_37a23_level0_row17\" class=\"row_heading level0 row17\" >secondary_cleaner.state.floatbank2_b_air</th>\n",
       "      <td id=\"T_37a23_row17_col0\" class=\"data row17 col0\" >0.150000</td>\n",
       "    </tr>\n",
       "    <tr>\n",
       "      <th id=\"T_37a23_level0_row18\" class=\"row_heading level0 row18\" >primary_cleaner.input.sulfate</th>\n",
       "      <td id=\"T_37a23_row18_col0\" class=\"data row18 col0\" >0.140000</td>\n",
       "    </tr>\n",
       "    <tr>\n",
       "      <th id=\"T_37a23_level0_row19\" class=\"row_heading level0 row19\" >primary_cleaner.output.tail_pb</th>\n",
       "      <td id=\"T_37a23_row19_col0\" class=\"data row19 col0\" >0.110000</td>\n",
       "    </tr>\n",
       "    <tr>\n",
       "      <th id=\"T_37a23_level0_row20\" class=\"row_heading level0 row20\" >secondary_cleaner.output.tail_pb</th>\n",
       "      <td id=\"T_37a23_row20_col0\" class=\"data row20 col0\" >0.070000</td>\n",
       "    </tr>\n",
       "    <tr>\n",
       "      <th id=\"T_37a23_level0_row21\" class=\"row_heading level0 row21\" >rougher.input.feed_rate</th>\n",
       "      <td id=\"T_37a23_row21_col0\" class=\"data row21 col0\" >0.060000</td>\n",
       "    </tr>\n",
       "    <tr>\n",
       "      <th id=\"T_37a23_level0_row22\" class=\"row_heading level0 row22\" >rougher.input.floatbank10_xanthate</th>\n",
       "      <td id=\"T_37a23_row22_col0\" class=\"data row22 col0\" >0.060000</td>\n",
       "    </tr>\n",
       "    <tr>\n",
       "      <th id=\"T_37a23_level0_row23\" class=\"row_heading level0 row23\" >secondary_cleaner.state.floatbank4_a_air</th>\n",
       "      <td id=\"T_37a23_row23_col0\" class=\"data row23 col0\" >0.040000</td>\n",
       "    </tr>\n",
       "    <tr>\n",
       "      <th id=\"T_37a23_level0_row24\" class=\"row_heading level0 row24\" >final.output.tail_sol</th>\n",
       "      <td id=\"T_37a23_row24_col0\" class=\"data row24 col0\" >0.040000</td>\n",
       "    </tr>\n",
       "    <tr>\n",
       "      <th id=\"T_37a23_level0_row25\" class=\"row_heading level0 row25\" >secondary_cleaner.state.floatbank3_a_air</th>\n",
       "      <td id=\"T_37a23_row25_col0\" class=\"data row25 col0\" >0.030000</td>\n",
       "    </tr>\n",
       "    <tr>\n",
       "      <th id=\"T_37a23_level0_row26\" class=\"row_heading level0 row26\" >primary_cleaner.state.floatbank8_b_air</th>\n",
       "      <td id=\"T_37a23_row26_col0\" class=\"data row26 col0\" >0.030000</td>\n",
       "    </tr>\n",
       "    <tr>\n",
       "      <th id=\"T_37a23_level0_row27\" class=\"row_heading level0 row27\" >primary_cleaner.state.floatbank8_a_air</th>\n",
       "      <td id=\"T_37a23_row27_col0\" class=\"data row27 col0\" >0.030000</td>\n",
       "    </tr>\n",
       "    <tr>\n",
       "      <th id=\"T_37a23_level0_row28\" class=\"row_heading level0 row28\" >primary_cleaner.state.floatbank8_d_air</th>\n",
       "      <td id=\"T_37a23_row28_col0\" class=\"data row28 col0\" >0.020000</td>\n",
       "    </tr>\n",
       "    <tr>\n",
       "      <th id=\"T_37a23_level0_row29\" class=\"row_heading level0 row29\" >secondary_cleaner.state.floatbank2_b_level</th>\n",
       "      <td id=\"T_37a23_row29_col0\" class=\"data row29 col0\" >0.010000</td>\n",
       "    </tr>\n",
       "    <tr>\n",
       "      <th id=\"T_37a23_level0_row30\" class=\"row_heading level0 row30\" >secondary_cleaner.state.floatbank5_a_air</th>\n",
       "      <td id=\"T_37a23_row30_col0\" class=\"data row30 col0\" >0.010000</td>\n",
       "    </tr>\n",
       "    <tr>\n",
       "      <th id=\"T_37a23_level0_row31\" class=\"row_heading level0 row31\" >rougher.state.floatbank10_b_air</th>\n",
       "      <td id=\"T_37a23_row31_col0\" class=\"data row31 col0\" >0.010000</td>\n",
       "    </tr>\n",
       "    <tr>\n",
       "      <th id=\"T_37a23_level0_row32\" class=\"row_heading level0 row32\" >secondary_cleaner.state.floatbank6_a_air</th>\n",
       "      <td id=\"T_37a23_row32_col0\" class=\"data row32 col0\" >0.010000</td>\n",
       "    </tr>\n",
       "    <tr>\n",
       "      <th id=\"T_37a23_level0_row33\" class=\"row_heading level0 row33\" >rougher.state.floatbank10_b_level</th>\n",
       "      <td id=\"T_37a23_row33_col0\" class=\"data row33 col0\" >0.010000</td>\n",
       "    </tr>\n",
       "    <tr>\n",
       "      <th id=\"T_37a23_level0_row34\" class=\"row_heading level0 row34\" >rougher.state.floatbank10_c_air</th>\n",
       "      <td id=\"T_37a23_row34_col0\" class=\"data row34 col0\" >0.010000</td>\n",
       "    </tr>\n",
       "    <tr>\n",
       "      <th id=\"T_37a23_level0_row35\" class=\"row_heading level0 row35\" >rougher.state.floatbank10_c_level</th>\n",
       "      <td id=\"T_37a23_row35_col0\" class=\"data row35 col0\" >0.010000</td>\n",
       "    </tr>\n",
       "    <tr>\n",
       "      <th id=\"T_37a23_level0_row36\" class=\"row_heading level0 row36\" >secondary_cleaner.state.floatbank5_b_level</th>\n",
       "      <td id=\"T_37a23_row36_col0\" class=\"data row36 col0\" >0.010000</td>\n",
       "    </tr>\n",
       "    <tr>\n",
       "      <th id=\"T_37a23_level0_row37\" class=\"row_heading level0 row37\" >secondary_cleaner.state.floatbank5_b_air</th>\n",
       "      <td id=\"T_37a23_row37_col0\" class=\"data row37 col0\" >0.010000</td>\n",
       "    </tr>\n",
       "    <tr>\n",
       "      <th id=\"T_37a23_level0_row38\" class=\"row_heading level0 row38\" >secondary_cleaner.state.floatbank5_a_level</th>\n",
       "      <td id=\"T_37a23_row38_col0\" class=\"data row38 col0\" >0.010000</td>\n",
       "    </tr>\n",
       "    <tr>\n",
       "      <th id=\"T_37a23_level0_row39\" class=\"row_heading level0 row39\" >secondary_cleaner.state.floatbank4_b_level</th>\n",
       "      <td id=\"T_37a23_row39_col0\" class=\"data row39 col0\" >0.010000</td>\n",
       "    </tr>\n",
       "    <tr>\n",
       "      <th id=\"T_37a23_level0_row40\" class=\"row_heading level0 row40\" >secondary_cleaner.state.floatbank4_b_air</th>\n",
       "      <td id=\"T_37a23_row40_col0\" class=\"data row40 col0\" >0.010000</td>\n",
       "    </tr>\n",
       "    <tr>\n",
       "      <th id=\"T_37a23_level0_row41\" class=\"row_heading level0 row41\" >secondary_cleaner.state.floatbank4_a_level</th>\n",
       "      <td id=\"T_37a23_row41_col0\" class=\"data row41 col0\" >0.010000</td>\n",
       "    </tr>\n",
       "    <tr>\n",
       "      <th id=\"T_37a23_level0_row42\" class=\"row_heading level0 row42\" >secondary_cleaner.state.floatbank3_b_level</th>\n",
       "      <td id=\"T_37a23_row42_col0\" class=\"data row42 col0\" >0.010000</td>\n",
       "    </tr>\n",
       "    <tr>\n",
       "      <th id=\"T_37a23_level0_row43\" class=\"row_heading level0 row43\" >secondary_cleaner.output.tail_ag</th>\n",
       "      <td id=\"T_37a23_row43_col0\" class=\"data row43 col0\" >0.010000</td>\n",
       "    </tr>\n",
       "    <tr>\n",
       "      <th id=\"T_37a23_level0_row44\" class=\"row_heading level0 row44\" >secondary_cleaner.state.floatbank3_b_air</th>\n",
       "      <td id=\"T_37a23_row44_col0\" class=\"data row44 col0\" >0.010000</td>\n",
       "    </tr>\n",
       "    <tr>\n",
       "      <th id=\"T_37a23_level0_row45\" class=\"row_heading level0 row45\" >rougher.state.floatbank10_a_air</th>\n",
       "      <td id=\"T_37a23_row45_col0\" class=\"data row45 col0\" >0.010000</td>\n",
       "    </tr>\n",
       "    <tr>\n",
       "      <th id=\"T_37a23_level0_row46\" class=\"row_heading level0 row46\" >secondary_cleaner.state.floatbank2_a_level</th>\n",
       "      <td id=\"T_37a23_row46_col0\" class=\"data row46 col0\" >0.010000</td>\n",
       "    </tr>\n",
       "    <tr>\n",
       "      <th id=\"T_37a23_level0_row47\" class=\"row_heading level0 row47\" >secondary_cleaner.state.floatbank3_a_level</th>\n",
       "      <td id=\"T_37a23_row47_col0\" class=\"data row47 col0\" >0.010000</td>\n",
       "    </tr>\n",
       "    <tr>\n",
       "      <th id=\"T_37a23_level0_row48\" class=\"row_heading level0 row48\" >rougher.state.floatbank10_a_level</th>\n",
       "      <td id=\"T_37a23_row48_col0\" class=\"data row48 col0\" >0.010000</td>\n",
       "    </tr>\n",
       "    <tr>\n",
       "      <th id=\"T_37a23_level0_row49\" class=\"row_heading level0 row49\" >secondary_cleaner.state.floatbank6_a_level</th>\n",
       "      <td id=\"T_37a23_row49_col0\" class=\"data row49 col0\" >0.010000</td>\n",
       "    </tr>\n",
       "    <tr>\n",
       "      <th id=\"T_37a23_level0_row50\" class=\"row_heading level0 row50\" >rougher.calculation.sulfate_to_au_concentrate</th>\n",
       "      <td id=\"T_37a23_row50_col0\" class=\"data row50 col0\" >0.010000</td>\n",
       "    </tr>\n",
       "    <tr>\n",
       "      <th id=\"T_37a23_level0_row51\" class=\"row_heading level0 row51\" >final.output.concentrate_pb</th>\n",
       "      <td id=\"T_37a23_row51_col0\" class=\"data row51 col0\" >0.010000</td>\n",
       "    </tr>\n",
       "    <tr>\n",
       "      <th id=\"T_37a23_level0_row52\" class=\"row_heading level0 row52\" >rougher.output.tail_ag</th>\n",
       "      <td id=\"T_37a23_row52_col0\" class=\"data row52 col0\" >0.010000</td>\n",
       "    </tr>\n",
       "    <tr>\n",
       "      <th id=\"T_37a23_level0_row53\" class=\"row_heading level0 row53\" >rougher.calculation.floatbank10_sulfate_to_au_feed</th>\n",
       "      <td id=\"T_37a23_row53_col0\" class=\"data row53 col0\" >0.010000</td>\n",
       "    </tr>\n",
       "    <tr>\n",
       "      <th id=\"T_37a23_level0_row54\" class=\"row_heading level0 row54\" >primary_cleaner.state.floatbank8_c_level</th>\n",
       "      <td id=\"T_37a23_row54_col0\" class=\"data row54 col0\" >0.010000</td>\n",
       "    </tr>\n",
       "    <tr>\n",
       "      <th id=\"T_37a23_level0_row55\" class=\"row_heading level0 row55\" >rougher.calculation.floatbank11_sulfate_to_au_feed</th>\n",
       "      <td id=\"T_37a23_row55_col0\" class=\"data row55 col0\" >0.010000</td>\n",
       "    </tr>\n",
       "    <tr>\n",
       "      <th id=\"T_37a23_level0_row56\" class=\"row_heading level0 row56\" >primary_cleaner.state.floatbank8_c_air</th>\n",
       "      <td id=\"T_37a23_row56_col0\" class=\"data row56 col0\" >0.010000</td>\n",
       "    </tr>\n",
       "    <tr>\n",
       "      <th id=\"T_37a23_level0_row57\" class=\"row_heading level0 row57\" >final.output.concentrate_ag</th>\n",
       "      <td id=\"T_37a23_row57_col0\" class=\"data row57 col0\" >0.010000</td>\n",
       "    </tr>\n",
       "    <tr>\n",
       "      <th id=\"T_37a23_level0_row58\" class=\"row_heading level0 row58\" >primary_cleaner.state.floatbank8_b_level</th>\n",
       "      <td id=\"T_37a23_row58_col0\" class=\"data row58 col0\" >0.010000</td>\n",
       "    </tr>\n",
       "    <tr>\n",
       "      <th id=\"T_37a23_level0_row59\" class=\"row_heading level0 row59\" >primary_cleaner.state.floatbank8_d_level</th>\n",
       "      <td id=\"T_37a23_row59_col0\" class=\"data row59 col0\" >0.010000</td>\n",
       "    </tr>\n",
       "    <tr>\n",
       "      <th id=\"T_37a23_level0_row60\" class=\"row_heading level0 row60\" >primary_cleaner.state.floatbank8_a_level</th>\n",
       "      <td id=\"T_37a23_row60_col0\" class=\"data row60 col0\" >0.010000</td>\n",
       "    </tr>\n",
       "    <tr>\n",
       "      <th id=\"T_37a23_level0_row61\" class=\"row_heading level0 row61\" >primary_cleaner.output.tail_ag</th>\n",
       "      <td id=\"T_37a23_row61_col0\" class=\"data row61 col0\" >0.010000</td>\n",
       "    </tr>\n",
       "    <tr>\n",
       "      <th id=\"T_37a23_level0_row62\" class=\"row_heading level0 row62\" >primary_cleaner.output.tail_au</th>\n",
       "      <td id=\"T_37a23_row62_col0\" class=\"data row62 col0\" >0.000000</td>\n",
       "    </tr>\n",
       "    <tr>\n",
       "      <th id=\"T_37a23_level0_row63\" class=\"row_heading level0 row63\" >rougher.output.tail_pb</th>\n",
       "      <td id=\"T_37a23_row63_col0\" class=\"data row63 col0\" >0.000000</td>\n",
       "    </tr>\n",
       "    <tr>\n",
       "      <th id=\"T_37a23_level0_row64\" class=\"row_heading level0 row64\" >primary_cleaner.output.concentrate_au</th>\n",
       "      <td id=\"T_37a23_row64_col0\" class=\"data row64 col0\" >0.000000</td>\n",
       "    </tr>\n",
       "    <tr>\n",
       "      <th id=\"T_37a23_level0_row65\" class=\"row_heading level0 row65\" >primary_cleaner.input.feed_size</th>\n",
       "      <td id=\"T_37a23_row65_col0\" class=\"data row65 col0\" >0.000000</td>\n",
       "    </tr>\n",
       "    <tr>\n",
       "      <th id=\"T_37a23_level0_row66\" class=\"row_heading level0 row66\" >final.output.tail_au</th>\n",
       "      <td id=\"T_37a23_row66_col0\" class=\"data row66 col0\" >0.000000</td>\n",
       "    </tr>\n",
       "    <tr>\n",
       "      <th id=\"T_37a23_level0_row67\" class=\"row_heading level0 row67\" >final.output.tail_ag</th>\n",
       "      <td id=\"T_37a23_row67_col0\" class=\"data row67 col0\" >0.000000</td>\n",
       "    </tr>\n",
       "    <tr>\n",
       "      <th id=\"T_37a23_level0_row68\" class=\"row_heading level0 row68\" >final.output.recovery</th>\n",
       "      <td id=\"T_37a23_row68_col0\" class=\"data row68 col0\" >0.000000</td>\n",
       "    </tr>\n",
       "    <tr>\n",
       "      <th id=\"T_37a23_level0_row69\" class=\"row_heading level0 row69\" >final.output.concentrate_au</th>\n",
       "      <td id=\"T_37a23_row69_col0\" class=\"data row69 col0\" >0.000000</td>\n",
       "    </tr>\n",
       "    <tr>\n",
       "      <th id=\"T_37a23_level0_row70\" class=\"row_heading level0 row70\" >primary_cleaner.output.concentrate_ag</th>\n",
       "      <td id=\"T_37a23_row70_col0\" class=\"data row70 col0\" >0.000000</td>\n",
       "    </tr>\n",
       "    <tr>\n",
       "      <th id=\"T_37a23_level0_row71\" class=\"row_heading level0 row71\" >secondary_cleaner.output.tail_au</th>\n",
       "      <td id=\"T_37a23_row71_col0\" class=\"data row71 col0\" >0.000000</td>\n",
       "    </tr>\n",
       "    <tr>\n",
       "      <th id=\"T_37a23_level0_row72\" class=\"row_heading level0 row72\" >rougher.output.tail_sol</th>\n",
       "      <td id=\"T_37a23_row72_col0\" class=\"data row72 col0\" >0.000000</td>\n",
       "    </tr>\n",
       "    <tr>\n",
       "      <th id=\"T_37a23_level0_row73\" class=\"row_heading level0 row73\" >rougher.calculation.au_pb_ratio</th>\n",
       "      <td id=\"T_37a23_row73_col0\" class=\"data row73 col0\" >0.000000</td>\n",
       "    </tr>\n",
       "    <tr>\n",
       "      <th id=\"T_37a23_level0_row74\" class=\"row_heading level0 row74\" >rougher.input.feed_ag</th>\n",
       "      <td id=\"T_37a23_row74_col0\" class=\"data row74 col0\" >0.000000</td>\n",
       "    </tr>\n",
       "    <tr>\n",
       "      <th id=\"T_37a23_level0_row75\" class=\"row_heading level0 row75\" >rougher.state.floatbank10_f_level</th>\n",
       "      <td id=\"T_37a23_row75_col0\" class=\"data row75 col0\" >0.000000</td>\n",
       "    </tr>\n",
       "    <tr>\n",
       "      <th id=\"T_37a23_level0_row76\" class=\"row_heading level0 row76\" >rougher.state.floatbank10_f_air</th>\n",
       "      <td id=\"T_37a23_row76_col0\" class=\"data row76 col0\" >0.000000</td>\n",
       "    </tr>\n",
       "    <tr>\n",
       "      <th id=\"T_37a23_level0_row77\" class=\"row_heading level0 row77\" >rougher.state.floatbank10_e_level</th>\n",
       "      <td id=\"T_37a23_row77_col0\" class=\"data row77 col0\" >0.000000</td>\n",
       "    </tr>\n",
       "    <tr>\n",
       "      <th id=\"T_37a23_level0_row78\" class=\"row_heading level0 row78\" >rougher.input.feed_au</th>\n",
       "      <td id=\"T_37a23_row78_col0\" class=\"data row78 col0\" >0.000000</td>\n",
       "    </tr>\n",
       "    <tr>\n",
       "      <th id=\"T_37a23_level0_row79\" class=\"row_heading level0 row79\" >rougher.state.floatbank10_d_level</th>\n",
       "      <td id=\"T_37a23_row79_col0\" class=\"data row79 col0\" >0.000000</td>\n",
       "    </tr>\n",
       "    <tr>\n",
       "      <th id=\"T_37a23_level0_row80\" class=\"row_heading level0 row80\" >rougher.state.floatbank10_d_air</th>\n",
       "      <td id=\"T_37a23_row80_col0\" class=\"data row80 col0\" >0.000000</td>\n",
       "    </tr>\n",
       "    <tr>\n",
       "      <th id=\"T_37a23_level0_row81\" class=\"row_heading level0 row81\" >rougher.output.concentrate_ag</th>\n",
       "      <td id=\"T_37a23_row81_col0\" class=\"data row81 col0\" >0.000000</td>\n",
       "    </tr>\n",
       "    <tr>\n",
       "      <th id=\"T_37a23_level0_row82\" class=\"row_heading level0 row82\" >rougher.output.concentrate_pb</th>\n",
       "      <td id=\"T_37a23_row82_col0\" class=\"data row82 col0\" >0.000000</td>\n",
       "    </tr>\n",
       "    <tr>\n",
       "      <th id=\"T_37a23_level0_row83\" class=\"row_heading level0 row83\" >rougher.output.concentrate_au</th>\n",
       "      <td id=\"T_37a23_row83_col0\" class=\"data row83 col0\" >0.000000</td>\n",
       "    </tr>\n",
       "    <tr>\n",
       "      <th id=\"T_37a23_level0_row84\" class=\"row_heading level0 row84\" >rougher.output.recovery</th>\n",
       "      <td id=\"T_37a23_row84_col0\" class=\"data row84 col0\" >0.000000</td>\n",
       "    </tr>\n",
       "    <tr>\n",
       "      <th id=\"T_37a23_level0_row85\" class=\"row_heading level0 row85\" >rougher.output.tail_au</th>\n",
       "      <td id=\"T_37a23_row85_col0\" class=\"data row85 col0\" >0.000000</td>\n",
       "    </tr>\n",
       "    <tr>\n",
       "      <th id=\"T_37a23_level0_row86\" class=\"row_heading level0 row86\" >date</th>\n",
       "      <td id=\"T_37a23_row86_col0\" class=\"data row86 col0\" >0.000000</td>\n",
       "    </tr>\n",
       "  </tbody>\n",
       "</table>\n"
      ],
      "text/plain": [
       "<pandas.io.formats.style.Styler at 0x20d16892d30>"
      ]
     },
     "execution_count": 19,
     "metadata": {},
     "output_type": "execute_result"
    }
   ],
   "source": [
    "print('Пропуски в обучающей, в %:')\n",
    "pd.DataFrame(round(df_train.isna().mean()*100,2).sort_values(ascending=False)).style.background_gradient('coolwarm')"
   ]
  },
  {
   "cell_type": "markdown",
   "metadata": {},
   "source": [
    "Вывод: Больше всего пропусков в столбце \"secondary_cleaner.output.tail_sol\" в выборке трэйн, рассмотрим его подробнее и подумаем, как его можно заполнить."
   ]
  },
  {
   "cell_type": "markdown",
   "metadata": {},
   "source": [
    "### Заполнение пропусков"
   ]
  },
  {
   "cell_type": "markdown",
   "metadata": {},
   "source": [
    "Т.к. данные индексируются датой и временем получения информации, и соседние по времени параметры часто похожи, то для заполнения пропусков используем интерполяцию:"
   ]
  },
  {
   "cell_type": "code",
   "execution_count": 20,
   "metadata": {},
   "outputs": [
    {
     "data": {
      "image/png": "[encoded data removed]",
      "text/plain": [
       "<Figure size 1000x700 with 1 Axes>"
      ]
     },
     "metadata": {},
     "output_type": "display_data"
    }
   ],
   "source": [
    "df_train['secondary_cleaner.output.tail_sol'].plot.hist(xlabel='dffdfr', title= 'Распределение \"secondary_cleaner.output.tail_sol\" до заполнения пропусков');"
   ]
  },
  {
   "cell_type": "code",
   "execution_count": 21,
   "metadata": {},
   "outputs": [],
   "source": [
    "df_full['secondary_cleaner.output.tail_sol']=df_full['secondary_cleaner.output.tail_sol'].interpolate(method='linear')\n",
    "df_train['secondary_cleaner.output.tail_sol']=df_train['secondary_cleaner.output.tail_sol'].interpolate(method='linear')"
   ]
  },
  {
   "cell_type": "code",
   "execution_count": 22,
   "metadata": {},
   "outputs": [
    {
     "data": {
      "image/png": "[encoded data removed]",
      "text/plain": [
       "<Figure size 1000x700 with 1 Axes>"
      ]
     },
     "metadata": {},
     "output_type": "display_data"
    }
   ],
   "source": [
    "df_train['secondary_cleaner.output.tail_sol'].plot.hist(title= 'Распределение \"secondary_cleaner.output.tail_sol\" после заполнения пропусков');"
   ]
  },
  {
   "cell_type": "code",
   "execution_count": 23,
   "metadata": {},
   "outputs": [
    {
     "name": "stdout",
     "output_type": "stream",
     "text": [
      "(19439, 87)\n",
      "(5290, 55)\n",
      "(14149, 87)\n"
     ]
    }
   ],
   "source": [
    "print(df_full.shape)\n",
    "print(df_test.shape)\n",
    "print(df_train.shape)"
   ]
  },
  {
   "cell_type": "code",
   "execution_count": 24,
   "metadata": {},
   "outputs": [],
   "source": [
    "#Удалим оставшиеся пропуски\n",
    "df_full=df_full.dropna()\n",
    "df_test=df_test.dropna()\n",
    "df_train=df_train.dropna()"
   ]
  },
  {
   "cell_type": "code",
   "execution_count": 25,
   "metadata": {},
   "outputs": [
    {
     "name": "stdout",
     "output_type": "stream",
     "text": [
      "(17390, 87)\n",
      "(5229, 55)\n",
      "(12245, 87)\n"
     ]
    }
   ],
   "source": [
    "print(df_full.shape)\n",
    "print(df_test.shape)\n",
    "print(df_train.shape)"
   ]
  },
  {
   "cell_type": "markdown",
   "metadata": {},
   "source": [
    "### Посчитаем явные дубликаты"
   ]
  },
  {
   "cell_type": "code",
   "execution_count": 26,
   "metadata": {},
   "outputs": [
    {
     "name": "stdout",
     "output_type": "stream",
     "text": [
      "0\n",
      "0\n",
      "0\n"
     ]
    }
   ],
   "source": [
    "print(df_test.duplicated().sum())\n",
    "print(df_train.duplicated().sum())\n",
    "print(df_full.duplicated().sum())"
   ]
  },
  {
   "cell_type": "markdown",
   "metadata": {},
   "source": [
    "###  Проверка формулы для recovery\n",
    "Проверим, что эффективность обогащения рассчитана правильно. Вычислим её на обучающей выборке для признака rougher.output.recovery. Найдем MAE между нашими расчётами и значением признака"
   ]
  },
  {
   "cell_type": "code",
   "execution_count": 27,
   "metadata": {},
   "outputs": [],
   "source": [
    "def recovery(F,C,T):\n",
    "    recovery=((C*(F-T))/(F*(C-T)))*100\n",
    "    return recovery"
   ]
  },
  {
   "cell_type": "code",
   "execution_count": 28,
   "metadata": {},
   "outputs": [],
   "source": [
    "df_train['rougher.output.recovery.my']=recovery(df_train['rougher.input.feed_au'],df_train['rougher.output.concentrate_au'],df_train['rougher.output.tail_au'])\n"
   ]
  },
  {
   "cell_type": "code",
   "execution_count": 29,
   "metadata": {},
   "outputs": [
    {
     "data": {
      "text/html": [
       "<div>\n",
       "<style scoped>\n",
       "    .dataframe tbody tr th:only-of-type {\n",
       "        vertical-align: middle;\n",
       "    }\n",
       "\n",
       "    .dataframe tbody tr th {\n",
       "        vertical-align: top;\n",
       "    }\n",
       "\n",
       "    .dataframe thead th {\n",
       "        text-align: right;\n",
       "    }\n",
       "</style>\n",
       "<table border=\"1\" class=\"dataframe\">\n",
       "  <thead>\n",
       "    <tr style=\"text-align: right;\">\n",
       "      <th></th>\n",
       "      <th>rougher.output.recovery.my</th>\n",
       "      <th>rougher.output.recovery</th>\n",
       "    </tr>\n",
       "  </thead>\n",
       "  <tbody>\n",
       "    <tr>\n",
       "      <th>0</th>\n",
       "      <td>87.107763</td>\n",
       "      <td>87.107763</td>\n",
       "    </tr>\n",
       "    <tr>\n",
       "      <th>1</th>\n",
       "      <td>86.843261</td>\n",
       "      <td>86.843261</td>\n",
       "    </tr>\n",
       "    <tr>\n",
       "      <th>2</th>\n",
       "      <td>86.842308</td>\n",
       "      <td>86.842308</td>\n",
       "    </tr>\n",
       "    <tr>\n",
       "      <th>3</th>\n",
       "      <td>87.226430</td>\n",
       "      <td>87.226430</td>\n",
       "    </tr>\n",
       "    <tr>\n",
       "      <th>4</th>\n",
       "      <td>86.688794</td>\n",
       "      <td>86.688794</td>\n",
       "    </tr>\n",
       "  </tbody>\n",
       "</table>\n",
       "</div>"
      ],
      "text/plain": [
       "   rougher.output.recovery.my  rougher.output.recovery\n",
       "0                   87.107763                87.107763\n",
       "1                   86.843261                86.843261\n",
       "2                   86.842308                86.842308\n",
       "3                   87.226430                87.226430\n",
       "4                   86.688794                86.688794"
      ]
     },
     "execution_count": 29,
     "metadata": {},
     "output_type": "execute_result"
    }
   ],
   "source": [
    "df_train[['rougher.output.recovery.my','rougher.output.recovery']].head()"
   ]
  },
  {
   "cell_type": "code",
   "execution_count": 30,
   "metadata": {},
   "outputs": [
    {
     "name": "stdout",
     "output_type": "stream",
     "text": [
      "MAE_rougher_recovery: 0.0\n"
     ]
    }
   ],
   "source": [
    "MAE_rougher_recovery=mean_absolute_error(df_train['rougher.output.recovery'],df_train['rougher.output.recovery.my'])\n",
    "print('MAE_rougher_recovery:',round( MAE_rougher_recovery,2))"
   ]
  },
  {
   "cell_type": "markdown",
   "metadata": {},
   "source": [
    "Выводы: на данном этапе, на обучающей выборке для признака \"rougher.output.recovery\", мы убедились, что эффективность обогащения рассчитана правильно"
   ]
  },
  {
   "cell_type": "markdown",
   "metadata": {},
   "source": [
    "### Признаки, недоступные в тестовой выборке\n",
    "Проанализируйте признаки, недоступные в тестовой выборке. Что это за параметры? К какому типу относятся?"
   ]
  },
  {
   "cell_type": "code",
   "execution_count": 31,
   "metadata": {},
   "outputs": [
    {
     "data": {
      "text/plain": [
       "['final.output.concentrate_ag',\n",
       " 'final.output.concentrate_pb',\n",
       " 'final.output.concentrate_sol',\n",
       " 'final.output.concentrate_au',\n",
       " 'final.output.tail_ag',\n",
       " 'final.output.tail_pb',\n",
       " 'final.output.tail_sol',\n",
       " 'final.output.tail_au',\n",
       " 'primary_cleaner.output.concentrate_ag',\n",
       " 'primary_cleaner.output.concentrate_pb',\n",
       " 'primary_cleaner.output.concentrate_sol',\n",
       " 'primary_cleaner.output.concentrate_au',\n",
       " 'primary_cleaner.output.tail_ag',\n",
       " 'primary_cleaner.output.tail_pb',\n",
       " 'primary_cleaner.output.tail_sol',\n",
       " 'primary_cleaner.output.tail_au',\n",
       " 'rougher.calculation.sulfate_to_au_concentrate',\n",
       " 'rougher.calculation.floatbank10_sulfate_to_au_feed',\n",
       " 'rougher.calculation.floatbank11_sulfate_to_au_feed',\n",
       " 'rougher.calculation.au_pb_ratio',\n",
       " 'rougher.output.concentrate_ag',\n",
       " 'rougher.output.concentrate_pb',\n",
       " 'rougher.output.concentrate_sol',\n",
       " 'rougher.output.concentrate_au',\n",
       " 'rougher.output.tail_ag',\n",
       " 'rougher.output.tail_pb',\n",
       " 'rougher.output.tail_sol',\n",
       " 'rougher.output.tail_au',\n",
       " 'secondary_cleaner.output.tail_ag',\n",
       " 'secondary_cleaner.output.tail_pb',\n",
       " 'secondary_cleaner.output.tail_sol',\n",
       " 'secondary_cleaner.output.tail_au',\n",
       " 'rougher.output.recovery.my']"
      ]
     },
     "execution_count": 31,
     "metadata": {},
     "output_type": "execute_result"
    }
   ],
   "source": [
    "#Выведем список наименований столбцов, которых нет в тестовой выборке:\n",
    "dif_tr_test=[]\n",
    "for i in df_train.columns:\n",
    "    if i not in df_test.columns:\n",
    "        dif_tr_test.append(i)\n",
    "dif_tr_test        "
   ]
  },
  {
   "cell_type": "markdown",
   "metadata": {},
   "source": [
    "Выводы: в тестовой выборке отсутствуют выходные параметры (выходные концентрации и отвальные хвосты) каждого блока: флотации, первой очистки, второй очистки. "
   ]
  },
  {
   "cell_type": "markdown",
   "metadata": {},
   "source": [
    "Выводы: в данном разделе проведена предобработка данных. Обработаны пропуски, проведена проверка на дубликаты. Также, в тестовую выборку добавлены целевые признаки, чтобы позже можно было оценить итоговую модель"
   ]
  },
  {
   "cell_type": "markdown",
   "metadata": {},
   "source": [
    "\n",
    "## Анализ данных"
   ]
  },
  {
   "cell_type": "markdown",
   "metadata": {},
   "source": [
    "### Изменение концентрации металлов (Au, Ag, Pb)\n",
    "на различных этапах очистки. \n",
    "\n",
    "Концентрация золота:"
   ]
  },
  {
   "cell_type": "code",
   "execution_count": 32,
   "metadata": {},
   "outputs": [
    {
     "data": {
      "image/png": "[encoded data removed]",
      "text/plain": [
       "<Figure size 1000x700 with 1 Axes>"
      ]
     },
     "metadata": {},
     "output_type": "display_data"
    }
   ],
   "source": [
    "df_full[['rougher.input.feed_au','rougher.output.concentrate_au','primary_cleaner.output.concentrate_au',\\\n",
    "          'final.output.concentrate_au']].plot.hist(alpha=0.7, title='Изменение концентрации Au');"
   ]
  },
  {
   "cell_type": "markdown",
   "metadata": {},
   "source": [
    "Выводы: концентрация золота увеличивается на каждом этапе очистки."
   ]
  },
  {
   "cell_type": "code",
   "execution_count": 33,
   "metadata": {},
   "outputs": [
    {
     "data": {
      "image/png": "[encoded data removed]",
      "text/plain": [
       "<Figure size 1000x700 with 1 Axes>"
      ]
     },
     "metadata": {},
     "output_type": "display_data"
    }
   ],
   "source": [
    "df_full[['rougher.input.feed_ag','rougher.output.concentrate_ag','primary_cleaner.output.concentrate_ag',\\\n",
    "          'final.output.concentrate_ag']].plot.hist(alpha=0.7, title='Изменение концентрации Ag');"
   ]
  },
  {
   "cell_type": "code",
   "execution_count": 34,
   "metadata": {},
   "outputs": [
    {
     "data": {
      "image/png": "[encoded data removed]",
      "text/plain": [
       "<Figure size 1000x700 with 1 Axes>"
      ]
     },
     "metadata": {},
     "output_type": "display_data"
    }
   ],
   "source": [
    "df_full[['rougher.input.feed_pb','rougher.output.concentrate_pb','primary_cleaner.output.concentrate_pb',\\\n",
    "          'final.output.concentrate_pb']].plot.hist(alpha=0.7,title='Изменение концентрации Pb');"
   ]
  },
  {
   "cell_type": "markdown",
   "metadata": {},
   "source": [
    "Выводы: концентрация металлов Ag, Pb значительно увеличивается на этапе флотации, на следующих этапах очистки - может как увеличиться, так и уменьшиться."
   ]
  },
  {
   "cell_type": "markdown",
   "metadata": {},
   "source": [
    "###   Сравнение распределения размеров гранул сырья\n",
    "на обучающей и тестовой выборках.\n",
    "Если распределения сильно отличаются друг от друга, оценка модели будет неправильной."
   ]
  },
  {
   "cell_type": "markdown",
   "metadata": {},
   "source": [
    "feed size — размер гранул сырья"
   ]
  },
  {
   "cell_type": "code",
   "execution_count": 35,
   "metadata": {},
   "outputs": [
    {
     "data": {
      "image/png": "[encoded data removed]",
      "text/plain": [
       "<Figure size 1000x700 with 1 Axes>"
      ]
     },
     "metadata": {},
     "output_type": "display_data"
    }
   ],
   "source": [
    "sns.kdeplot(df_train['rougher.input.feed_size']).set_title(\"Распределение 'rougher.input.feed_size' до удаления выбросов\");  \n",
    "sns.kdeplot(df_test['rougher.input.feed_size']);"
   ]
  },
  {
   "cell_type": "markdown",
   "metadata": {},
   "source": [
    "Выводы: у обоих распределений слишком длиннные \"хвосты\" справа, можно предположить, что это выбросы. Уберем их и посмотрим а полученные распределения"
   ]
  },
  {
   "cell_type": "code",
   "execution_count": 36,
   "metadata": {},
   "outputs": [],
   "source": [
    "df_train=df_train.loc[df_train['rougher.input.feed_size']<170]\n",
    "df_test=df_test.loc[df_test['rougher.input.feed_size']<170]"
   ]
  },
  {
   "cell_type": "code",
   "execution_count": 37,
   "metadata": {},
   "outputs": [
    {
     "data": {
      "image/png": "[encoded data removed]",
      "text/plain": [
       "<Figure size 1000x700 with 1 Axes>"
      ]
     },
     "metadata": {},
     "output_type": "display_data"
    }
   ],
   "source": [
    "sns.kdeplot(df_train['rougher.input.feed_size']).set_title(\"Распределение 'rougher.input.feed_size' после удаления выбросов\");   \n",
    "sns.kdeplot(df_test['rougher.input.feed_size']); "
   ]
  },
  {
   "cell_type": "code",
   "execution_count": 38,
   "metadata": {},
   "outputs": [
    {
     "name": "stdout",
     "output_type": "stream",
     "text": [
      "55.37200320289205\n"
     ]
    },
    {
     "data": {
      "text/plain": [
       "57.44887371775831"
      ]
     },
     "execution_count": 38,
     "metadata": {},
     "output_type": "execute_result"
    }
   ],
   "source": [
    "print(df_test['rougher.input.feed_size'].mean())\n",
    "df_train['rougher.input.feed_size'].mean()"
   ]
  },
  {
   "cell_type": "markdown",
   "metadata": {},
   "source": [
    "Выводы: распределения отличаются, но незначительно. Среднее на обучающей выборке немного смещено вправо"
   ]
  },
  {
   "cell_type": "code",
   "execution_count": 39,
   "metadata": {
    "scrolled": false
   },
   "outputs": [
    {
     "data": {
      "image/png": "[encoded data removed]",
      "text/plain": [
       "<Figure size 1000x700 with 1 Axes>"
      ]
     },
     "metadata": {},
     "output_type": "display_data"
    }
   ],
   "source": [
    "sns.kdeplot(df_train['primary_cleaner.input.feed_size']).set_title(\"Распределение 'primary_cleaner.input.feed_size'\");   \n",
    "sns.kdeplot(df_test['primary_cleaner.input.feed_size']); "
   ]
  },
  {
   "cell_type": "markdown",
   "metadata": {},
   "source": [
    "Выводы: распределения отличаются незначительно,следовательно, можно предполагать, что оценки моделей будут несмещенными"
   ]
  },
  {
   "cell_type": "markdown",
   "metadata": {},
   "source": [
    "###  Исследование суммарных концентраций\n",
    "Исследуйте суммарную концентрацию всех веществ на разных стадиях: в сырье, в черновом и финальном концентратах. "
   ]
  },
  {
   "cell_type": "code",
   "execution_count": 40,
   "metadata": {},
   "outputs": [
    {
     "data": {
      "image/png": "[encoded data removed]",
      "text/plain": [
       "<Figure size 1000x600 with 1 Axes>"
      ]
     },
     "metadata": {},
     "output_type": "display_data"
    }
   ],
   "source": [
    "# в сырье\n",
    "df_train['sum_conc_input']=df_train['rougher.input.feed_au']+df_train['rougher.input.feed_ag']+\\\n",
    "df_train['rougher.input.feed_pb']+df_train['rougher.input.feed_sol']\n",
    "# в черновом\n",
    "df_train['sum_conc_rougher']=df_train['rougher.output.concentrate_au']+df_train['rougher.output.concentrate_ag']+\\\n",
    "df_train['rougher.output.concentrate_pb']+df_train['rougher.output.concentrate_sol']\n",
    "#в финальном \n",
    "df_train['sum_conc_finall']=df_train['final.output.concentrate_au']+df_train['final.output.concentrate_ag']\\\n",
    "+df_train['final.output.concentrate_pb']+df_train['final.output.concentrate_sol']\n",
    "df_train[['sum_conc_input','sum_conc_rougher','sum_conc_finall']].plot.hist(figsize=(10,6), alpha=0.7, title='Суммарная концентрация металлов');"
   ]
  },
  {
   "cell_type": "markdown",
   "metadata": {},
   "source": [
    "Выводы: суммарная концентрация металлов увеличивается от сырья к финальному концентрату. По графику, сомнения вызывают значения суммарных концентрации в черновом концентрате менее 20, т.к. они расположены далеко от основного распределения. Поэтому, удалим строки с очень маленькой суммарной концентрацией:"
   ]
  },
  {
   "cell_type": "code",
   "execution_count": 41,
   "metadata": {},
   "outputs": [
    {
     "data": {
      "image/png": "[encoded data removed]",
      "text/plain": [
       "<Figure size 1000x600 with 1 Axes>"
      ]
     },
     "metadata": {},
     "output_type": "display_data"
    }
   ],
   "source": [
    "df_train=df_train.loc[df_train['sum_conc_input']>20]\n",
    "df_train=df_train.loc[df_train['sum_conc_rougher']>20]\n",
    "df_train=df_train.loc[df_train['sum_conc_finall']>20]\n",
    "df_train[['sum_conc_input','sum_conc_rougher','sum_conc_finall']].plot.hist(figsize=(10,6), alpha=0.7, title='Суммарная концентрация металлов');"
   ]
  },
  {
   "cell_type": "markdown",
   "metadata": {},
   "source": [
    "### Мультиколлинеарность"
   ]
  },
  {
   "cell_type": "code",
   "execution_count": 42,
   "metadata": {},
   "outputs": [
    {
     "data": {
      "text/plain": [
       "55"
      ]
     },
     "execution_count": 42,
     "metadata": {},
     "output_type": "execute_result"
    }
   ],
   "source": [
    "df_test.shape[1]"
   ]
  },
  {
   "cell_type": "markdown",
   "metadata": {},
   "source": [
    "Построим корреляционную матрицу и выведем топ значений:"
   ]
  },
  {
   "cell_type": "code",
   "execution_count": 43,
   "metadata": {
    "scrolled": false
   },
   "outputs": [
    {
     "data": {
      "text/plain": [
       "primary_cleaner.input.sulfate               primary_cleaner.input.sulfate                 1.000000\n",
       "rougher.state.floatbank10_b_level           rougher.state.floatbank10_c_level             0.990280\n",
       "primary_cleaner.state.floatbank8_b_air      primary_cleaner.state.floatbank8_d_air        0.985003\n",
       "rougher.state.floatbank10_e_level           rougher.state.floatbank10_f_level             0.974223\n",
       "primary_cleaner.state.floatbank8_a_air      primary_cleaner.state.floatbank8_b_air        0.974180\n",
       "rougher.state.floatbank10_c_level           rougher.state.floatbank10_d_level             0.971959\n",
       "primary_cleaner.state.floatbank8_a_air      primary_cleaner.state.floatbank8_d_air        0.970150\n",
       "rougher.state.floatbank10_b_level           rougher.state.floatbank10_d_level             0.963219\n",
       "rougher.state.floatbank10_b_air             rougher.state.floatbank10_c_air               0.961249\n",
       "rougher.state.floatbank10_c_air             rougher.state.floatbank10_d_air               0.950320\n",
       "rougher.input.floatbank10_sulfate           rougher.input.floatbank11_sulfate             0.944697\n",
       "rougher.state.floatbank10_b_air             rougher.state.floatbank10_d_air               0.930675\n",
       "secondary_cleaner.state.floatbank4_a_air    secondary_cleaner.state.floatbank4_b_air      0.928375\n",
       "rougher.state.floatbank10_c_level           rougher.state.floatbank10_e_level             0.927172\n",
       "rougher.state.floatbank10_b_level           rougher.state.floatbank10_e_level             0.924491\n",
       "rougher.state.floatbank10_e_air             rougher.state.floatbank10_f_air               0.923555\n",
       "rougher.state.floatbank10_b_level           rougher.state.floatbank10_f_level             0.914883\n",
       "secondary_cleaner.state.floatbank3_a_air    secondary_cleaner.state.floatbank3_b_air      0.910916\n",
       "rougher.state.floatbank10_c_level           rougher.state.floatbank10_f_level             0.906615\n",
       "rougher.state.floatbank10_d_level           rougher.state.floatbank10_f_level             0.906244\n",
       "secondary_cleaner.state.floatbank2_a_level  secondary_cleaner.state.floatbank2_b_level    0.903619\n",
       "rougher.state.floatbank10_d_level           rougher.state.floatbank10_e_level             0.901857\n",
       "secondary_cleaner.state.floatbank3_a_level  secondary_cleaner.state.floatbank3_b_level    0.899781\n",
       "rougher.input.floatbank10_xanthate          rougher.input.floatbank11_xanthate            0.898504\n",
       "rougher.state.floatbank10_c_air             rougher.state.floatbank10_e_air               0.872267\n",
       "secondary_cleaner.state.floatbank2_a_air    secondary_cleaner.state.floatbank2_b_air      0.862396\n",
       "primary_cleaner.state.floatbank8_b_air      primary_cleaner.state.floatbank8_c_air        0.862263\n",
       "rougher.input.feed_ag                       rougher.input.feed_au                         0.858179\n",
       "primary_cleaner.state.floatbank8_c_air      primary_cleaner.state.floatbank8_d_air        0.856111\n",
       "rougher.state.floatbank10_b_air             rougher.state.floatbank10_e_air               0.840295\n",
       "secondary_cleaner.state.floatbank5_a_air    secondary_cleaner.state.floatbank5_b_air      0.838196\n",
       "primary_cleaner.state.floatbank8_a_air      primary_cleaner.state.floatbank8_c_air        0.829029\n",
       "rougher.state.floatbank10_d_air             rougher.state.floatbank10_e_air               0.823222\n",
       "rougher.input.feed_rate                     rougher.input.feed_sol                        0.769742\n",
       "rougher.state.floatbank10_b_air             rougher.state.floatbank10_f_air               0.749224\n",
       "dtype: float64"
      ]
     },
     "execution_count": 43,
     "metadata": {},
     "output_type": "execute_result"
    }
   ],
   "source": [
    "corr=df_test.corr()\n",
    "c1= corr.abs().drop_duplicates().unstack().drop_duplicates()\n",
    "c1.sort_values(ascending = False).head(35)"
   ]
  },
  {
   "cell_type": "markdown",
   "metadata": {},
   "source": [
    "Удалим параметры, которые силно коррелируют с другими, для которых коэффициент корреляции больше 0.8. Чем меньше параметров, тем быстрее будут вычисляться модели и тем легче ее будет интерпретировать, если понадобится"
   ]
  },
  {
   "cell_type": "code",
   "execution_count": 44,
   "metadata": {},
   "outputs": [],
   "source": [
    "drop_col_name=[\n",
    " 'primary_cleaner.state.floatbank8_a_air',\n",
    " 'primary_cleaner.state.floatbank8_c_air',\n",
    " 'primary_cleaner.state.floatbank8_d_air',\n",
    " 'rougher.input.floatbank11_sulfate',\n",
    " 'rougher.input.floatbank11_xanthate',\n",
    " 'rougher.state.floatbank10_c_air',\n",
    " 'rougher.state.floatbank10_c_level',\n",
    " 'rougher.state.floatbank10_d_air',\n",
    " 'rougher.state.floatbank10_d_level',\n",
    " 'rougher.state.floatbank10_e_air',\n",
    " 'rougher.state.floatbank10_e_level',\n",
    " 'rougher.state.floatbank10_f_air',\n",
    " 'rougher.state.floatbank10_f_level',\n",
    " 'secondary_cleaner.state.floatbank2_b_air',\n",
    " 'secondary_cleaner.state.floatbank2_b_level',\n",
    " 'secondary_cleaner.state.floatbank3_b_air',\n",
    " 'secondary_cleaner.state.floatbank3_b_level',\n",
    " 'secondary_cleaner.state.floatbank4_b_air',\n",
    " 'secondary_cleaner.state.floatbank5_b_air'   \n",
    "]"
   ]
  },
  {
   "cell_type": "code",
   "execution_count": 45,
   "metadata": {},
   "outputs": [],
   "source": [
    "df_test=df_test.drop(columns=drop_col_name)"
   ]
  },
  {
   "cell_type": "code",
   "execution_count": 46,
   "metadata": {},
   "outputs": [
    {
     "data": {
      "text/plain": [
       "36"
      ]
     },
     "execution_count": 46,
     "metadata": {},
     "output_type": "execute_result"
    }
   ],
   "source": [
    "df_test.shape[1]"
   ]
  },
  {
   "cell_type": "markdown",
   "metadata": {},
   "source": [
    "В тренировочной выборке оставим только те колонки, которые есть в тестовой:"
   ]
  },
  {
   "cell_type": "code",
   "execution_count": 47,
   "metadata": {
    "scrolled": false
   },
   "outputs": [
    {
     "data": {
      "text/plain": [
       "Index(['date', 'primary_cleaner.input.sulfate',\n",
       "       'primary_cleaner.input.depressant', 'primary_cleaner.input.feed_size',\n",
       "       'primary_cleaner.input.xanthate',\n",
       "       'primary_cleaner.state.floatbank8_a_level',\n",
       "       'primary_cleaner.state.floatbank8_b_air',\n",
       "       'primary_cleaner.state.floatbank8_b_level',\n",
       "       'primary_cleaner.state.floatbank8_c_level',\n",
       "       'primary_cleaner.state.floatbank8_d_level', 'rougher.input.feed_ag',\n",
       "       'rougher.input.feed_pb', 'rougher.input.feed_rate',\n",
       "       'rougher.input.feed_size', 'rougher.input.feed_sol',\n",
       "       'rougher.input.feed_au', 'rougher.input.floatbank10_sulfate',\n",
       "       'rougher.input.floatbank10_xanthate', 'rougher.state.floatbank10_a_air',\n",
       "       'rougher.state.floatbank10_a_level', 'rougher.state.floatbank10_b_air',\n",
       "       'rougher.state.floatbank10_b_level',\n",
       "       'secondary_cleaner.state.floatbank2_a_air',\n",
       "       'secondary_cleaner.state.floatbank2_a_level',\n",
       "       'secondary_cleaner.state.floatbank3_a_air',\n",
       "       'secondary_cleaner.state.floatbank3_a_level',\n",
       "       'secondary_cleaner.state.floatbank4_a_air',\n",
       "       'secondary_cleaner.state.floatbank4_a_level',\n",
       "       'secondary_cleaner.state.floatbank4_b_level',\n",
       "       'secondary_cleaner.state.floatbank5_a_air',\n",
       "       'secondary_cleaner.state.floatbank5_a_level',\n",
       "       'secondary_cleaner.state.floatbank5_b_level',\n",
       "       'secondary_cleaner.state.floatbank6_a_air',\n",
       "       'secondary_cleaner.state.floatbank6_a_level', 'rougher.output.recovery',\n",
       "       'final.output.recovery'],\n",
       "      dtype='object')"
      ]
     },
     "execution_count": 47,
     "metadata": {},
     "output_type": "execute_result"
    }
   ],
   "source": [
    "df_train_features=df_train[df_test.columns]\n",
    "df_train_features.columns"
   ]
  },
  {
   "cell_type": "markdown",
   "metadata": {},
   "source": [
    "### Разбиение на подвыборки\n",
    "Выделим валидационную выборку из тренировочной, а затем сформируем из полученных выборок, два набора данных - для предсказания \"rougher.output.recovery\" и для предсказания \"final.output.recovery\""
   ]
  },
  {
   "cell_type": "markdown",
   "metadata": {},
   "source": [
    "#### для обучающей:"
   ]
  },
  {
   "cell_type": "code",
   "execution_count": 48,
   "metadata": {},
   "outputs": [],
   "source": [
    "features_r=df_train_features[[\n",
    "       'rougher.input.feed_ag',\n",
    "       'rougher.input.feed_pb', \n",
    "       'rougher.input.feed_rate',\n",
    "       'rougher.input.feed_size', \n",
    "       'rougher.input.feed_sol',\n",
    "       'rougher.input.feed_au', \n",
    "       'rougher.input.floatbank10_sulfate',\n",
    "       'rougher.input.floatbank10_xanthate',\n",
    "       'rougher.state.floatbank10_a_air',\n",
    "       'rougher.state.floatbank10_a_level', \n",
    "       'rougher.state.floatbank10_b_air',\n",
    "       'rougher.state.floatbank10_b_level',\n",
    "       ]]"
   ]
  },
  {
   "cell_type": "code",
   "execution_count": 49,
   "metadata": {},
   "outputs": [],
   "source": [
    "features_f=df_train_features[[\n",
    "       'primary_cleaner.input.sulfate',\n",
    "       'primary_cleaner.input.depressant', \n",
    "       'primary_cleaner.input.feed_size',\n",
    "       'primary_cleaner.input.xanthate',\n",
    "       'primary_cleaner.state.floatbank8_a_level',\n",
    "       'primary_cleaner.state.floatbank8_b_air',\n",
    "       'primary_cleaner.state.floatbank8_b_level',\n",
    "       'primary_cleaner.state.floatbank8_c_level',\n",
    "       'primary_cleaner.state.floatbank8_d_level', \n",
    "       'secondary_cleaner.state.floatbank2_a_air',\n",
    "       'secondary_cleaner.state.floatbank2_a_level',\n",
    "       'secondary_cleaner.state.floatbank3_a_air',\n",
    "       'secondary_cleaner.state.floatbank3_a_level',\n",
    "       'secondary_cleaner.state.floatbank4_a_air',\n",
    "       'secondary_cleaner.state.floatbank4_a_level',\n",
    "       'secondary_cleaner.state.floatbank4_b_level',\n",
    "       'secondary_cleaner.state.floatbank5_a_air',\n",
    "       'secondary_cleaner.state.floatbank5_a_level',\n",
    "       'secondary_cleaner.state.floatbank5_b_level',\n",
    "       'secondary_cleaner.state.floatbank6_a_air',\n",
    "       'secondary_cleaner.state.floatbank6_a_level'\n",
    "]]"
   ]
  },
  {
   "cell_type": "code",
   "execution_count": 50,
   "metadata": {},
   "outputs": [],
   "source": [
    "target_r=df_train['rougher.output.recovery']\n",
    "target_f=df_train['final.output.recovery']"
   ]
  },
  {
   "cell_type": "markdown",
   "metadata": {},
   "source": [
    "#### для тестовой:"
   ]
  },
  {
   "cell_type": "code",
   "execution_count": 51,
   "metadata": {},
   "outputs": [],
   "source": [
    "test_features_r=df_test[[\n",
    "       'rougher.input.feed_ag',\n",
    "       'rougher.input.feed_pb', \n",
    "       'rougher.input.feed_rate',\n",
    "       'rougher.input.feed_size', \n",
    "       'rougher.input.feed_sol',\n",
    "       'rougher.input.feed_au', \n",
    "       'rougher.input.floatbank10_sulfate',\n",
    "       'rougher.input.floatbank10_xanthate',\n",
    "       'rougher.state.floatbank10_a_air',\n",
    "       'rougher.state.floatbank10_a_level', \n",
    "       'rougher.state.floatbank10_b_air',\n",
    "       'rougher.state.floatbank10_b_level',\n",
    "       ]]"
   ]
  },
  {
   "cell_type": "code",
   "execution_count": 52,
   "metadata": {},
   "outputs": [],
   "source": [
    "test_features_f=df_test[[\n",
    "       'primary_cleaner.input.sulfate',\n",
    "       'primary_cleaner.input.depressant', \n",
    "       'primary_cleaner.input.feed_size',\n",
    "       'primary_cleaner.input.xanthate',\n",
    "       'primary_cleaner.state.floatbank8_a_level',\n",
    "       'primary_cleaner.state.floatbank8_b_air',\n",
    "       'primary_cleaner.state.floatbank8_b_level',\n",
    "       'primary_cleaner.state.floatbank8_c_level',\n",
    "       'primary_cleaner.state.floatbank8_d_level', \n",
    "       'secondary_cleaner.state.floatbank2_a_air',\n",
    "       'secondary_cleaner.state.floatbank2_a_level',\n",
    "       'secondary_cleaner.state.floatbank3_a_air',\n",
    "       'secondary_cleaner.state.floatbank3_a_level',\n",
    "       'secondary_cleaner.state.floatbank4_a_air',\n",
    "       'secondary_cleaner.state.floatbank4_a_level',\n",
    "       'secondary_cleaner.state.floatbank4_b_level',\n",
    "       'secondary_cleaner.state.floatbank5_a_air',\n",
    "       'secondary_cleaner.state.floatbank5_a_level',\n",
    "       'secondary_cleaner.state.floatbank5_b_level',\n",
    "       'secondary_cleaner.state.floatbank6_a_air',\n",
    "       'secondary_cleaner.state.floatbank6_a_level'\n",
    "]]"
   ]
  },
  {
   "cell_type": "code",
   "execution_count": 53,
   "metadata": {},
   "outputs": [],
   "source": [
    "test_target_r=df_test['rougher.output.recovery']\n",
    "test_target_f=df_test['final.output.recovery']"
   ]
  },
  {
   "cell_type": "markdown",
   "metadata": {},
   "source": [
    "### Масштабирование признаков"
   ]
  },
  {
   "cell_type": "code",
   "execution_count": 54,
   "metadata": {},
   "outputs": [],
   "source": [
    "features_train_f=features_f\n",
    "features_train_r=features_r"
   ]
  },
  {
   "cell_type": "code",
   "execution_count": 55,
   "metadata": {},
   "outputs": [],
   "source": [
    "numeric_r=features_train_r.columns\n",
    "numeric_f=features_train_f.columns"
   ]
  },
  {
   "cell_type": "code",
   "execution_count": 56,
   "metadata": {},
   "outputs": [],
   "source": [
    "scaler = StandardScaler()\n",
    "scaler.fit(features_train_r[numeric_r]) \n",
    "features_train_r[numeric_r] = scaler.transform(features_train_r[numeric_r])\n",
    "test_features_r[numeric_r] = scaler.transform(test_features_r[numeric_r]) "
   ]
  },
  {
   "cell_type": "code",
   "execution_count": 57,
   "metadata": {},
   "outputs": [],
   "source": [
    "scaler_1 = StandardScaler()\n",
    "scaler_1.fit(features_train_f[numeric_f]) \n",
    "features_train_f[numeric_f] = scaler_1.transform(features_train_f[numeric_f])\n",
    "test_features_f[numeric_f] = scaler_1.transform(test_features_f[numeric_f]) "
   ]
  },
  {
   "cell_type": "markdown",
   "metadata": {},
   "source": [
    "## Модель\n",
    "Для каждого целевого признака будем подбирать свою модель.\n",
    "Напишем функции для smape и для итогового smape по формулам:"
   ]
  },
  {
   "attachments": {
    "image.png": {
     "image/png": "[encoded data removed]"
    }
   },
   "cell_type": "markdown",
   "metadata": {},
   "source": [
    "![image.png](attachment:image.png)"
   ]
  },
  {
   "attachments": {
    "image.png": {
     "image/png": "[encoded data removed]"
    }
   },
   "cell_type": "markdown",
   "metadata": {},
   "source": [
    "![image.png](attachment:image.png)\n"
   ]
  },
  {
   "cell_type": "code",
   "execution_count": 58,
   "metadata": {},
   "outputs": [],
   "source": [
    "def smape(real_r_rec,pred_r_rec):\n",
    "    N=len(real_r_rec)\n",
    "    real_r_rec=real_r_rec.to_numpy() \n",
    "    sum_r=0\n",
    "    for i in range(N):\n",
    "        sum_r+=abs(real_r_rec[i]-pred_r_rec[i])/((abs(real_r_rec[i])+abs(pred_r_rec[i]))/2)\n",
    "        \n",
    "    sMAPE=sum_r/N*100\n",
    "    return  sMAPE"
   ]
  },
  {
   "cell_type": "code",
   "execution_count": 59,
   "metadata": {},
   "outputs": [],
   "source": [
    "def total_smape(sMAPE_rougher,sMAPE_final):\n",
    "    return ((1/4)*sMAPE_rougher)+((3/4)*sMAPE_final)"
   ]
  },
  {
   "cell_type": "code",
   "execution_count": 60,
   "metadata": {},
   "outputs": [],
   "source": [
    "smape_scorer = make_scorer(smape,greater_is_better=False) # для использования внутри cross_val_score и GridSearchCV/RandomizedSearchCV"
   ]
  },
  {
   "cell_type": "markdown",
   "metadata": {},
   "source": [
    "###  Сравнение моделей для предсказания 'rougher.output.recovery'"
   ]
  },
  {
   "cell_type": "markdown",
   "metadata": {},
   "source": [
    "####  Линейная регрессия"
   ]
  },
  {
   "cell_type": "code",
   "execution_count": 61,
   "metadata": {},
   "outputs": [
    {
     "data": {
      "text/html": [
       "<style>#sk-container-id-1 {color: black;background-color: white;}#sk-container-id-1 pre{padding: 0;}#sk-container-id-1 div.sk-toggleable {background-color: white;}#sk-container-id-1 label.sk-toggleable__label {cursor: pointer;display: block;width: 100%;margin-bottom: 0;padding: 0.3em;box-sizing: border-box;text-align: center;}#sk-container-id-1 label.sk-toggleable__label-arrow:before {content: \"▸\";float: left;margin-right: 0.25em;color: #696969;}#sk-container-id-1 label.sk-toggleable__label-arrow:hover:before {color: black;}#sk-container-id-1 div.sk-estimator:hover label.sk-toggleable__label-arrow:before {color: black;}#sk-container-id-1 div.sk-toggleable__content {max-height: 0;max-width: 0;overflow: hidden;text-align: left;background-color: #f0f8ff;}#sk-container-id-1 div.sk-toggleable__content pre {margin: 0.2em;color: black;border-radius: 0.25em;background-color: #f0f8ff;}#sk-container-id-1 input.sk-toggleable__control:checked~div.sk-toggleable__content {max-height: 200px;max-width: 100%;overflow: auto;}#sk-container-id-1 input.sk-toggleable__control:checked~label.sk-toggleable__label-arrow:before {content: \"▾\";}#sk-container-id-1 div.sk-estimator input.sk-toggleable__control:checked~label.sk-toggleable__label {background-color: #d4ebff;}#sk-container-id-1 div.sk-label input.sk-toggleable__control:checked~label.sk-toggleable__label {background-color: #d4ebff;}#sk-container-id-1 input.sk-hidden--visually {border: 0;clip: rect(1px 1px 1px 1px);clip: rect(1px, 1px, 1px, 1px);height: 1px;margin: -1px;overflow: hidden;padding: 0;position: absolute;width: 1px;}#sk-container-id-1 div.sk-estimator {font-family: monospace;background-color: #f0f8ff;border: 1px dotted black;border-radius: 0.25em;box-sizing: border-box;margin-bottom: 0.5em;}#sk-container-id-1 div.sk-estimator:hover {background-color: #d4ebff;}#sk-container-id-1 div.sk-parallel-item::after {content: \"\";width: 100%;border-bottom: 1px solid gray;flex-grow: 1;}#sk-container-id-1 div.sk-label:hover label.sk-toggleable__label {background-color: #d4ebff;}#sk-container-id-1 div.sk-serial::before {content: \"\";position: absolute;border-left: 1px solid gray;box-sizing: border-box;top: 0;bottom: 0;left: 50%;z-index: 0;}#sk-container-id-1 div.sk-serial {display: flex;flex-direction: column;align-items: center;background-color: white;padding-right: 0.2em;padding-left: 0.2em;position: relative;}#sk-container-id-1 div.sk-item {position: relative;z-index: 1;}#sk-container-id-1 div.sk-parallel {display: flex;align-items: stretch;justify-content: center;background-color: white;position: relative;}#sk-container-id-1 div.sk-item::before, #sk-container-id-1 div.sk-parallel-item::before {content: \"\";position: absolute;border-left: 1px solid gray;box-sizing: border-box;top: 0;bottom: 0;left: 50%;z-index: -1;}#sk-container-id-1 div.sk-parallel-item {display: flex;flex-direction: column;z-index: 1;position: relative;background-color: white;}#sk-container-id-1 div.sk-parallel-item:first-child::after {align-self: flex-end;width: 50%;}#sk-container-id-1 div.sk-parallel-item:last-child::after {align-self: flex-start;width: 50%;}#sk-container-id-1 div.sk-parallel-item:only-child::after {width: 0;}#sk-container-id-1 div.sk-dashed-wrapped {border: 1px dashed gray;margin: 0 0.4em 0.5em 0.4em;box-sizing: border-box;padding-bottom: 0.4em;background-color: white;}#sk-container-id-1 div.sk-label label {font-family: monospace;font-weight: bold;display: inline-block;line-height: 1.2em;}#sk-container-id-1 div.sk-label-container {text-align: center;}#sk-container-id-1 div.sk-container {/* jupyter's `normalize.less` sets `[hidden] { display: none; }` but bootstrap.min.css set `[hidden] { display: none !important; }` so we also need the `!important` here to be able to override the default hidden behavior on the sphinx rendered scikit-learn.org. See: https://github.com/scikit-learn/scikit-learn/issues/21755 */display: inline-block !important;position: relative;}#sk-container-id-1 div.sk-text-repr-fallback {display: none;}</style><div id=\"sk-container-id-1\" class=\"sk-top-container\"><div class=\"sk-text-repr-fallback\"><pre>LinearRegression()</pre><b>In a Jupyter environment, please rerun this cell to show the HTML representation or trust the notebook. <br />On GitHub, the HTML representation is unable to render, please try loading this page with nbviewer.org.</b></div><div class=\"sk-container\" hidden><div class=\"sk-item\"><div class=\"sk-estimator sk-toggleable\"><input class=\"sk-toggleable__control sk-hidden--visually\" id=\"sk-estimator-id-1\" type=\"checkbox\" checked><label for=\"sk-estimator-id-1\" class=\"sk-toggleable__label sk-toggleable__label-arrow\">LinearRegression</label><div class=\"sk-toggleable__content\"><pre>LinearRegression()</pre></div></div></div></div></div>"
      ],
      "text/plain": [
       "LinearRegression()"
      ]
     },
     "execution_count": 61,
     "metadata": {},
     "output_type": "execute_result"
    }
   ],
   "source": [
    "model_l = LinearRegression()\n",
    "model_l.fit(features_train_r,target_r)"
   ]
  },
  {
   "cell_type": "markdown",
   "metadata": {},
   "source": [
    "Оценим модель кросвалидацией:"
   ]
  },
  {
   "cell_type": "code",
   "execution_count": 62,
   "metadata": {},
   "outputs": [
    {
     "name": "stdout",
     "output_type": "stream",
     "text": [
      "5.759671702706953\n"
     ]
    }
   ],
   "source": [
    "print(-(cross_val_score(model_l, features_train_r, target_r, cv=8, scoring=smape_scorer).mean()))"
   ]
  },
  {
   "cell_type": "markdown",
   "metadata": {},
   "source": [
    "####  Случайный лес"
   ]
  },
  {
   "cell_type": "code",
   "execution_count": 63,
   "metadata": {},
   "outputs": [],
   "source": [
    "#границы для подбора ГП СЛ\n",
    "parametrs = { 'n_estimators': range (30, 50, 2), \n",
    "              'max_depth': range (16,20,2),\n",
    "            }    \n",
    "\n",
    "c_v=3 #c_v  - количество разбиений на кросс-валидацию  "
   ]
  },
  {
   "cell_type": "code",
   "execution_count": 64,
   "metadata": {},
   "outputs": [
    {
     "name": "stdout",
     "output_type": "stream",
     "text": [
      "CPU times: total: 4min 56s\n",
      "Wall time: 4min 56s\n"
     ]
    },
    {
     "data": {
      "text/html": [
       "<style>#sk-container-id-2 {color: black;background-color: white;}#sk-container-id-2 pre{padding: 0;}#sk-container-id-2 div.sk-toggleable {background-color: white;}#sk-container-id-2 label.sk-toggleable__label {cursor: pointer;display: block;width: 100%;margin-bottom: 0;padding: 0.3em;box-sizing: border-box;text-align: center;}#sk-container-id-2 label.sk-toggleable__label-arrow:before {content: \"▸\";float: left;margin-right: 0.25em;color: #696969;}#sk-container-id-2 label.sk-toggleable__label-arrow:hover:before {color: black;}#sk-container-id-2 div.sk-estimator:hover label.sk-toggleable__label-arrow:before {color: black;}#sk-container-id-2 div.sk-toggleable__content {max-height: 0;max-width: 0;overflow: hidden;text-align: left;background-color: #f0f8ff;}#sk-container-id-2 div.sk-toggleable__content pre {margin: 0.2em;color: black;border-radius: 0.25em;background-color: #f0f8ff;}#sk-container-id-2 input.sk-toggleable__control:checked~div.sk-toggleable__content {max-height: 200px;max-width: 100%;overflow: auto;}#sk-container-id-2 input.sk-toggleable__control:checked~label.sk-toggleable__label-arrow:before {content: \"▾\";}#sk-container-id-2 div.sk-estimator input.sk-toggleable__control:checked~label.sk-toggleable__label {background-color: #d4ebff;}#sk-container-id-2 div.sk-label input.sk-toggleable__control:checked~label.sk-toggleable__label {background-color: #d4ebff;}#sk-container-id-2 input.sk-hidden--visually {border: 0;clip: rect(1px 1px 1px 1px);clip: rect(1px, 1px, 1px, 1px);height: 1px;margin: -1px;overflow: hidden;padding: 0;position: absolute;width: 1px;}#sk-container-id-2 div.sk-estimator {font-family: monospace;background-color: #f0f8ff;border: 1px dotted black;border-radius: 0.25em;box-sizing: border-box;margin-bottom: 0.5em;}#sk-container-id-2 div.sk-estimator:hover {background-color: #d4ebff;}#sk-container-id-2 div.sk-parallel-item::after {content: \"\";width: 100%;border-bottom: 1px solid gray;flex-grow: 1;}#sk-container-id-2 div.sk-label:hover label.sk-toggleable__label {background-color: #d4ebff;}#sk-container-id-2 div.sk-serial::before {content: \"\";position: absolute;border-left: 1px solid gray;box-sizing: border-box;top: 0;bottom: 0;left: 50%;z-index: 0;}#sk-container-id-2 div.sk-serial {display: flex;flex-direction: column;align-items: center;background-color: white;padding-right: 0.2em;padding-left: 0.2em;position: relative;}#sk-container-id-2 div.sk-item {position: relative;z-index: 1;}#sk-container-id-2 div.sk-parallel {display: flex;align-items: stretch;justify-content: center;background-color: white;position: relative;}#sk-container-id-2 div.sk-item::before, #sk-container-id-2 div.sk-parallel-item::before {content: \"\";position: absolute;border-left: 1px solid gray;box-sizing: border-box;top: 0;bottom: 0;left: 50%;z-index: -1;}#sk-container-id-2 div.sk-parallel-item {display: flex;flex-direction: column;z-index: 1;position: relative;background-color: white;}#sk-container-id-2 div.sk-parallel-item:first-child::after {align-self: flex-end;width: 50%;}#sk-container-id-2 div.sk-parallel-item:last-child::after {align-self: flex-start;width: 50%;}#sk-container-id-2 div.sk-parallel-item:only-child::after {width: 0;}#sk-container-id-2 div.sk-dashed-wrapped {border: 1px dashed gray;margin: 0 0.4em 0.5em 0.4em;box-sizing: border-box;padding-bottom: 0.4em;background-color: white;}#sk-container-id-2 div.sk-label label {font-family: monospace;font-weight: bold;display: inline-block;line-height: 1.2em;}#sk-container-id-2 div.sk-label-container {text-align: center;}#sk-container-id-2 div.sk-container {/* jupyter's `normalize.less` sets `[hidden] { display: none; }` but bootstrap.min.css set `[hidden] { display: none !important; }` so we also need the `!important` here to be able to override the default hidden behavior on the sphinx rendered scikit-learn.org. See: https://github.com/scikit-learn/scikit-learn/issues/21755 */display: inline-block !important;position: relative;}#sk-container-id-2 div.sk-text-repr-fallback {display: none;}</style><div id=\"sk-container-id-2\" class=\"sk-top-container\"><div class=\"sk-text-repr-fallback\"><pre>GridSearchCV(cv=3, estimator=RandomForestRegressor(random_state=12345),\n",
       "             param_grid={&#x27;max_depth&#x27;: range(16, 20, 2),\n",
       "                         &#x27;n_estimators&#x27;: range(30, 50, 2)},\n",
       "             scoring=make_scorer(smape, greater_is_better=False))</pre><b>In a Jupyter environment, please rerun this cell to show the HTML representation or trust the notebook. <br />On GitHub, the HTML representation is unable to render, please try loading this page with nbviewer.org.</b></div><div class=\"sk-container\" hidden><div class=\"sk-item sk-dashed-wrapped\"><div class=\"sk-label-container\"><div class=\"sk-label sk-toggleable\"><input class=\"sk-toggleable__control sk-hidden--visually\" id=\"sk-estimator-id-2\" type=\"checkbox\" ><label for=\"sk-estimator-id-2\" class=\"sk-toggleable__label sk-toggleable__label-arrow\">GridSearchCV</label><div class=\"sk-toggleable__content\"><pre>GridSearchCV(cv=3, estimator=RandomForestRegressor(random_state=12345),\n",
       "             param_grid={&#x27;max_depth&#x27;: range(16, 20, 2),\n",
       "                         &#x27;n_estimators&#x27;: range(30, 50, 2)},\n",
       "             scoring=make_scorer(smape, greater_is_better=False))</pre></div></div></div><div class=\"sk-parallel\"><div class=\"sk-parallel-item\"><div class=\"sk-item\"><div class=\"sk-label-container\"><div class=\"sk-label sk-toggleable\"><input class=\"sk-toggleable__control sk-hidden--visually\" id=\"sk-estimator-id-3\" type=\"checkbox\" ><label for=\"sk-estimator-id-3\" class=\"sk-toggleable__label sk-toggleable__label-arrow\">estimator: RandomForestRegressor</label><div class=\"sk-toggleable__content\"><pre>RandomForestRegressor(random_state=12345)</pre></div></div></div><div class=\"sk-serial\"><div class=\"sk-item\"><div class=\"sk-estimator sk-toggleable\"><input class=\"sk-toggleable__control sk-hidden--visually\" id=\"sk-estimator-id-4\" type=\"checkbox\" ><label for=\"sk-estimator-id-4\" class=\"sk-toggleable__label sk-toggleable__label-arrow\">RandomForestRegressor</label><div class=\"sk-toggleable__content\"><pre>RandomForestRegressor(random_state=12345)</pre></div></div></div></div></div></div></div></div></div></div>"
      ],
      "text/plain": [
       "GridSearchCV(cv=3, estimator=RandomForestRegressor(random_state=12345),\n",
       "             param_grid={'max_depth': range(16, 20, 2),\n",
       "                         'n_estimators': range(30, 50, 2)},\n",
       "             scoring=make_scorer(smape, greater_is_better=False))"
      ]
     },
     "execution_count": 64,
     "metadata": {},
     "output_type": "execute_result"
    }
   ],
   "source": [
    "%%time\n",
    "m_forest=RandomForestRegressor(random_state=12345)\n",
    "grid = GridSearchCV(m_forest, parametrs, cv=c_v,scoring=smape_scorer,verbose=0)   \n",
    "grid.fit(features_train_r,target_r) "
   ]
  },
  {
   "cell_type": "code",
   "execution_count": 65,
   "metadata": {
    "scrolled": true
   },
   "outputs": [
    {
     "name": "stdout",
     "output_type": "stream",
     "text": [
      "forest_sMAPE_r: 7.5542278302854955\n",
      "-------------------------------------\n",
      "Model: RandomForestRegressor(max_depth=18, n_estimators=32, random_state=12345)\n"
     ]
    }
   ],
   "source": [
    "print('forest_sMAPE_r:',-(grid.best_score_))\n",
    "print('-'*37)\n",
    "print('Model:', grid.best_estimator_)"
   ]
  },
  {
   "cell_type": "markdown",
   "metadata": {},
   "source": [
    "###  Сравнение моделей для предсказания 'final.output.recovery'"
   ]
  },
  {
   "cell_type": "code",
   "execution_count": 66,
   "metadata": {
    "scrolled": true
   },
   "outputs": [
    {
     "data": {
      "text/html": [
       "<style>#sk-container-id-3 {color: black;background-color: white;}#sk-container-id-3 pre{padding: 0;}#sk-container-id-3 div.sk-toggleable {background-color: white;}#sk-container-id-3 label.sk-toggleable__label {cursor: pointer;display: block;width: 100%;margin-bottom: 0;padding: 0.3em;box-sizing: border-box;text-align: center;}#sk-container-id-3 label.sk-toggleable__label-arrow:before {content: \"▸\";float: left;margin-right: 0.25em;color: #696969;}#sk-container-id-3 label.sk-toggleable__label-arrow:hover:before {color: black;}#sk-container-id-3 div.sk-estimator:hover label.sk-toggleable__label-arrow:before {color: black;}#sk-container-id-3 div.sk-toggleable__content {max-height: 0;max-width: 0;overflow: hidden;text-align: left;background-color: #f0f8ff;}#sk-container-id-3 div.sk-toggleable__content pre {margin: 0.2em;color: black;border-radius: 0.25em;background-color: #f0f8ff;}#sk-container-id-3 input.sk-toggleable__control:checked~div.sk-toggleable__content {max-height: 200px;max-width: 100%;overflow: auto;}#sk-container-id-3 input.sk-toggleable__control:checked~label.sk-toggleable__label-arrow:before {content: \"▾\";}#sk-container-id-3 div.sk-estimator input.sk-toggleable__control:checked~label.sk-toggleable__label {background-color: #d4ebff;}#sk-container-id-3 div.sk-label input.sk-toggleable__control:checked~label.sk-toggleable__label {background-color: #d4ebff;}#sk-container-id-3 input.sk-hidden--visually {border: 0;clip: rect(1px 1px 1px 1px);clip: rect(1px, 1px, 1px, 1px);height: 1px;margin: -1px;overflow: hidden;padding: 0;position: absolute;width: 1px;}#sk-container-id-3 div.sk-estimator {font-family: monospace;background-color: #f0f8ff;border: 1px dotted black;border-radius: 0.25em;box-sizing: border-box;margin-bottom: 0.5em;}#sk-container-id-3 div.sk-estimator:hover {background-color: #d4ebff;}#sk-container-id-3 div.sk-parallel-item::after {content: \"\";width: 100%;border-bottom: 1px solid gray;flex-grow: 1;}#sk-container-id-3 div.sk-label:hover label.sk-toggleable__label {background-color: #d4ebff;}#sk-container-id-3 div.sk-serial::before {content: \"\";position: absolute;border-left: 1px solid gray;box-sizing: border-box;top: 0;bottom: 0;left: 50%;z-index: 0;}#sk-container-id-3 div.sk-serial {display: flex;flex-direction: column;align-items: center;background-color: white;padding-right: 0.2em;padding-left: 0.2em;position: relative;}#sk-container-id-3 div.sk-item {position: relative;z-index: 1;}#sk-container-id-3 div.sk-parallel {display: flex;align-items: stretch;justify-content: center;background-color: white;position: relative;}#sk-container-id-3 div.sk-item::before, #sk-container-id-3 div.sk-parallel-item::before {content: \"\";position: absolute;border-left: 1px solid gray;box-sizing: border-box;top: 0;bottom: 0;left: 50%;z-index: -1;}#sk-container-id-3 div.sk-parallel-item {display: flex;flex-direction: column;z-index: 1;position: relative;background-color: white;}#sk-container-id-3 div.sk-parallel-item:first-child::after {align-self: flex-end;width: 50%;}#sk-container-id-3 div.sk-parallel-item:last-child::after {align-self: flex-start;width: 50%;}#sk-container-id-3 div.sk-parallel-item:only-child::after {width: 0;}#sk-container-id-3 div.sk-dashed-wrapped {border: 1px dashed gray;margin: 0 0.4em 0.5em 0.4em;box-sizing: border-box;padding-bottom: 0.4em;background-color: white;}#sk-container-id-3 div.sk-label label {font-family: monospace;font-weight: bold;display: inline-block;line-height: 1.2em;}#sk-container-id-3 div.sk-label-container {text-align: center;}#sk-container-id-3 div.sk-container {/* jupyter's `normalize.less` sets `[hidden] { display: none; }` but bootstrap.min.css set `[hidden] { display: none !important; }` so we also need the `!important` here to be able to override the default hidden behavior on the sphinx rendered scikit-learn.org. See: https://github.com/scikit-learn/scikit-learn/issues/21755 */display: inline-block !important;position: relative;}#sk-container-id-3 div.sk-text-repr-fallback {display: none;}</style><div id=\"sk-container-id-3\" class=\"sk-top-container\"><div class=\"sk-text-repr-fallback\"><pre>LinearRegression()</pre><b>In a Jupyter environment, please rerun this cell to show the HTML representation or trust the notebook. <br />On GitHub, the HTML representation is unable to render, please try loading this page with nbviewer.org.</b></div><div class=\"sk-container\" hidden><div class=\"sk-item\"><div class=\"sk-estimator sk-toggleable\"><input class=\"sk-toggleable__control sk-hidden--visually\" id=\"sk-estimator-id-5\" type=\"checkbox\" checked><label for=\"sk-estimator-id-5\" class=\"sk-toggleable__label sk-toggleable__label-arrow\">LinearRegression</label><div class=\"sk-toggleable__content\"><pre>LinearRegression()</pre></div></div></div></div></div>"
      ],
      "text/plain": [
       "LinearRegression()"
      ]
     },
     "execution_count": 66,
     "metadata": {},
     "output_type": "execute_result"
    }
   ],
   "source": [
    "model = LinearRegression()\n",
    "model.fit(features_train_f,target_f)"
   ]
  },
  {
   "cell_type": "markdown",
   "metadata": {},
   "source": [
    "Оценим модель кросвалидацией:"
   ]
  },
  {
   "cell_type": "code",
   "execution_count": 67,
   "metadata": {},
   "outputs": [
    {
     "name": "stdout",
     "output_type": "stream",
     "text": [
      "9.280167806237401\n"
     ]
    }
   ],
   "source": [
    "print(-(cross_val_score(model, features_train_f, target_f, cv=5, scoring=smape_scorer).mean()))"
   ]
  },
  {
   "cell_type": "markdown",
   "metadata": {},
   "source": [
    "####  Случайный лес"
   ]
  },
  {
   "cell_type": "code",
   "execution_count": 68,
   "metadata": {},
   "outputs": [],
   "source": [
    "#границы для подбора ГП СЛ\n",
    "parametrs2 = { 'n_estimators': range (30, 50, 2), \n",
    "              'max_depth': range (6,16,2),\n",
    "            }    \n",
    "\n",
    "c_v=3 #c_v  - количество разбиений на кросс-валидацию  "
   ]
  },
  {
   "cell_type": "code",
   "execution_count": 69,
   "metadata": {},
   "outputs": [
    {
     "data": {
      "text/html": [
       "<style>#sk-container-id-4 {color: black;background-color: white;}#sk-container-id-4 pre{padding: 0;}#sk-container-id-4 div.sk-toggleable {background-color: white;}#sk-container-id-4 label.sk-toggleable__label {cursor: pointer;display: block;width: 100%;margin-bottom: 0;padding: 0.3em;box-sizing: border-box;text-align: center;}#sk-container-id-4 label.sk-toggleable__label-arrow:before {content: \"▸\";float: left;margin-right: 0.25em;color: #696969;}#sk-container-id-4 label.sk-toggleable__label-arrow:hover:before {color: black;}#sk-container-id-4 div.sk-estimator:hover label.sk-toggleable__label-arrow:before {color: black;}#sk-container-id-4 div.sk-toggleable__content {max-height: 0;max-width: 0;overflow: hidden;text-align: left;background-color: #f0f8ff;}#sk-container-id-4 div.sk-toggleable__content pre {margin: 0.2em;color: black;border-radius: 0.25em;background-color: #f0f8ff;}#sk-container-id-4 input.sk-toggleable__control:checked~div.sk-toggleable__content {max-height: 200px;max-width: 100%;overflow: auto;}#sk-container-id-4 input.sk-toggleable__control:checked~label.sk-toggleable__label-arrow:before {content: \"▾\";}#sk-container-id-4 div.sk-estimator input.sk-toggleable__control:checked~label.sk-toggleable__label {background-color: #d4ebff;}#sk-container-id-4 div.sk-label input.sk-toggleable__control:checked~label.sk-toggleable__label {background-color: #d4ebff;}#sk-container-id-4 input.sk-hidden--visually {border: 0;clip: rect(1px 1px 1px 1px);clip: rect(1px, 1px, 1px, 1px);height: 1px;margin: -1px;overflow: hidden;padding: 0;position: absolute;width: 1px;}#sk-container-id-4 div.sk-estimator {font-family: monospace;background-color: #f0f8ff;border: 1px dotted black;border-radius: 0.25em;box-sizing: border-box;margin-bottom: 0.5em;}#sk-container-id-4 div.sk-estimator:hover {background-color: #d4ebff;}#sk-container-id-4 div.sk-parallel-item::after {content: \"\";width: 100%;border-bottom: 1px solid gray;flex-grow: 1;}#sk-container-id-4 div.sk-label:hover label.sk-toggleable__label {background-color: #d4ebff;}#sk-container-id-4 div.sk-serial::before {content: \"\";position: absolute;border-left: 1px solid gray;box-sizing: border-box;top: 0;bottom: 0;left: 50%;z-index: 0;}#sk-container-id-4 div.sk-serial {display: flex;flex-direction: column;align-items: center;background-color: white;padding-right: 0.2em;padding-left: 0.2em;position: relative;}#sk-container-id-4 div.sk-item {position: relative;z-index: 1;}#sk-container-id-4 div.sk-parallel {display: flex;align-items: stretch;justify-content: center;background-color: white;position: relative;}#sk-container-id-4 div.sk-item::before, #sk-container-id-4 div.sk-parallel-item::before {content: \"\";position: absolute;border-left: 1px solid gray;box-sizing: border-box;top: 0;bottom: 0;left: 50%;z-index: -1;}#sk-container-id-4 div.sk-parallel-item {display: flex;flex-direction: column;z-index: 1;position: relative;background-color: white;}#sk-container-id-4 div.sk-parallel-item:first-child::after {align-self: flex-end;width: 50%;}#sk-container-id-4 div.sk-parallel-item:last-child::after {align-self: flex-start;width: 50%;}#sk-container-id-4 div.sk-parallel-item:only-child::after {width: 0;}#sk-container-id-4 div.sk-dashed-wrapped {border: 1px dashed gray;margin: 0 0.4em 0.5em 0.4em;box-sizing: border-box;padding-bottom: 0.4em;background-color: white;}#sk-container-id-4 div.sk-label label {font-family: monospace;font-weight: bold;display: inline-block;line-height: 1.2em;}#sk-container-id-4 div.sk-label-container {text-align: center;}#sk-container-id-4 div.sk-container {/* jupyter's `normalize.less` sets `[hidden] { display: none; }` but bootstrap.min.css set `[hidden] { display: none !important; }` so we also need the `!important` here to be able to override the default hidden behavior on the sphinx rendered scikit-learn.org. See: https://github.com/scikit-learn/scikit-learn/issues/21755 */display: inline-block !important;position: relative;}#sk-container-id-4 div.sk-text-repr-fallback {display: none;}</style><div id=\"sk-container-id-4\" class=\"sk-top-container\"><div class=\"sk-text-repr-fallback\"><pre>GridSearchCV(cv=3, estimator=RandomForestRegressor(random_state=12345),\n",
       "             param_grid={&#x27;max_depth&#x27;: range(6, 16, 2),\n",
       "                         &#x27;n_estimators&#x27;: range(30, 50, 2)},\n",
       "             scoring=make_scorer(smape, greater_is_better=False))</pre><b>In a Jupyter environment, please rerun this cell to show the HTML representation or trust the notebook. <br />On GitHub, the HTML representation is unable to render, please try loading this page with nbviewer.org.</b></div><div class=\"sk-container\" hidden><div class=\"sk-item sk-dashed-wrapped\"><div class=\"sk-label-container\"><div class=\"sk-label sk-toggleable\"><input class=\"sk-toggleable__control sk-hidden--visually\" id=\"sk-estimator-id-6\" type=\"checkbox\" ><label for=\"sk-estimator-id-6\" class=\"sk-toggleable__label sk-toggleable__label-arrow\">GridSearchCV</label><div class=\"sk-toggleable__content\"><pre>GridSearchCV(cv=3, estimator=RandomForestRegressor(random_state=12345),\n",
       "             param_grid={&#x27;max_depth&#x27;: range(6, 16, 2),\n",
       "                         &#x27;n_estimators&#x27;: range(30, 50, 2)},\n",
       "             scoring=make_scorer(smape, greater_is_better=False))</pre></div></div></div><div class=\"sk-parallel\"><div class=\"sk-parallel-item\"><div class=\"sk-item\"><div class=\"sk-label-container\"><div class=\"sk-label sk-toggleable\"><input class=\"sk-toggleable__control sk-hidden--visually\" id=\"sk-estimator-id-7\" type=\"checkbox\" ><label for=\"sk-estimator-id-7\" class=\"sk-toggleable__label sk-toggleable__label-arrow\">estimator: RandomForestRegressor</label><div class=\"sk-toggleable__content\"><pre>RandomForestRegressor(random_state=12345)</pre></div></div></div><div class=\"sk-serial\"><div class=\"sk-item\"><div class=\"sk-estimator sk-toggleable\"><input class=\"sk-toggleable__control sk-hidden--visually\" id=\"sk-estimator-id-8\" type=\"checkbox\" ><label for=\"sk-estimator-id-8\" class=\"sk-toggleable__label sk-toggleable__label-arrow\">RandomForestRegressor</label><div class=\"sk-toggleable__content\"><pre>RandomForestRegressor(random_state=12345)</pre></div></div></div></div></div></div></div></div></div></div>"
      ],
      "text/plain": [
       "GridSearchCV(cv=3, estimator=RandomForestRegressor(random_state=12345),\n",
       "             param_grid={'max_depth': range(6, 16, 2),\n",
       "                         'n_estimators': range(30, 50, 2)},\n",
       "             scoring=make_scorer(smape, greater_is_better=False))"
      ]
     },
     "execution_count": 69,
     "metadata": {},
     "output_type": "execute_result"
    }
   ],
   "source": [
    "#### %%time\n",
    "\n",
    "m_forest_f=RandomForestRegressor(random_state=12345)\n",
    "grid_f = GridSearchCV(m_forest, parametrs2, cv=c_v,scoring=smape_scorer,verbose=0)  #cv  - количество разбиений на кросс-валидацию  \n",
    "grid_f.fit(features_train_f,target_f) "
   ]
  },
  {
   "cell_type": "code",
   "execution_count": 70,
   "metadata": {},
   "outputs": [
    {
     "name": "stdout",
     "output_type": "stream",
     "text": [
      "forest_sMAPE_f: 10.066340908623395\n",
      "-------------------------------------\n",
      "Model: RandomForestRegressor(max_depth=6, n_estimators=36, random_state=12345)\n"
     ]
    }
   ],
   "source": [
    "print('forest_sMAPE_f:',-(grid_f.best_score_))\n",
    "print('-'*37)\n",
    "print('Model:', grid_f.best_estimator_)"
   ]
  },
  {
   "cell_type": "markdown",
   "metadata": {},
   "source": [
    "Вывод: для обоих целевых признаков лучшими моделями оказались модели класса \"лиейная регрессия\"."
   ]
  },
  {
   "cell_type": "markdown",
   "metadata": {},
   "source": [
    "###  Тестирование\n"
   ]
  },
  {
   "cell_type": "markdown",
   "metadata": {},
   "source": [
    "Чтобы рассчитать итоговое sMAPE для тестовой выборки, необходимо сначала рассчитать предсказания целевых признаков для этой выборки и sMAPE для этих признаков:"
   ]
  },
  {
   "cell_type": "markdown",
   "metadata": {},
   "source": [
    "Модели класса \"лиейная регресия\":"
   ]
  },
  {
   "cell_type": "code",
   "execution_count": 71,
   "metadata": {},
   "outputs": [
    {
     "name": "stdout",
     "output_type": "stream",
     "text": [
      "linear_smape_total: 8.739257277957785\n"
     ]
    }
   ],
   "source": [
    "predict_test_f=model.predict(test_features_f)\n",
    "predict_test_r=model_l.predict(test_features_r)\n",
    "smape_r=smape(test_target_r, predict_test_r)\n",
    "smape_f=smape(test_target_f, predict_test_f)\n",
    "print('linear_smape_total:',total_smape(smape_r,smape_f))"
   ]
  },
  {
   "cell_type": "markdown",
   "metadata": {},
   "source": [
    "Для константных моделей:\n"
   ]
  },
  {
   "cell_type": "code",
   "execution_count": 72,
   "metadata": {},
   "outputs": [
    {
     "name": "stdout",
     "output_type": "stream",
     "text": [
      "dummy_smape_total: 9.18287880409494\n"
     ]
    }
   ],
   "source": [
    "dummy_regr_f = DummyRegressor(strategy=\"mean\")\n",
    "dummy_regr_f.fit(features_train_f,target_f)\n",
    "dummy_regr = DummyRegressor(strategy=\"mean\")\n",
    "dummy_regr.fit(features_train_r,target_r)\n",
    "\n",
    "dummy_predict_test_r=dummy_regr.predict(test_features_r)\n",
    "dummy_predict_test_f=dummy_regr_f.predict(test_features_f)\n",
    "dummy_smape_r=smape(test_target_r, dummy_predict_test_r)\n",
    "dummy_smape_f=smape(test_target_f, dummy_predict_test_f)\n",
    "print('dummy_smape_total:',total_smape(dummy_smape_r,dummy_smape_f))"
   ]
  },
  {
   "cell_type": "markdown",
   "metadata": {},
   "source": [
    "## Выводы:"
   ]
  },
  {
   "cell_type": "markdown",
   "metadata": {},
   "source": [
    "В ходе работы над проектом были решены следующие задачи:\n",
    "\n",
    "- Заполнены пропущенные значения, там где это необходимо и возможно\n",
    "- Проверена формула вычисления эффективности обогащения\n",
    "- Проанализированы признаки, недоступные в тестовой выборке\n",
    "- Исследовано изменение концентрации элементов на каждом этапе\n",
    "- Проанализированы распределения размеров гранул на обучающей и тестовой выборках\n",
    "- Исследованы суммарные концентрации\n",
    "- Написана функция для вычисления итогового sMAPE\n",
    "- Обучено и проверено несколько моделей\n",
    "- Выбрана лучшая модель, её качество проверено на тестовой выборке\n",
    "\n",
    "Для каждого целевого признака выбрана лучшая модель из нескольких. Качество моделей оценивалось крос-валидацией. Лучшими, в обоих случаях, оказались модели линейной регрессии. Качество на тестировании у выбранной модели - лучше, чем у константной, что говорит об ее адекватности "
   ]
  }
 ],
 "metadata": {
  "ExecuteTimeLog": [
   {
    "duration": 13,
    "start_time": "2023-01-22T10:03:12.260Z"
   },
   {
    "duration": 9,
    "start_time": "2023-01-22T14:20:47.066Z"
   },
   {
    "duration": 293,
    "start_time": "2023-01-22T14:20:55.109Z"
   },
   {
    "duration": 3,
    "start_time": "2023-01-22T14:21:02.918Z"
   },
   {
    "duration": 9,
    "start_time": "2023-01-22T14:21:04.050Z"
   }
  ],
  "kernelspec": {
   "display_name": "Python 3 (ipykernel)",
   "language": "python",
   "name": "python3"
  },
  "language_info": {
   "codemirror_mode": {
    "name": "ipython",
    "version": 3
   },
   "file_extension": ".py",
   "mimetype": "text/x-python",
   "name": "python",
   "nbconvert_exporter": "python",
   "pygments_lexer": "ipython3",
   "version": "3.9.12"
  },
  "toc": {
   "base_numbering": 1,
   "nav_menu": {},
   "number_sections": true,
   "sideBar": true,
   "skip_h1_title": true,
   "title_cell": "Содержание",
   "title_sidebar": "Contents",
   "toc_cell": true,
   "toc_position": {
    "height": "674.531px",
    "left": "59px",
    "top": "111.047px",
    "width": "508.963px"
   },
   "toc_section_display": true,
   "toc_window_display": true
  }
 },
 "nbformat": 4,
 "nbformat_minor": 2
}
